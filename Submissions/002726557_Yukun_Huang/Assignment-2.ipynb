{
 "cells": [
  {
   "cell_type": "markdown",
   "metadata": {},
   "source": [
    "# Assignment-2"
   ]
  },
  {
   "cell_type": "markdown",
   "metadata": {},
   "source": [
    "Q1.  \n",
    "Use Prim's algorithm and Kruskal's algorithm to find a minimum spanning tree for the connected weighted graph below:  \n",
    "    A    B    C    D    E    F    G  \n",
    "A {0, 12, N, N, N, 16, 14},  \n",
    "B {12, 0, 10, N, N, 7, N},  \n",
    "C {N, 10, 0, 3, 5, 6, N},  \n",
    "D {N, N, 3, 0, 4, N, N},  \n",
    "E {N, N, 5, 4, 0, 2, 8},  \n",
    "F {16, 07, N, N, 2, 0, 9},  \n",
    "G {14, N, N, N, 8, 9, 0}  \n"
   ]
  },
  {
   "cell_type": "markdown",
   "metadata": {},
   "source": [
    "Solution:  \n",
    "Prim's algorithm:  \n",
    "1. Connect E-F (2)  \n",
    "2. Connect C-D (3)  \n",
    "3. Connect D-E (4)  \n",
    "4. Connect B-F (7)  \n",
    "5. Connect E-G (8)  \n",
    "6. Connect A-B (12)  \n",
    "\n",
    "Kruskal's algorithm:  \n",
    "1. Connect A-B (12)\n",
    "2. Connect B-F (7)\n",
    "3. Connect F-E (2)\n",
    "4. Connect E-D (4)\n",
    "5. Connect D-C (3)\n",
    "6. Connect E-G (8)\n",
    "\n"
   ]
  },
  {
   "cell_type": "markdown",
   "metadata": {},
   "source": [
    "Q2.  \n",
    "You have the following courses to take. The adjacency matrix below represents the courses that can be taken after this class is completed. Please provide a valid order in which you can finish all the courses.  \n",
    "[0, 0, 1, 0, 0, 0, 0, 1, 0  \n",
    " 0, 0, 1, 0, 1, 0, 0, 0, 0  \n",
    " 0, 0, 0, 1, 0, 0, 0, 0, 0  \n",
    " 0, 0, 0, 0, 0, 1, 1, 0, 0  \n",
    " 0, 0, 0, 1, 0, 1, 0, 0, 0  \n",
    " 0, 0, 0, 0, 0, 0, 0, 0, 0  \n",
    " 0, 0, 0, 0, 0, 0, 0, 0, 0  \n",
    " 0, 0, 0, 0, 0, 0, 0, 0, 1  \n",
    " 0, 0, 0, 0, 0, 0, 1, 0, 0]  "
   ]
  },
  {
   "cell_type": "markdown",
   "metadata": {},
   "source": [
    "Solution:  \n",
    "L= {}  \n",
    "Remove 1, L= {1};  \n",
    "Remove 2, L= {1, 2};  \n",
    "Remove 3, L= {1, 2, 3};  \n",
    "Remove 5, L= {1, 2, 3, 5};  \n",
    "Remove 8, L= {1, 2, 3, 5, 8};  \n",
    "Remove 4, L= {1, 2, 3, 5, 8, 4};  \n",
    "Remove 9, L= {1, 2, 3, 5, 8, 4, 9};  \n",
    "Remove 6, L= {1, 2, 3, 5, 8, 4, 9, 6};  \n",
    "Remove 7, L= {1, 2, 3, 5, 8, 4, 9, 6, 7};  \n",
    "Done"
   ]
  },
  {
   "cell_type": "markdown",
   "metadata": {},
   "source": [
    "Q3.  \n",
    "You are given a list of items, each with a weight and a corresponding value. Your task is to determine the maximum combined value that can be obtained by selecting a subset of these items to fit into a knapsack with a weight limit. You need to solve this problem using dynamic programming.  \n",
    "W = 15  \n",
    "weights = [2, 3, 5, 7, 8]  \n",
    "values = [300, 500, 800, 400, 700]  "
   ]
  },
  {
   "cell_type": "code",
   "execution_count": 7,
   "metadata": {},
   "outputs": [
    {
     "name": "stdout",
     "output_type": "stream",
     "text": [
      "Selected items' numbers: [0, 2, 4]\n",
      "Maximum combined value: 1800\n"
     ]
    }
   ],
   "source": [
    "W = 15\n",
    "weights = [2, 3, 5, 7, 8]\n",
    "values = [300, 500, 800, 400, 700]\n",
    "\n",
    "def max_value_knapsack(W, weights, values):\n",
    "    n = len(weights)\n",
    "    dp = [[0 for _ in range(W + 1)] for _ in range(n + 1)]\n",
    "    selected_items = [[False for _ in range(W + 1)] for _ in range(n + 1)]\n",
    "\n",
    "    for i in range(1, n + 1):\n",
    "        for w in range(1, W + 1):\n",
    "            if weights[i - 1] <= w:\n",
    "                if dp[i - 1][w - weights[i - 1]] + values[i - 1] > dp[i - 1][w]:\n",
    "                    dp[i][w] = dp[i - 1][w - weights[i - 1]] + values[i - 1]\n",
    "                    selected_items[i][w] = True\n",
    "                else:\n",
    "                    dp[i][w] = dp[i - 1][w]\n",
    "            else:\n",
    "                dp[i][w] = dp[i - 1][w]\n",
    "\n",
    "    # Reconstruct selected items\n",
    "    selected_indices = []\n",
    "    i, w = n, W\n",
    "    while i > 0 and w > 0:\n",
    "        if selected_items[i][w]:\n",
    "            selected_indices.append(i - 1)\n",
    "            w -= weights[i - 1]\n",
    "        i -= 1\n",
    "\n",
    "    # Print selected items' numbers\n",
    "    print(\"Selected items' numbers:\", selected_indices[::-1])\n",
    "\n",
    "    return dp[n][W]\n",
    "\n",
    "result = max_value_knapsack(W, weights, values)\n",
    "print(\"Maximum combined value:\", result)\n",
    "\n"
   ]
  },
  {
   "cell_type": "markdown",
   "metadata": {},
   "source": [
    "Q4.  \n",
    "Given the following recurrence relation:  \n",
    "T(n)=2T(n/2)+n  \n",
    "T(n)=3T(n/4)+nlogn  \n",
    "T(n)=2T(n/2)+n/logn  \n",
    " \n",
    "\n",
    "a) Determine the time complexity of the algorithm using the Master Theorem if applicable.\n",
    "\n",
    "b) If the Master Theorem is not applicable, provide an alternate method to find the time complexity."
   ]
  },
  {
   "cell_type": "markdown",
   "metadata": {},
   "source": [
    "Solution:  \n",
    "1.   \n",
    "a=2, b=2, and f(n)=n   \n",
    "n^log2(2)=n  \n",
    "f(n) is equal to T(n)  \n",
    "Therefore T(n)=Θ(nlogn)  \n",
    "2.  \n",
    "a=3, b=4, and f(n)=nlogn  \n",
    "n^log4(3)≈n^0.793  \n",
    "T(n) is polynomially larger than f(n)  \n",
    "T(n)=Θ(n(logn)^log4(3))=Θ(n(logn)^2)  \n",
    "3.  \n",
    "a=2, b=2, and f(n)=n   \n",
    "n^log2(2)=n  \n",
    "k=1, p=-1  \n",
    "Therefore T(n)=Θ(nloglogn)\n"
   ]
  },
  {
   "cell_type": "markdown",
   "metadata": {},
   "source": [
    "Q5.  \n",
    "Given a row x col 2D grid map grid , where grid[i][j] = 1 represents land and grid[i][j] = 0 represents water.  \n",
    "\n",
    "The cells in the grid are connected horizontally and vertically (not diagonally). The entire grid is completely surrounded by water, but there happens to be one island (or, one or more connected islands that represent land).  \n",
    "\n",
    "There is no \"lake\" in the island (\"lake\" means the water is inside the island and is not connected to the water around the island). A grid is a square with side length 1. The grid is rectangular, with width and height no greater than 100.   \n",
    "Calculate the perimeter of this island.  \n",
    "grid = [  \n",
    "    [0, 1, 1, 0],  \n",
    "    [1, 1, 1, 0],  \n",
    "    [0, 1, 0, 0],  \n",
    "    [1, 1, 1, 0]  \n",
    "]  \n"
   ]
  },
  {
   "cell_type": "code",
   "execution_count": 17,
   "metadata": {},
   "outputs": [
    {
     "name": "stdout",
     "output_type": "stream",
     "text": [
      "18\n"
     ]
    }
   ],
   "source": [
    "grid = [\n",
    "    [0, 1, 1, 0],\n",
    "    [1, 1, 1, 0],\n",
    "    [0, 1, 0, 0],\n",
    "    [1, 1, 1, 0]\n",
    "]\n",
    "def islandPerimeter(grid):\n",
    "    rows, cols = len(grid), len(grid[0])\n",
    "    perimeter = 0\n",
    "    \n",
    "    for i in range(rows):\n",
    "        for j in range(cols):\n",
    "            if grid[i][j] == 1:\n",
    "                perimeter += 4\n",
    "                # Check left neighbor\n",
    "                if j > 0 and grid[i][j - 1] == 1:\n",
    "                    perimeter -= 2\n",
    "                # Check above neighbor\n",
    "                if i > 0 and grid[i - 1][j] == 1:\n",
    "                    perimeter -= 2\n",
    "    \n",
    "    return perimeter\n",
    "\n",
    "print(islandPerimeter(grid))\n"
   ]
  },
  {
   "cell_type": "markdown",
   "metadata": {},
   "source": [
    "Q6.  \n",
    "You now have a grid of size N x N in your hand, and each cell on it is marked with 0 and 1. Among them, 0 represents the ocean and 1 represents the land.  \n",
    "Please find an ocean cell whose distance from this ocean cell to the nearest land cell is the largest.\n",
    "The distance we are talking about here is the \"Manhattan Distance\": (x0, y0) and (x1, y1) The distance between the two cells is |x0 - x1| + |y0 - y1|.  \n",
    "If there is only land or ocean on the grid, return -1.  \n"
   ]
  },
  {
   "cell_type": "code",
   "execution_count": 24,
   "metadata": {},
   "outputs": [
    {
     "name": "stdout",
     "output_type": "stream",
     "text": [
      "The farthest ocean cell is at distance 4 from nearest land at coordinates (2, 2).\n"
     ]
    }
   ],
   "source": [
    "from collections import deque\n",
    "\n",
    "\n",
    "grid = [\n",
    "    [1, 0, 0],\n",
    "    [0, 0, 0],\n",
    "    [0, 0, 0],\n",
    "]\n",
    "\n",
    "def farthestOcean(grid):\n",
    "    rows, cols = len(grid), len(grid[0])\n",
    "    queue = deque([(i, j) for i in range(rows) for j in range(cols) if grid[i][j] == 1])\n",
    "    if len(queue) == 0 or len(queue) == rows * cols:\n",
    "        return -1, (-1, -1)\n",
    "    \n",
    "    directions = [(0, 1), (1, 0), (0, -1), (-1, 0)]\n",
    "    last_ocean = (-1, -1)\n",
    "    distance = -1\n",
    "    \n",
    "    while queue:\n",
    "        size = len(queue)\n",
    "        distance += 1\n",
    "        for _ in range(size):\n",
    "            i, j = queue.popleft()\n",
    "            for dx, dy in directions:\n",
    "                ni, nj = i + dx, j + dy\n",
    "                if 0 <= ni < rows and 0 <= nj < cols and grid[ni][nj] == 0:\n",
    "                    grid[ni][nj] = 1\n",
    "                    queue.append((ni, nj))\n",
    "                    last_ocean = (ni, nj)\n",
    "    \n",
    "    return distance, last_ocean\n",
    "\n",
    "distance, coordinates = farthestOcean(grid)\n",
    "print(f\"The farthest ocean cell is at distance {distance} from nearest land at coordinates {coordinates}.\")\n",
    "\n"
   ]
  },
  {
   "cell_type": "markdown",
   "metadata": {},
   "source": [
    "# Summary  \n",
    "Using ChatGPT helped in structuring the problem and generating appropriate examples and explanations. It aided in ensuring that the problem statement was clear and concise, making it easier for users to understand the task.\n",
    "\n",
    "One challenge faced was striking a balance between complexity and simplicity. It was important to create a problem that was approachable yet not overly simplistic. Ensuring that the problem maintained the spirit of the example involved careful consideration of input constraints, edge cases, and meaningful examples to illustrate the problem scenario.\n",
    "\n",
    "Through this task, I gained insights into the importance of problem design in the realm of algorithms. It emphasized the significance of crafting problems that are both challenging and educational. The task highlighted the need for clear problem statements, well-defined constraints, and examples that help users grasp the core concepts effectively. It was also a reminder of the importance of testing problems with different cases to ensure their robustness and to avoid ambiguities. Overall, the task reinforced the principles of problem-solving and algorithmic thinking."
   ]
  }
 ],
 "metadata": {
  "kernelspec": {
   "display_name": "base",
   "language": "python",
   "name": "python3"
  },
  "language_info": {
   "codemirror_mode": {
    "name": "ipython",
    "version": 3
   },
   "file_extension": ".py",
   "mimetype": "text/x-python",
   "name": "python",
   "nbconvert_exporter": "python",
   "pygments_lexer": "ipython3",
   "version": "3.11.4"
  },
  "orig_nbformat": 4
 },
 "nbformat": 4,
 "nbformat_minor": 2
}
