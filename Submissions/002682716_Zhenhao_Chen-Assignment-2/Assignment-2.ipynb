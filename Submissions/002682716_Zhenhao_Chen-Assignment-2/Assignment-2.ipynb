{
 "cells": [
  {
   "cell_type": "markdown",
   "source": [
    "# Zhenhao Chen    002682716"
   ],
   "metadata": {
    "collapsed": false
   },
   "id": "b5f84b53073f609e"
  },
  {
   "cell_type": "markdown",
   "source": [
    "# 10/08/2023"
   ],
   "metadata": {
    "collapsed": false
   },
   "id": "fbbfa57ebcc858c5"
  },
  {
   "cell_type": "markdown",
   "source": [
    "# Q1"
   ],
   "metadata": {
    "collapsed": false
   },
   "id": "8bd5137690a60136"
  },
  {
   "cell_type": "raw",
   "source": [
    "You are given a connected, undirected graph with six vertices labeled A, B, C, D, E, and F. The graph has the following edges and edge weights:\n",
    "\n",
    "There is an edge between vertex A and vertex B with a weight of 3 units.\n",
    "There is an edge between vertex A and vertex C with a weight of 4 units.\n",
    "There is an edge between vertex A and vertex D with a weight of 1 unit.\n",
    "There is an edge between vertex B and vertex D with a weight of 5 units.\n",
    "There is an edge between vertex B and vertex E with a weight of 2 units.\n",
    "There is an edge between vertex C and vertex D with a weight of 6 units.\n",
    "There is an edge between vertex C and vertex F with a weight of 7 units.\n",
    "There is an edge between vertex D and vertex E with a weight of 5 units.\n",
    "There is an edge between vertex E and vertex F with a weight of 6 units.\n",
    "Question 1:\n",
    "Provide the pseudocode for Kruskal's algorithm to find the minimum spanning tree of the given graph, and what is the total weight of the MST?\n",
    "Question 2:\n",
    "What is the time complexity of Kruskal's algorithm when applied to a graph with N vertices and M edges? Explain briefly how this time complexity is determined."
   ],
   "metadata": {
    "collapsed": false
   },
   "id": "801b9a50983902d8"
  },
  {
   "cell_type": "raw",
   "source": [
    "(1)\n",
    "the pseudocode of Kruskal's algorithm is as below:\n"
   ],
   "metadata": {
    "collapsed": false
   },
   "id": "bc003d4e8e6aa8d6"
  },
  {
   "cell_type": "raw",
   "source": [
    "Input: \n",
    "Graph G that has V vertices and E edges.\n",
    "\n",
    "Output:\n",
    "Minimum spanning tree\n",
    "\n",
    "Initialize an empty set MST to store the minimum spanning tree.\n",
    "Initialize a disjoint-set data structure to keep track of connected components.\n",
    "\n",
    "Sort edges in ascending order by weight.\n",
    "\n",
    "for each vertex v in G:\n",
    "    Create a new set for v in the disjoint-set data structure.\n",
    "\n",
    "while MST has fewer than N-1 edges and there are edges left to consider:\n",
    "    Select the next edge (u, v) that has the smallest weight from edges.\n",
    "    \n",
    "    if the sets containing the new edge does not create a cycle:\n",
    "        Add edge to the MST.\n",
    "        Merge the sets containing u and v in the disjoint-set data structure.\n",
    "\n",
    "return MST\n"
   ],
   "metadata": {
    "collapsed": false
   },
   "id": "568ac601712061a5"
  },
  {
   "cell_type": "raw",
   "source": [
    "According to the pseudocode above, we can have the following steps:\n",
    "Step1: Initialize an empty set MST.\n",
    "Step2: sort edges\n",
    "Edge A-D with weight 1\n",
    "Edge B-E with weight 2\n",
    "Edge A-B with weight 3\n",
    "Edge A-C with weight 4\n",
    "Edge D-E with weight 5\n",
    "Edge B-D with weight 5\n",
    "Edge E-F with weight 6\n",
    "Edge C-D with weight 6\n",
    "Edge C-F with weight 7\n",
    "Step3: add edges to the MST in ascending order by weights, and make sure it does not create a cycle.Then we csn get:\n",
    "Edge A-D with weight 1\n",
    "Edge B-E with weight 2\n",
    "Edge A-B with weight 3\n",
    "Edge E-F with weight 6\n",
    "\n",
    "The total weight is 1 + 2 + 3 + 6 = 12."
   ],
   "metadata": {
    "collapsed": false
   },
   "id": "f46a896ec0237ce7"
  },
  {
   "cell_type": "raw",
   "source": [
    "(2)\n",
    "Given a graph with V vertices and E edges, the time complexity of Kruskal's algorithm is O(ElogV).\n",
    "The sorting operation will take a time complexity as O(Elog(N-1)). In the adding operation, it will take a time complexity as O(E) for processing each edges, and it will take a constant time complexity as O(E) for checking if it create a cycle. Therefore, combining the two steps we can have the time complexity of O(ElogV)."
   ],
   "metadata": {
    "collapsed": false
   },
   "id": "e37e07f910cdab6f"
  },
  {
   "cell_type": "markdown",
   "source": [
    "# Q2"
   ],
   "metadata": {
    "collapsed": false
   },
   "id": "bef62fa62c42bb4"
  },
  {
   "cell_type": "raw",
   "source": [
    "Given the following directed acyclic graph (DAG):\n",
    "\n",
    "The graph consists of ten nodes (vertices) labeled A, B, C, D, E, F, G, H, I, and J.\n",
    "\n",
    "Node A has directed edges to nodes C and D.\n",
    "Node B has directed edges to nodes D and E.\n",
    "Node C has a directed edge to node G.\n",
    "Node D has a directed edge to node H.\n",
    "Node E has directed edges to nodes I and J.\n",
    "Node F has no outgoing edges.\n",
    "Node G has no outgoing edges.\n",
    "Node H has no outgoing edges.\n",
    "Node I has no outgoing edges.\n",
    "Node J has no outgoing edges.\n",
    "\n",
    "Question 1:\n",
    "Represent the directed graph above as an adjacency list.\n",
    "\n",
    "Question 2:\n",
    "Represent the directed graph above as an adjacency matrix.\n",
    "\n",
    "Question 3:\n",
    "Determine if the directed graph can be topologically sorted. If it can be, provide one possible topological sort for the graph."
   ],
   "metadata": {
    "collapsed": false
   },
   "id": "109f5c68ee7826f6"
  },
  {
   "cell_type": "raw",
   "source": [
    "(1)\n",
    "The adjacency list is listed as below:\n",
    "A -> C, A -> D\n",
    "B -> D, B -> E\n",
    "C -> G\n",
    "D -> F, D -> H\n",
    "E -> I, E -> J\n",
    "F -> G\n",
    "G\n",
    "H\n",
    "I\n",
    "J"
   ],
   "metadata": {
    "collapsed": false
   },
   "id": "66f0cc7eab5a19b3"
  },
  {
   "cell_type": "raw",
   "source": [
    "(2)\n",
    "the adjacency matrix is listed as below:\n",
    "      A  B  C  D  E  F  G  H  I  J\n",
    "A     0  0  1  1  0  0  0  0  0  0\n",
    "B     0  0  0  1  1  0  0  0  0  0\n",
    "C     0  0  0  0  0  0  1  0  0  0\n",
    "D     0  0  0  0  0  1  0  1  0  0\n",
    "E     0  0  0  0  0  0  0  0  1  1\n",
    "F     0  0  0  0  0  0  1  0  0  0\n",
    "G     0  0  0  0  0  0  0  0  0  0\n",
    "H     0  0  0  0  0  0  0  0  0  0\n",
    "I     0  0  0  0  0  0  0  0  0  0\n",
    "J     0  0  0  0  0  0  0  0  0  0\n"
   ],
   "metadata": {
    "collapsed": false
   },
   "id": "ac1ca90eff748259"
  },
  {
   "cell_type": "raw",
   "source": [
    "(3)\n",
    "Yes, the directed graph can be topologically sorted.\n",
    "the pseudocode of topological sort is shown as below:"
   ],
   "metadata": {
    "collapsed": false
   },
   "id": "d140e1a52b82a97c"
  },
  {
   "cell_type": "raw",
   "source": [
    "Input: \n",
    "A graph G.\n",
    "An empty list L used to contain the topological sorted elements.\n",
    "A Set S that has no incoming edges.\n",
    "\n",
    "Output:\n",
    "The list L\n",
    "\n",
    "Find nodes that has no incoming edges and add them into S.\n",
    "\n",
    "while S is not empty:\n",
    "    remove a node n from S.\n",
    "    add n to tail of L.\n",
    "    \n",
    "    for each node m if there is an edge e from n to m in graph G:\n",
    "        remove edge e from the graph G.\n",
    "        if m has no other incoming edges:\n",
    "            add m into S\n",
    "\n",
    "if graph G is empty:\n",
    "    return L."
   ],
   "metadata": {
    "collapsed": false
   },
   "id": "7c7fe00e39406fab"
  },
  {
   "cell_type": "raw",
   "source": [
    "According to the pseudocode abpve:\n",
    "L = {}, S = {A, B}\n",
    "\n",
    "Remove A, L = {A}, S = {B, C}\n",
    "Remove B, L = {A, B}, S = {C, D, E}\n",
    "Remove C, L = {A, B, C}, S = {D, E}\n",
    "Remove D, L = {A, B, C, D}, S = {E, F, H}\n",
    "Remove E, L = {A, B, C, D, E}, S = {F, H, I, J}\n",
    "Remove F, L = {A, B, C, D, E, F}, S = {H, I, J, G}\n",
    "Remove H, L = {A, B, C, D, E, F, H}, S = {I, J, G}\n",
    "Remove I, L = {A, B, C, D, E, F, H, I}, S = {J, G}\n",
    "Remove J, L = {A, B, C, D, E, F, H, I, J}, S = {G}\n",
    "Remove I, L = {A, B, C, D, E, F, H, I, J, G}, S = {}\n",
    "\n",
    "Therefore, one possible topological sort for this graph is {A, B, C, D, E, F, H, I, J, G}."
   ],
   "metadata": {
    "collapsed": false
   },
   "id": "fd0c6b8cebd925c8"
  },
  {
   "cell_type": "markdown",
   "source": [
    "# Q3"
   ],
   "metadata": {
    "collapsed": false
   },
   "id": "b9bcb512b61dc6d7"
  },
  {
   "cell_type": "raw",
   "source": [
    "For each of the following recurrences, determine the runtime T(n) if the recurrence can be solved with the Master Theorem. Otherwise, indicate that the Master Theorem does not apply.\n",
    "\n",
    "i. T(n) = 2T(n/2) + n^2 log n\n",
    "ii. T(n) = 4T(n/4) + n^1.5\n",
    "iii. T(n) = 0.25T(n/2) + n^2\n",
    "iv. T(n) = 3T(n/3) + n log^2 n\n",
    "v. T(n) = 2T(n/2) + n^3 log n"
   ],
   "metadata": {
    "collapsed": false
   },
   "id": "2abf29a193751456"
  },
  {
   "cell_type": "raw",
   "source": [
    "(1)\n",
    "a = 2, b = 2, c = 2, and logb(a) = 1\n",
    "Therefore T(n) = Θ(n^c * logn) = Θ(n^2 * logn)\n",
    "\n",
    "(2)\n",
    "a = 4, b = 4, c = 1.5, and logb(a) = 1\n",
    "Therefore T(n) = Θ(n^c * logn) = Θ(n^1.5 * logn)\n",
    "\n",
    "(3)\n",
    "a = 0.25, b = 2, c = 2, and logb(a) = -1\n",
    "T(n) = Θ(n^(log_b(a))) = Θ(n^(-1)) = Θ(1)\n",
    "\n",
    "(4)\n",
    "a = 3, b = 3, c = 2, and logb(a) = 1\n",
    "Therefore T(n) = Θ(n^c * logn) = Θ(n^2 * logn)\n",
    "\n",
    "(5)\n",
    "a = 2, b = 2, c = 3, and logb(a) = 1\n",
    "T(n) = Θ(f(n)) = Θ(n^3 * logn)"
   ],
   "metadata": {
    "collapsed": false
   },
   "id": "c8b676c894b41f88"
  },
  {
   "cell_type": "markdown",
   "source": [
    "# Q4"
   ],
   "metadata": {
    "collapsed": false
   },
   "id": "12f8b5dbd5ce1ecd"
  },
  {
   "cell_type": "raw",
   "source": [
    "You are given a set of items, each with a weight and a value, and a knapsack with a maximum weight capacity. The goal is to determine the maximum total value of items that can be placed into the knapsack without exceeding its capacity. Each item can either be included (1) or excluded (0) from the knapsack.\n",
    "\n",
    "Input:\n",
    "\n",
    "A list of items, where each item is represented by its weight (w[i]) and value (v[i]).\n",
    "The maximum weight capacity of the knapsack (W).\n",
    "Your task is to select items to maximize the total value while ensuring that the sum of the weights of the selected items does not exceed the knapsack's capacity.\n",
    "\n",
    "Items:\n",
    "\n",
    "Item 1: Weight = 2, Value = 3\n",
    "Item 2: Weight = 3, Value = 4\n",
    "Item 3: Weight = 4, Value = 5\n",
    "Item 4: Weight = 5, Value = 6\n",
    "Knapsack Capacity (W): 6"
   ],
   "metadata": {
    "collapsed": false
   },
   "id": "5e1c4c767ecbcae8"
  },
  {
   "cell_type": "raw",
   "source": [
    "Solution:\n",
    "According to the dynamic programming, we can get the following pseudocode:"
   ],
   "metadata": {
    "collapsed": false
   },
   "id": "ac9a7b6846bdcc9e"
  },
  {
   "cell_type": "raw",
   "source": [
    "Input:\n",
    "Capacity of knapsack W.\n",
    "A list w recording weights.\n",
    "A list v recording values. \n",
    "\n",
    "Output:\n",
    "The maximum value that the items in the knapsack.\n",
    "\n",
    "Initialize a 2D array dp of size (n+1) * (W+1) with zeros.\n",
    "Initialize a list selected_items to store the selected items.\n",
    "\n",
    "for i from 1 to n:\n",
    "    for w from 0 to W:\n",
    "        if weights[i - 1] > w:\n",
    "            dp[i][w] = dp[i - 1][w]\n",
    "        else:\n",
    "            dp[i][w] = max(dp[i - 1][w], dp[i - 1][w - weights[i - 1]] + values[i - 1])\n",
    "    \n",
    "i = numbers of items\n",
    "capacity = knapsack capacity\n",
    "while i > 0 and w > 0:\n",
    "    if dp[i][capacity] != dp[i - 1][capacity]:\n",
    "        selected_items.append(i)  # Item i was included\n",
    "        capacity -= weights[i - 1]\n",
    "    i -= 1\n",
    "        \n",
    "return dp[n][W]"
   ],
   "metadata": {
    "collapsed": false
   },
   "id": "64ec6c749b032b2b"
  },
  {
   "cell_type": "raw",
   "source": [
    "Since the knapsack capacity is 6, we can have:\n",
    "\n",
    "W item1 item2 item3 item4\n",
    "1   0     0     0     0\n",
    "2   3     3     3     3\n",
    "3   3     4     4     4\n",
    "4   3     4     4     4\n",
    "5   3     7     7     7\n",
    "6   3     7     8     8\n",
    "\n",
    "According to the pseudocode, we can find the selected items is {1, 3} which has total value of 8."
   ],
   "metadata": {
    "collapsed": false
   },
   "id": "50e00f6820689b81"
  },
  {
   "cell_type": "markdown",
   "source": [
    "# Q5"
   ],
   "metadata": {
    "collapsed": false
   },
   "id": "2ace68e8ed0f4b8a"
  },
  {
   "cell_type": "raw",
   "source": [
    "You are given a list of intervals, each with a start and end time, and an associated value. Your goal is to select a subset of non-overlapping intervals to maximize the total combined value. Use dynamic programming to solve this problem.\n",
    "\n",
    "Intervals:\n",
    "Interval A: Start Time: 1, End Time: 3, Value: 5\n",
    "Interval B: Start Time: 2, End Time: 4, Value: 7\n",
    "Interval C: Start Time: 3, End Time: 5, Value: 4\n",
    "Interval D: Start Time: 6, End Time: 7, Value: 8\n",
    "Interval E: Start Time: 8, End Time: 9, Value: 6\n",
    "Your task is to find the subset of non-overlapping intervals with the maximum combined value and show your dynamic programming approach to solve this problem."
   ],
   "metadata": {
    "collapsed": false
   },
   "id": "5feb454327874782"
  },
  {
   "cell_type": "raw",
   "source": [
    "Solution:\n",
    "Interval  Start Time  End Time  Value\n",
    "    A         1           3       5\n",
    "    B         2           4       7\n",
    "    C         3           5       4\n",
    "    D         6           7       8\n",
    "    E         8           9       6\n",
    "\n",
    "Interval  DP Value  Selected Intervals\n",
    "   A          5            [A]\n",
    "   B          7            [B]\n",
    "   C          9           [B, C]\n",
    "   D         15           [B, D]\n",
    "   E         21          [B, D, E]\n",
    "   \n",
    "Therefore, S = {B, D, E} with a combined value of 21."
   ],
   "metadata": {
    "collapsed": false
   },
   "id": "2611bc0d3b4e44f4"
  },
  {
   "cell_type": "markdown",
   "source": [
    "# Q6"
   ],
   "metadata": {
    "collapsed": false
   },
   "id": "52112e964819eb3b"
  },
  {
   "cell_type": "raw",
   "source": [
    "Given a directed graph G and two nodes, node A and node G, determine whether there exists a path from node A to node G using Depth-First Search (DFS).\n",
    "\n",
    "Let's represent the graph as an adjacency list:\n",
    "Graph:\n",
    "A -> B, C\n",
    "B -> D\n",
    "C -> E, F\n",
    "D -> G\n",
    "E -> H\n",
    "F -> I\n",
    "G -> J"
   ],
   "metadata": {
    "collapsed": false
   },
   "id": "3be555131b1c241e"
  },
  {
   "cell_type": "raw",
   "source": [
    "Solution:\n",
    "visited = {}\n",
    "unvisited = {A, B, C, D, E, F, G}\n",
    "\n",
    "visited = {A}\n",
    "unvisited = {B, C, D, E, F, G}\n",
    "\n",
    "visited = {A, B}\n",
    "unvisited = {C, D, E, F, G}\n",
    "\n",
    "visited = {A, B, D}\n",
    "unvisited = {C, E, F, G}\n",
    "\n",
    "visited = {A, B, D, G}\n",
    "unvisited = {C, E, F}\n",
    "\n",
    "since G has been visited by using the Depth-First Search, the answer is there exists a path from node A to node G."
   ],
   "metadata": {
    "collapsed": false
   },
   "id": "49a1742d9e10b717"
  },
  {
   "cell_type": "code",
   "execution_count": null,
   "outputs": [],
   "source": [],
   "metadata": {
    "collapsed": false
   },
   "id": "d2c76325cc23e0a7"
  },
  {
   "cell_type": "raw",
   "source": [
    "How ChatGPT or the tool you used assisted in this task:\n",
    "I used ChatGPT to assist me in this task. It's really a cool tool for us to create something and learn something. When I have confusion about the sample questions, ChatGPT could provide me with explanations. Especially when it comes to MST problems, ChatGPT could always some creative problems. All the problems it generated for me can greatly enhance my understanding to these algorithms.\n",
    "\n",
    "Challenges you faced while ensuring the problem maintained the spirit of the example:\n",
    "It's a little difficult when it comes to the MST or shortest-path problems cause I was so unfamiliar with graph. But after going through the sample problems, it just became more clear that how these algorithm works. And that's why I can clarify it's Kruskal's algorithm problem or some other algorithms.\n",
    "\n",
    "What you learned about problem design in the realm of algorithms:\n",
    "- The most important thing that I've learned is that a well-designed algorithmic problem is clear and precisely defined. Ambiguity can lead to confusion and difficulties in understanding the problem's requirements. Therefore, it's of great essential to provide a clear and unambiguous problem statement.\n",
    "- Moreover, it's also helpful to provide clear sample input and output since they clarify the problem's requirements.\n",
    "- Those problems about graph or dynamic programming should be practical."
   ],
   "metadata": {
    "collapsed": false
   },
   "id": "fd88a3e6b9074b"
  }
 ],
 "metadata": {
  "kernelspec": {
   "display_name": "Python 3",
   "language": "python",
   "name": "python3"
  },
  "language_info": {
   "codemirror_mode": {
    "name": "ipython",
    "version": 2
   },
   "file_extension": ".py",
   "mimetype": "text/x-python",
   "name": "python",
   "nbconvert_exporter": "python",
   "pygments_lexer": "ipython2",
   "version": "2.7.6"
  }
 },
 "nbformat": 4,
 "nbformat_minor": 5
}
