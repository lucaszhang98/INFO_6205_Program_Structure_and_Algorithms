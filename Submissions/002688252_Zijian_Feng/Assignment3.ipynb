{
 "cells": [
  {
   "cell_type": "markdown",
   "metadata": {},
   "source": [
    "# Assignment 3\n",
    "- Student Name:Zijian Feng\n",
    "- NUID:002688252\n",
    "- Professor: Nik Bear Brown"
   ]
  },
  {
   "cell_type": "markdown",
   "metadata": {},
   "source": [
    "## Q1:  \n",
    "Why can both the minimum cut and the maximum flow be used to calculate the maximum flow in a graph?"
   ]
  },
  {
   "cell_type": "markdown",
   "metadata": {},
   "source": [
    "## Solution:  \n",
    "Maximum flow and minimum cut are closely related because in a network, flow is limited by the capacities of the edges in the network. The maximum flow refers to the maximum flow from the source to the sink, abiding by these capacity constraints. The minimum cut refers to a cut that separates the source from the sink, minimizing the sum of the weights of the cut edges. In the Max-Flow Min-Cut Theorem, the sum of the weights of the minimum cut represents the maximum flow from the source to the sink.\n",
    "\n",
    "This is because the flow between the source and the sink is limited by the capacity of the edges in the minimum cut. When the flow reaches the capacity of these edges, it can no longer increase, and thus the sum of the weights of the minimum cut represents the maximum flow from the source to the sink. Conversely, the value of the maximum flow is also the sum of the weights of the minimum cut, as the maximum flow value is the maximum flow from the source to the sink, abiding by the capacity constraints.\n",
    "\n",
    "Therefore, the sum of the weights of the minimum cut is both the maximum flow from the source to the sink and the value of the maximum flow, which is the main content of the Max-Flow Min-Cut Theorem. This theorem not only provides a method for solving the maximum flow problem but also provides a method for solving the minimum cut problem, thus having important significance in practical applications."
   ]
  },
  {
   "cell_type": "markdown",
   "metadata": {},
   "source": [
    "## Q2:\n",
    "Given a directed graph with `n` points and `m` edges, there may be heavy edges and self-loops, and the edge weights may be negative.\n",
    "\n",
    "Find the shortest distance from point `1` to point `n`. If it is not possible to go from point `1` to point `n`, output impossible.\n",
    "\n",
    "Note: There may be negatively weighted loops in the graph.\n",
    "\n"
   ]
  },
  {
   "cell_type": "markdown",
   "metadata": {},
   "source": [
    "## Solution：\n",
    "For this problem, we can use bellman-ford algorithm to slove."
   ]
  },
  {
   "cell_type": "code",
   "execution_count": 3,
   "metadata": {},
   "outputs": [
    {
     "name": "stdout",
     "output_type": "stream",
     "text": [
      "6\n",
      "impossiable\n"
     ]
    }
   ],
   "source": [
    "N = 100010\n",
    "inf = float(\"inf\")\n",
    "Edge = []\n",
    "dist = [inf] * N\n",
    "\n",
    "def Ballman_Ford():\n",
    "    dist[1] = 0\n",
    "    for _ in range(n):\n",
    "        back_up = dist.copy()\n",
    "        for j in range(m):\n",
    "            a, b, weight = Edge[j]\n",
    "            dist[b] = min(dist[b], dist[a] + weight)\n",
    "    # Still updating the dist array, which indicates the presence of a negative cycle \n",
    "    if back_up != dist:\n",
    "        return \"exist minus loop\"\n",
    "\n",
    "    if dist[n] == inf:\n",
    "        return \"impossiable\"\n",
    "    else:\n",
    "        return dist[n]\n",
    "\n",
    "\n",
    "# Test case 1: Has a shortest path\n",
    "Edge = []\n",
    "dist = [inf] * N\n",
    "n, m = 4, 4\n",
    "edges_input = [\n",
    "    [1, 2, 2],\n",
    "    [2, 3, 3],\n",
    "    [3, 4, 2],\n",
    "    [1, 3, 4]\n",
    "]\n",
    "for edge in edges_input:\n",
    "    Edge.append(edge)\n",
    "print(Ballman_Ford())  # Expected output: 6 (shortest path from 1 to 4: 1-3-4)\n",
    "\n",
    "# Test case 2: Doesn't have a shortest path\n",
    "Edge = []\n",
    "dist = [inf] * N\n",
    "n, m = 4, 3\n",
    "edges_input = [\n",
    "    [1, 2, 2],\n",
    "    [2, 3, 3],\n",
    "    [3, 1, -5]\n",
    "]\n",
    "for edge in edges_input:\n",
    "    Edge.append(edge)\n",
    "print(Ballman_Ford())  # Expected output: \"impossiable\" (because there's a negative cycle)\n"
   ]
  },
  {
   "cell_type": "markdown",
   "metadata": {},
   "source": [
    "## Q3:  \n",
    "Use the Ford-Fulkerson algorithm to find the maximum flow of the following graph.\n",
    "![Alt text](./imgs/A3Q3.png)"
   ]
  },
  {
   "cell_type": "markdown",
   "metadata": {},
   "source": [
    "## Solution:\n",
    "Below are the steps to find the maximum flow from the source node to the sink node using the Ford-Fulkerson algorithm:\n",
    "\n",
    "Initialize the flow: For each edge in the graph, initialize its flow to 0.\n",
    "\n",
    "Find an augmenting path: Search for an augmenting path from the source to the sink. An augmenting path is one where all the edges on the path have a residual capacity (i.e., total capacity minus the current flow) greater than 0.\n",
    "\n",
    "For the given graph, we can choose the following augmenting path:\n",
    "\n",
    "source -> 1 -> 3 -> 5 (The minimum capacity on this path is 1, so the flow on this path can be increased by 1)\n",
    "\n",
    "Update the flow: Update the flow based on the augmenting path found in step 2. Increase the flow of the forward edges on the path and decrease the flow of the reverse edges on the path (if they exist).\n",
    "\n",
    "For the path mentioned above, the updated flows would be:\n",
    "\n",
    "source -> 1: 1/1\n",
    "\n",
    "1 -> 3: 1/99\n",
    "\n",
    "3 -> 5: 1/2\n",
    "\n",
    "Repeat steps 2 and 3: Continue to find augmenting paths and update the flow until no more augmenting paths can be found.\n",
    "\n",
    "Finding another augmenting path, we get:\n",
    "\n",
    "source -> 2 -> 4 -> 5 (The minimum capacity on this path is 2, so the flow on this path can be increased by 2)\n",
    "\n",
    "After updating the flow:\n",
    "\n",
    "source -> 2: 2/3\n",
    "\n",
    "2 -> 4: 2/99\n",
    "\n",
    "4 -> 5: 2/2\n",
    "\n",
    "Compute the maximum flow: Sum up the flows of all edges leaving the source node to get the maximum flow.\n",
    "\n",
    "Maximum flow = (source -> 1) + (source -> 2) = 1 + 2 = 3\n",
    "\n",
    "In conclusion, the maximum flow from the source node to the sink node is 3."
   ]
  },
  {
   "cell_type": "markdown",
   "metadata": {},
   "source": [
    "Here is the pseudocode \n",
    "```\n",
    "initMaxFlow\n",
    "\n",
    "while there is an augmenting path\n",
    "\n",
    "  find an augmenting path using DFS\n",
    "\n",
    "  for each edge u->v in the path\n",
    "\n",
    "    decrease capacity u->v by bottleneck\n",
    "\n",
    "    increase capacity v->u by bottleneck\n",
    "\n",
    "  increase maxflow by bottleneck\n",
    "```\n"
   ]
  },
  {
   "cell_type": "markdown",
   "metadata": {},
   "source": [
    "## Q4:\n",
    "Use the Push-Relabel algorithm to find the maximum flow of the following graph.\n",
    "![Alt text](./imgs/A3Q4.png)"
   ]
  },
  {
   "cell_type": "markdown",
   "metadata": {},
   "source": [
    "Initial Setup:\n",
    "\n",
    "Initialize the preflow by saturating all the outgoing edges from the source (node 0). Set the excess flow of the source to a very negative value (to ensure it will never need pushing).\n",
    "Set the height of the source (h[0]) to the number of nodes in the graph (6 in this case).\n",
    "All other nodes will start with height 0.\n",
    "1. Preflow Initialization:\n",
    "\n",
    "Flow on edge (0,1) = 16 (Fully saturate the edge)\n",
    "Flow on edge (0,2) = 13 (Fully saturate the edge)\n",
    "Excess at node 1 = 16, Excess at node 2 = 13\n",
    "2. Start the Push and Relabel Operations:\n",
    "While there's any node u (other than source and sink) with positive excess flow:\n",
    "\n",
    "a. Node 1 has excess 16:\n",
    "\n",
    "Push from 1 to 3: push 12 (fully saturate the edge), excess at node 1 = 4.\n",
    "Push remaining 4 from 1 to 2.\n",
    "Now, node 1 has no excess.\n",
    "b. Node 2 now has excess 17 (13 initial + 4 from node 1):\n",
    "\n",
    "Push 9 from 2 to 3 (fully saturate the edge), excess at node 2 = 8.\n",
    "Push 8 from 2 to 4 (this doesn't saturate the edge), excess at node 2 = 0.\n",
    "c. Node 3 has excess 21 (12 from 1 + 9 from 2):\n",
    "\n",
    "Push 20 from 3 to 5 (fully saturate the edge), excess at node 3 = 1.\n",
    "Relabel node 3 to increase its height since we can't push the remaining flow to either of its neighbors. New height of node 3 = 1 + 1 = 2.\n",
    "Push remaining 1 from 3 to 4.\n",
    "d. Node 4 now has excess 9 (8 from 2 + 1 from 3):\n",
    "\n",
    "Push 7 from 4 to 5 (fully saturate the edge), excess at node 4 = 2.\n",
    "Relabel node 4 to increase its height. New height of node 4 = 1 + 1 = 2.\n",
    "Push remaining 2 from 4 to 2.\n",
    "e. Node 2 now has excess 2:\n",
    "\n",
    "Relabel node 2 to increase its height since we can't push the excess flow to either of its neighbors. New height of node 2 = 1 + 1 = 2.\n",
    "However, we still can't push the flow from 2.\n",
    "Relabel again, New height of node 2 = 2 + 1 = 3.\n",
    "Now, we can Push 2 from 2 to 1.\n",
    "f. Node 1 now has excess 2:\n",
    "\n",
    "Push 2 from 1 to 2 (using the backward edge).\n",
    "g. Node 2 now has excess 2 again:\n",
    "\n",
    "Relabel node 2, New height of node 2 = 3 + 1 = 4.\n",
    "We still can't push, so we Relabel again, New height of node 2 = 4 + 1 = 5.\n",
    "Push the 2 from 2 to 1 (using the backward edge).\n",
    "This process continues, but the overall flow in the network won't increase anymore. The system reaches a state where no node (other than source and sink) has excess flow.\n",
    "\n",
    "Conclusion:\n",
    "The maximum flow from source to sink (0 to 5) in this graph using the Push–Relabel algorithm is 23 (16 from edge (0,1) + 7 from edge (4,5))."
   ]
  },
  {
   "cell_type": "markdown",
   "metadata": {},
   "source": [
    "## Q5:\n",
    "A professional thief plans to burglarize houses along a street. Each house contains a certain amount of cash, and the only constraint on the thief's ability to steal is that the neighboring houses are equipped with an interconnected anti-theft system that automatically alerts the police if two neighboring houses are broken into by a thief on the same night.\n",
    "\n",
    "Given an array of nonnegative integers nums representing the amount of money stored in each house, calculate the maximum amount that can be stolen in one night without setting off the alarm."
   ]
  },
  {
   "cell_type": "markdown",
   "metadata": {},
   "source": [
    "## Solution:\n",
    "We can use dynamic programming to solve problem.\n",
    "Scince we can't steal adjecent house, so we can write pseudocode to indictes the state:\n",
    "```\n",
    "dp[i] = Math.max(dp[i-2]+house[i],dp[i-1])\n",
    "```\n",
    "we use dp[i] indictes we can get max value from first `i` houses."
   ]
  },
  {
   "cell_type": "code",
   "execution_count": 5,
   "metadata": {},
   "outputs": [
    {
     "name": "stdout",
     "output_type": "stream",
     "text": [
      "4\n",
      "12\n"
     ]
    }
   ],
   "source": [
    "def rob(nums):\n",
    "    if not nums:\n",
    "        return 0\n",
    "    if len(nums) == 1:\n",
    "        return nums[0]\n",
    "\n",
    "    # initialize the array\n",
    "    dp = [0] * len(nums)\n",
    "    dp[0] = nums[0]\n",
    "    dp[1] = max(nums[0], nums[1])\n",
    "\n",
    "    for i in range(2, len(nums)):\n",
    "        dp[i] = max(dp[i-1], dp[i-2] + nums[i])\n",
    "\n",
    "    return dp[-1]\n",
    "print(rob([1,2,3,1]))   # output: 4,the best option is to loot the first and third houses.\n",
    "print(rob([2,7,9,3,1])) # output: 12,The best option is to loot the first, third and fifth houses.\n"
   ]
  },
  {
   "cell_type": "markdown",
   "metadata": {},
   "source": [
    "## Q6:\n",
    "For each of the following recurrences, give an expression for the runtime T(n) if the recurrence can be solved with the Master Theorem. Otherwise, indicate that the Master Theorem does not apply.  \n",
    "1. $T(n)=3T(n/3)+n^2$\n",
    "2. $T(n)=2T(n/4)+ \\sqrt(n)$\n",
    "3. $T(n)=5T(n/5)+nlogn$\n"
   ]
  },
  {
   "cell_type": "markdown",
   "metadata": {},
   "source": [
    "## Solution：\n",
    "1. Here a = 3,b=3,and f(n) = n^2. So T(n) = $\\sigma(n^2)$\n",
    "2. Here a = 2,b=4,and f(n) = $\\sqrt(n)$. So T(n) = $\\sigma(\\sqrt{n}logn)$\n",
    "3. Here a=5,b=5 and f(n) = $nlogn$. So T(n) = $\\sigma(2nlogn)$\n"
   ]
  },
  {
   "cell_type": "markdown",
   "metadata": {},
   "source": [
    "## Q7:\n",
    "Given a set of intervals intervals, where intervals[i] = [starti, endi]. Return The minimum number of intervals to be removed so that the remaining intervals do not overlap each other.  \n",
    "Example 1.  \n",
    "Input: intervals = [[1,2],[2,3],[3,4],[1,3]]  \n",
    "Output: 1  \n",
    "Explanation: After removing [1,3], the remaining intervals do not overlap.\n",
    "\n",
    "Example 2.  \n",
    "Input: intervals = [ [1,2], [1,2], [1,2] ]  \n",
    "Output: 2  \n",
    "Explanation: You need to remove two [1,2] so that the remaining intervals do not overlap.  \n",
    "\n",
    "Example 3.  \n",
    "Input: intervals = [ [1,2], [2,3] ]  \n",
    "Output: 0  \n",
    "Explanation: You don't need to remove any intervals because they are already non-overlapping."
   ]
  },
  {
   "cell_type": "markdown",
   "metadata": {},
   "source": [
    "## Solution：\n",
    "We can use dynamic programming to slove this problem.\n",
    "For each interval i:  \n",
    "if interval i doesn't overlap with interval j,then:  \n",
    "dp[i] = max(dp[i],dp[j]+1)  \n",
    "else  \n",
    "dp[i] = max(dp[i],dp[j])"
   ]
  },
  {
   "cell_type": "code",
   "execution_count": 9,
   "metadata": {},
   "outputs": [
    {
     "name": "stdout",
     "output_type": "stream",
     "text": [
      "Test Case 1\n",
      "Expected: 1\n",
      "Got: 1\n",
      "--------------------\n",
      "Test Case 2\n",
      "Expected: 2\n",
      "Got: 2\n",
      "--------------------\n",
      "Test Case 3\n",
      "Expected: 0\n",
      "Got: 0\n",
      "--------------------\n"
     ]
    }
   ],
   "source": [
    "def eraseOverlapIntervals(intervals):\n",
    "    if not intervals:\n",
    "        return 0\n",
    "\n",
    "    n = len(intervals)\n",
    "    dp = [0] * n\n",
    "    dp[0] = 1\n",
    "    \n",
    "    for i in range(1, n):\n",
    "        dp[i] = 1\n",
    "        for j in range(i):\n",
    "            if intervals[i][0] >= intervals[j][1]:\n",
    "                dp[i] = max(dp[i], 1 + dp[j])\n",
    "            else:\n",
    "                dp[i] = max(dp[i], dp[j])\n",
    "                \n",
    "    return n - dp[n-1]\n",
    "\n",
    "# Test Cases\n",
    "test_cases = [\n",
    "    ([[1,2],[2,3],[3,4],[1,3]], 1),\n",
    "    ([[1,2],[1,2],[1,2]], 2),\n",
    "    ([[1,2],[2,3]], 0)\n",
    "]\n",
    "\n",
    "for i, (input_val, expected) in enumerate(test_cases, 1):\n",
    "    output_val = eraseOverlapIntervals(input_val)\n",
    "    print(f\"Test Case {i}\")\n",
    "    print(f\"Expected: {expected}\")\n",
    "    print(f\"Got: {output_val}\")\n",
    "    print(\"-\"*20)\n"
   ]
  }
 ],
 "metadata": {
  "kernelspec": {
   "display_name": "venv",
   "language": "python",
   "name": "python3"
  },
  "language_info": {
   "codemirror_mode": {
    "name": "ipython",
    "version": 3
   },
   "file_extension": ".py",
   "mimetype": "text/x-python",
   "name": "python",
   "nbconvert_exporter": "python",
   "pygments_lexer": "ipython3",
   "version": "3.11.0"
  }
 },
 "nbformat": 4,
 "nbformat_minor": 2
}
