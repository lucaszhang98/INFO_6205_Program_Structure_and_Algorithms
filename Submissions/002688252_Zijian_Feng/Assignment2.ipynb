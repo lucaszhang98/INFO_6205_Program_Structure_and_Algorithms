{
 "cells": [
  {
   "cell_type": "markdown",
   "metadata": {},
   "source": [
    "# Assignment 2\n",
    "- Student Name:Zijian Feng\n",
    "- NUID:002688252\n",
    "- Professor: Nik Bear Brown"
   ]
  },
  {
   "cell_type": "markdown",
   "metadata": {},
   "source": [
    "## Q1:\n",
    "There are some scatter points. Find the min cost to connect all points.\n",
    "![Alt text](./imgs/Q1_1.jpeg)  \n",
    "![Alt text](./imgs/S1.jpeg)\n",
    "The points positon are given by a 2D array.  \n",
    "points = [[0,0],[2,2],[3,10],[5,2],[7,0]]"
   ]
  },
  {
   "cell_type": "markdown",
   "metadata": {},
   "source": [
    "## Solution:\n",
    "We can consider our input as a complete graph (each point has an edge to every other point), and in this complete graph, we have to connect each point with minimum cost (sum of edge weights). Thus, we can rephrase the problem as \"Find the Minimum Spanning Tree for the given set of points.\"  \n",
    "Here we use Kruskal's algorithm to solve this problem."
   ]
  },
  {
   "cell_type": "code",
   "execution_count": 1,
   "metadata": {},
   "outputs": [
    {
     "name": "stdout",
     "output_type": "stream",
     "text": [
      "The min cost is 20\n"
     ]
    }
   ],
   "source": [
    "import heapq\n",
    "from typing import List, Tuple\n",
    "\n",
    "class Solution:\n",
    "    def minCostConnectPoints(self, points: List[List[int]]) -> int:\n",
    "        n = len(points)\n",
    "        \n",
    "        # Min-heap to store minimum weight edge at top.\n",
    "        heap = []\n",
    "        \n",
    "        # Track nodes which are included in MST.\n",
    "        inMST = [False] * n\n",
    "        \n",
    "        heapq.heappush(heap, (0, 0))\n",
    "        mstCost = 0\n",
    "        edgesUsed = 0\n",
    "        \n",
    "        while edgesUsed < n:\n",
    "            weight, currNode = heapq.heappop(heap)\n",
    "            \n",
    "            # If node was already included in MST we will discard this edge.\n",
    "            if inMST[currNode]:\n",
    "                continue\n",
    "            \n",
    "            inMST[currNode] = True\n",
    "            mstCost += weight\n",
    "            edgesUsed += 1\n",
    "            \n",
    "            for nextNode in range(n):\n",
    "                # If next node is not in MST, then edge from curr node\n",
    "                # to next node can be pushed in the priority queue.\n",
    "                if not inMST[nextNode]:\n",
    "                    nextWeight = abs(points[currNode][0] - points[nextNode][0]) + \\\n",
    "                                 abs(points[currNode][1] - points[nextNode][1])\n",
    "                    heapq.heappush(heap, (nextWeight, nextNode))\n",
    "        \n",
    "        return mstCost\n",
    "\n",
    "# Test using main function\n",
    "def main():\n",
    "    sol = Solution()\n",
    "    \n",
    "    points = [[0,0],[2,2],[3,10],[5,2],[7,0]]\n",
    "    \n",
    "    print(\"The min cost is \",end=\"\")\n",
    "    print(sol.minCostConnectPoints(points))\n",
    "\n",
    "main()\n"
   ]
  },
  {
   "cell_type": "markdown",
   "metadata": {},
   "source": [
    "## Q2:\n",
    "When we select course at the begining of the semester, some course need we have learnt prerequisite courses. Here is an array prerequisites where prerequisites[i] = [ai, bi] indicates that you must take course bi first if you want to take course ai.  \n",
    "For example, the pair [0, 1], indicates that to take course 0 you have to first take course 1.  \n",
    "The number of courses is 4, and the prerequisites array is [[1,0],[2,0],[3,1],[3,2]].  \n",
    "Return the ordering of courses you should take to finish all courses."
   ]
  },
  {
   "cell_type": "markdown",
   "metadata": {},
   "source": [
    "## Solution:\n",
    "We can visualize the course prerequisites provided in the question as a directed, unweighted graph \n",
    "G(V,E).\n",
    "- Vertices (V): Each course corresponds to a vertex in the graph.\n",
    "- Edges (E): The edges encapsulate the prerequisite relationship between courses. If we encounter a pair like [a,b], it indicates that course b is a prerequisite for course a. In our graph, this is portrayed as a directed edge from b to a.\n",
    "![Alt text](./imgs/Q2.jpeg)\n",
    "To store the graph, we can use an adjacency list or adjacency matrix. In this problem, we use adjacency list to store. The adjacency list showed as followed:\n",
    "- **0**: 1, 2, 3\n",
    "- **1**: 3\n",
    "- **2**: 3\n",
    "- **3**: \n"
   ]
  },
  {
   "cell_type": "code",
   "execution_count": 8,
   "metadata": {},
   "outputs": [],
   "source": [
    "from collections import deque\n",
    "\n",
    "def findOrder(numCourses: int, prerequisites: List[List[int]]) -> List[int]:\n",
    "    degree = [0] * numCourses\n",
    "    e = [-1] * (2 * numCourses)\n",
    "    ne = [-1] * (2 * numCourses)\n",
    "    h = [-1] * (2 * numCourses)\n",
    "    idx = 0\n",
    "    \n",
    "    for pre in prerequisites:\n",
    "        a, b = pre\n",
    "        degree[a] += 1\n",
    "        ne[idx] = h[b]\n",
    "        e[idx] = a\n",
    "        h[b] = idx\n",
    "        idx += 1\n",
    "    \n",
    "    q = deque()\n",
    "    res = []\n",
    "        \n",
    "    for i, d in enumerate(degree):\n",
    "        if d == 0:\n",
    "            q.append(i)\n",
    "            res.append(i)\n",
    "            \n",
    "    while q:\n",
    "        cur = q.popleft()\n",
    "        i = h[cur]\n",
    "        while i != -1:\n",
    "            degree[e[i]] -= 1\n",
    "            if degree[e[i]] == 0:\n",
    "                q.append(e[i])\n",
    "                res.append(e[i])\n",
    "            i = ne[i]\n",
    "            \n",
    "    if len(res) == numCourses:\n",
    "        return res\n",
    "\n",
    "    return []\n",
    "\n",
    "# Test using main function\n",
    "def main():\n",
    "    \n",
    "    test_courses = 4\n",
    "    test_prerequisites = [[1,0],[2,0],[3,1],[3,2]]\n",
    "    print(\"The order of course you should take is :\",end=\"\")\n",
    "    print(findOrder(test_courses, test_prerequisites))\n"
   ]
  },
  {
   "cell_type": "code",
   "execution_count": 9,
   "outputs": [
    {
     "name": "stdout",
     "output_type": "stream",
     "text": [
      "The order of course you should take is :[0, 2, 1, 3]\n"
     ]
    }
   ],
   "source": [
    "main()"
   ],
   "metadata": {
    "collapsed": false
   }
  },
  {
   "cell_type": "markdown",
   "metadata": {},
   "source": [
    "## Q3:\n",
    "For each of the following recurrences, give an experssion for the runtin `T(n)` if the recurrence can be solved with the Matser Theorem. Otherwise, indicate that Matser Theorem does  ot apply.  \n",
    "1. T(n) = 2T(n/2)+n^2  \n",
    "2. T(n) = 3T(n/3)+n^4  \n",
    "3. T(n) = T(n/3)+T(2n/3)+n  \n"
   ]
  },
  {
   "cell_type": "markdown",
   "metadata": {},
   "source": [
    "## Solution: \n",
    "1. This recurrence can be solved using the Master Theorem. In this case, a = 2, b = 2, and f(n) = n^2. The Master Theorem applies when f(n) is a polynomial, and in this case, it is a polynomial of degree According to the Master Theorem, the runtime is O(n^2 log n).\n",
    "2. This recurrence can be solved using the Master Theorem. Here, a = 3, b = 3, and f(n) = n^3. Again, this is a polynomial, and we are in the range of the Master Theorem. The runtime is O(n^3).  \n",
    "3. No, the Master Theorem does not apply.\n"
   ]
  },
  {
   "cell_type": "markdown",
   "metadata": {},
   "source": [
    "## Q4:\n",
    "You're planning a series of workshops in a day. Each workshop has a start time, end time, and a potential profit (in dollars) you'd earn if you conduct it. However, you can only conduct one workshop at a time, so you need to select a set of non-overlapping workshops to maximize your total profit.  \n",
    "\n",
    "Given the workshop schedules and their associated profits, determine the maximum profit you can earn by conducting a subset of non-overlapping workshops.  \n",
    "Workshops:  \n",
    "Start: 1, End: 4, Profit: $50  \n",
    "Start: 3, End: 5, Profit: $20  \n",
    "Start: 0, End: 6, Profit: $60  \n",
    "Start: 4, End: 7, Profit: $40  \n",
    "Start: 5, End: 9, Profit: $30  \n",
    "Start: 7, End: 8, Profit: $10  \n"
   ]
  },
  {
   "cell_type": "markdown",
   "metadata": {},
   "source": [
    "## Solution\n",
    "We can use dynamic programming algorithm to slove this problem. \n",
    "We use dp[i] to represent the maximum profit we can select from the first i workshops.  \n",
    "Then we can derive the state transition equation:\n",
    "```  \n",
    "if end[j] < start[i]:\n",
    "    dp[i] = max(dp[j]+profit[i],profit[i])"
   ]
  },
  {
   "cell_type": "code",
   "execution_count": 3,
   "metadata": {},
   "outputs": [
    {
     "name": "stdout",
     "output_type": "stream",
     "text": [
      "100\n"
     ]
    }
   ],
   "source": [
    "def max_profit(workshops, profit):\n",
    "    n = len(workshops)\n",
    "    dp = [profit[i] for i in range(n)]\n",
    "    \n",
    "    for i in range(n):\n",
    "        for j in range(i):\n",
    "            if workshops[j][1] <= workshops[i][0]:\n",
    "                dp[i] = max(dp[i], dp[j] + profit[i])\n",
    "                \n",
    "    return dp[n-1]\n",
    "\n",
    "workshops = [[1,4],[3,5],[0,6],[4,7],[5,9],[7,8]]\n",
    "profit = [50,20,60,40,30,10]\n",
    "print(max_profit(workshops, profit))  \n"
   ]
  },
  {
   "cell_type": "markdown",
   "metadata": {},
   "source": [
    "## Q5\n",
    "There are `N` items and a backpack with a capacity of `V`. Each item can be used only once.  \n",
    "The volume of the ith item is `vi` and the value is `wi`.  \n",
    "Solve for the items that can be loaded into the backpack so that the total volume of these items does not exceed the capacity of the backpack and the total value is maximized. Output the maximum value. "
   ]
  },
  {
   "cell_type": "markdown",
   "metadata": {},
   "source": [
    "## Solution:\n",
    "We define `dp[i][j]` as the optimal solution (maximum value) for the first i items with backpack capacity j.  \n",
    "The current backpack does not have enough capacity `(j < v[i])` and there is no choice, so the optimal solution for the previous item is the first `i-1` item optimal solutions:  \n",
    "`dp[i][j] = dp[i - 1][j]`.  \n",
    "The current backpack has enough capacity to be selected, so a decision is needed to select or not to select the `i-th` item :  \n",
    "select: `dp[i][j] = dp[i-1][j-v[i]]+w[i]`  \n",
    "not select:  `dp[i][j] = dp[i-1][j]`\n"
   ]
  },
  {
   "cell_type": "code",
   "execution_count": 4,
   "metadata": {},
   "outputs": [
    {
     "name": "stdout",
     "output_type": "stream",
     "text": [
      "8\n"
     ]
    }
   ],
   "source": [
    "def knapsack(values, volumes, V):\n",
    "    n = len(values)\n",
    "    dp = [[0 for _ in range(V + 1)] for _ in range(n + 1)]\n",
    "    for i in range(1, n + 1):\n",
    "        for v in range(1, V + 1):\n",
    "            if volumes[i - 1] > v:\n",
    "                dp[i][v] = dp[i - 1][v]\n",
    "            else:\n",
    "                dp[i][v] = max(dp[i - 1][v], dp[i - 1][v - volumes[i - 1]] + values[i - 1])\n",
    "    return dp[n][V]\n",
    "values = [2,4,4,5]\n",
    "volumes = [1,2,3,4]\n",
    "V = 5\n",
    "print(knapsack(values, volumes, V))"
   ]
  },
  {
   "cell_type": "markdown",
   "metadata": {},
   "source": [
    "## Q6:\n",
    "Imagine there's a tradition in a certain community where they pass down stories through generations. Each generation adds a line to the story without altering the previous lines. These stories tend to become very long, yet they originate from relatively short initial versions. As the story grows, it becomes tedious to write down or convey every single line. Instead, an efficient method would be to simply note down the newly added line by each generation.  \n",
    "Let's make this more mathematical. Let's say that the maximum length of any line added by a generation is bounded by a constant `d`, and the story, when told out loud, runs for `m` words in total. How can you represent the whole story using a notation that has length g(m), where \n",
    "g(m) grows as slowly as possible?  "
   ]
  },
  {
   "cell_type": "markdown",
   "metadata": {},
   "source": [
    "## Solution:\n",
    "We cau write pseudocode to solve this question.\n",
    "```\n",
    "lin1 = store in first generation\n",
    "lin2 = store in second generation\n",
    "...\n",
    "linen = store in nth generation\n",
    "for i = 1,2,...n\n",
    "    for j=1,2,...i\n",
    "        store append d words\n",
    "    endfor\n",
    "endfor\n",
    "```\n",
    "We can assume that beofore loop we have c1 lines. Since we have total m words, so $m = c1+c2*d$. We can think of the loop as a sum of isotropic series with tolerance d. So the $g(m) = O(\\sqrt{n})$"
   ]
  },
  {
   "cell_type": "markdown",
   "metadata": {},
   "source": [
    "## Q7:\n",
    "Here is the defination of Balanced Binary Tree:  \n",
    "A binary tree in which the difference in depth between any two leaf nodes is not greater than 1.  \n",
    "Question:  \n",
    "Given a binary tree, determine whether it is a highly balanced binary tree."
   ]
  },
  {
   "cell_type": "markdown",
   "metadata": {},
   "source": [
    "## Solution：\n",
    "wo can use dfs algorithm to calculate the height for each node p.  \n",
    "$ \\text{height}(p) = \n",
    "\\begin{cases} \n",
    "0 & \\text{if } p \\text{ is None} \\\\\n",
    "\\max(\\text{height}(p.\\text{left}), \\text{height}(p.\\text{right})) + 1 & \\text{otherwise} \n",
    "\\end{cases}\n",
    "$"
   ]
  },
  {
   "cell_type": "code",
   "execution_count": 5,
   "metadata": {},
   "outputs": [],
   "source": [
    "class TreeNode:\n",
    "    def __init__(self, val=0, left=None, right=None):\n",
    "        self.val = val\n",
    "        self.left = left\n",
    "        self.right = right\n",
    "\n",
    "def isBalanced(root: TreeNode) -> bool:\n",
    "    def height(root: TreeNode) -> int:\n",
    "        if not root:\n",
    "            return 0\n",
    "        return max(height(root.left), height(root.right)) + 1\n",
    "\n",
    "    if not root:\n",
    "        return True\n",
    "    return abs(height(root.left) - height(root.right)) <= 1 and isBalanced(root.left) and isBalanced(root.right)\n"
   ]
  },
  {
   "cell_type": "code",
   "execution_count": 6,
   "metadata": {},
   "outputs": [
    {
     "name": "stdout",
     "output_type": "stream",
     "text": [
      "All tests passed!\n"
     ]
    }
   ],
   "source": [
    "# Define TreeNode and isBalanced as previously mentioned...\n",
    "\n",
    "def test_isBalanced():\n",
    "    # Creating a balanced binary tree:\n",
    "    #         3\n",
    "    #        / \\\n",
    "    #       9  20\n",
    "    #         /  \\\n",
    "    #        15   7\n",
    "    root1 = TreeNode(3)\n",
    "    root1.left = TreeNode(9)\n",
    "    root1.right = TreeNode(20, TreeNode(15), TreeNode(7))\n",
    "    assert isBalanced(root1) == True\n",
    "\n",
    "    # Creating an unbalanced binary tree:\n",
    "    #         1\n",
    "    #        / \\\n",
    "    #       2   2\n",
    "    #      / \\\n",
    "    #     3   3\n",
    "    #    / \\\n",
    "    #   4   4\n",
    "    root2 = TreeNode(1)\n",
    "    root2.left = TreeNode(2, TreeNode(3, TreeNode(4), TreeNode(4)), TreeNode(3))\n",
    "    root2.right = TreeNode(2)\n",
    "    assert isBalanced(root2) == False\n",
    "\n",
    "    print(\"All tests passed!\")\n",
    "\n",
    "test_isBalanced()\n"
   ]
  },
  {
   "cell_type": "markdown",
   "metadata": {},
   "source": [
    "## Q8:\n",
    "Given the strings `s` and `t`, determine whether `s` is a subsequence of `t`.  \n",
    "A subsequence of a string is a new string formed by deleting some (or no) characters from the original string without changing the relative positions of the remaining characters. (For example, \"ace\" is a subsequence of \"abcde\", but \"aec\" is not.)"
   ]
  },
  {
   "cell_type": "markdown",
   "metadata": {},
   "source": [
    "## Solution:\n",
    "We can use dynamic programming to realize preprocessing, so that `dp[i][j]` denotes the position of the first occurrence of the character `j` in the string `t`, starting from position `i` and moving forward. In state transfer, if the character at position `i` in `t` is `j`, then `f[i][j]=i`, otherwise `j` appears at position `i+1` starting from backward, i.e., `f[i][j]=f[i+1][j]`, so we have to do the dynamic planning in reverse, enumerating `i` from backward to forward.  \n",
    "The state transition equation is as follows:   \n",
    "$f[i][j] = \n",
    "\\begin{cases} \n",
    "i, & \\text{if } t[i] = j \\\\\n",
    "f[i+1][j], & \\text{otherwise}\n",
    "\\end{cases}\n",
    "$"
   ]
  },
  {
   "cell_type": "code",
   "execution_count": 7,
   "metadata": {},
   "outputs": [
    {
     "name": "stdout",
     "output_type": "stream",
     "text": [
      "True\n"
     ]
    }
   ],
   "source": [
    "\n",
    "def isSubsequence(s: str, t: str) -> bool:\n",
    "    n, m = len(s), len(t)\n",
    "    f = [[0] * 26 for _ in range(m)]\n",
    "    f.append([m] * 26)\n",
    "\n",
    "    for i in range(m - 1, -1, -1):\n",
    "        for j in range(26):\n",
    "            f[i][j] = i if ord(t[i]) == j + ord('a') else f[i + 1][j]\n",
    "    \n",
    "    add = 0\n",
    "    for i in range(n):\n",
    "        if f[add][ord(s[i]) - ord('a')] == m:\n",
    "            return False\n",
    "        add = f[add][ord(s[i]) - ord('a')] + 1\n",
    "    \n",
    "    return True\n",
    "\n",
    "print(isSubsequence(\"abc\", \"ahbgdc\"))"
   ]
  }
 ],
 "metadata": {
  "kernelspec": {
   "display_name": "Python 3 (ipykernel)",
   "language": "python",
   "name": "python3"
  },
  "language_info": {
   "codemirror_mode": {
    "name": "ipython",
    "version": 3
   },
   "file_extension": ".py",
   "mimetype": "text/x-python",
   "name": "python",
   "nbconvert_exporter": "python",
   "pygments_lexer": "ipython3",
   "version": "3.9.13"
  }
 },
 "nbformat": 4,
 "nbformat_minor": 2
}
