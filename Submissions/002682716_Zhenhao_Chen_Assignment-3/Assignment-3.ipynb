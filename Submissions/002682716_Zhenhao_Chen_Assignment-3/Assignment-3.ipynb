{
 "cells": [
  {
   "cell_type": "markdown",
   "source": [
    "# Zhenhao Chen    002682716"
   ],
   "metadata": {
    "collapsed": false
   },
   "id": "ab79e5c38863b237"
  },
  {
   "cell_type": "markdown",
   "source": [
    "# Q1\n",
    "#### Give a brief definitions for the follow:\n",
    "##### i. Dijkstra's Algorithm\n",
    "##### ii. Shortest Path\n",
    "##### iii. Single-Source\n",
    "##### iv. Weighted Graph\n",
    "##### v. Floyd-Warshall\n",
    "##### vi. Depth-First Search (DFS)\n",
    "##### vii. Topological Sorting\n",
    "##### viii. Kruskal's Algorithm\n"
   ],
   "metadata": {
    "collapsed": false
   },
   "id": "fb602d85bb9fe6f9"
  },
  {
   "cell_type": "markdown",
   "source": [
    "### Ans:\n",
    "**i. Dijkstra's Algorithm is an algorithm used to find the shortest path from a single source vertex to all other vertices in a weighted graph, where all edge weights must be non-negative. The time complexity is O(V^2) when using an adjacency matrix or O((V + E) log V) when a min-priority queue or Fibonacci heap is employed to optimize it.**\n",
    "\n",
    "**ii. Shortest path refers to the minimum distance between two vertices in a graph. The path could be defined by different criteria, such as the fewest edges or the smallest total edge weight.**\n",
    "\n",
    "**iii. Single-Source means the algorithm is finding paths from a specific starting vertex to all other vertices in a graph.**\n",
    "\n",
    "**iv. Weighted graph is a graph where each edge is associated with a weight representing its cost. This weight influences pathfinding algorithms like Dijkstra's algorithm.**\n",
    "\n",
    "**v. Floyd-Warshall algorithm is a dynamic programming technique for finding the shortest paths in a weighted graph, considering both positive and negative edge weights. It can also detect negative cycles in the graph. The time complexity is O(V^3).**\n",
    "\n",
    "**vi. DFS is a graph traversal algorithm that starts at the root and explores as deeply as possible along each branch before backtracking. The time complexity is O(V + E).**\n",
    "\n",
    "**vii. Topological sorting is the process of linearly ordering the vertices of a directed acyclic graph in such a way that for every directed edge (u, v), vertex u comes before vertex v in the ordering. The time complexity is O(V + E).**\n",
    "\n",
    "**viii. Kruskal's Algorithm is a greedy algorithm for finding the minimum spanning tree of a connected, undirected graph. It works by adding edges in increasing order of their weights while ensuring that adding an edge does not create a cycle in the selected edges. The time complexity is O(E log E).**"
   ],
   "metadata": {
    "collapsed": false
   },
   "id": "5dc6adf07ad0d8d0"
  },
  {
   "cell_type": "markdown",
   "source": [
    "# Q2\n",
    "#### You are given a directed graph with weighted edges and a source vertex. Your task is to find the shortest path from the source vertex to a specific destination vertex. If there is no path to the destination vertex, you should report that it is unreachable.\n",
    "\n",
    "### Graph:\n",
    "#### source: S\n",
    "#### sink: t\n",
    "#### Edges: (A, B, 5), (A, C, 2), (B, C, 2), (C, D, -4), (B, D, 6), (D, E, 3)\n",
    "#### Your program should implement the Bellman-Ford algorithm to find the shortest path from A to E. Show your steps.\n"
   ],
   "metadata": {
    "collapsed": false
   },
   "id": "12d75a3037edc856"
  },
  {
   "cell_type": "markdown",
   "source": [
    "### Ans:\n",
    "**The following is the pseudocode of the Bellman-Ford algorithm：**\n",
    "\n",
    "```\n",
    "function BellmanFord(G, source):\n",
    "    // Step 1: Initialization\n",
    "    create an array distance[] with size V (number of vertices)\n",
    "    create an array predecessor[] with size V\n",
    "    initialize distance[source] to 0\n",
    "    for all vertices v ≠ source:\n",
    "        set distance[v] to INFINITY\n",
    "        set predecessor[v] to -1\n",
    "\n",
    "    Step 2: Relaxation\n",
    "    repeat V-1 times:  // V is the number of vertices\n",
    "    for each edge (u, v) in G:\n",
    "        if distance[u] + weight(u, v) < distance[v]:\n",
    "            distance[v] = distance[u] + weight(u, v)\n",
    "            predecessor[v] = u\n",
    "\n",
    "    Step 3: Check for negative cycles\n",
    "    for each edge (u, v) in G:\n",
    "        if distance[u] + weight(u, v) < distance[v]:\n",
    "            return \"Graph contains a negative cycle\"\n",
    "    return (distance[], predecessor[])  // Shortest distances and predecessors\n",
    "\n",
    "```\n",
    "\n",
    "**The steps of relaxation are shown in the tables:**\n",
    "\n",
    "|   | A | B     | C     | D      | E     |\n",
    "|---|---|-------|-------|--------|-------|\n",
    "| 0 | 0 | INF   | INF   | INF    | INF   |\n",
    "| 1 | 0 | (5,A) | (2,A) | INF    | INF   |\n",
    "| 2 | 0 | (5,A) | (2,A) | (-2,C) | INF   |\n",
    "| 3 | 0 | (5,A) | (2,A) | (-2,C) | (1,E) |\n",
    "| 4 | 0 | (5,A) | (2,A) | (-2,C) | (1,E) |\n",
    "| 5 | 0 | (5,A) | (2,A) | (-2,C) | (1,E) |\n",
    "\n",
    "**Since we can see from the table, the distance from A to other vertices is fixed after 4 relaxation, which means there is negative cycle. Thus, the shortest path from A to E is A -> C -> D -> E. The distance is 1.**\n",
    "\n",
    "\n"
   ],
   "metadata": {
    "collapsed": false
   },
   "id": "9b12261d9b22164c"
  },
  {
   "cell_type": "markdown",
   "source": [],
   "metadata": {
    "collapsed": false
   },
   "id": "b2ef3e7e17655305"
  },
  {
   "cell_type": "markdown",
   "source": [
    "# Q3\n",
    "#### You are given a network flow problem with a directed graph, capacities on the edges, a source node A, and a sink node F. Your task is to find the maximum flow from node A to node G.\n",
    "\n",
    "### Graph:\n",
    "#### Edges: (A, B, 28), (A, E, 7), (A, D, 19), (B, C, 15), (B, E, 6), (B, C, 15), (E, D, 12), (D, C, 14), (D, G, 36), (C, F, 7), (C, G, 23), (F, E, 10), (F, G, 18)\n",
    "#### source: A\n",
    "#### sink: G\n",
    "#### Your program should implement the Ford-Fulkerson algorithm to solve this problem and find the maximum flow from the source node A to the sink node F in the network.\n"
   ],
   "metadata": {
    "collapsed": false
   },
   "id": "182c793cfda81395"
  },
  {
   "cell_type": "markdown",
   "source": [
    "### Ans:\n",
    "**The core of Ford-Fulkerson algorithm is to keep finding Augmenting Path until there's no more Augmenting Path. The pseudocode of Ford-Fulkerson algorithm is as below (without the part of finding a path):**\n",
    "\n",
    "```\n",
    "function FordFulkerson(Graph, source, sink):\n",
    "    Initialize flow to zero for all edges in Graph\n",
    "\n",
    "    while there is a path from source to sink in the residual graph:\n",
    "        find an augmenting path from source to sink in the residual graph\n",
    "        let value be the minimum capacity value on the path\n",
    "\n",
    "        for each edge (u, v) in the path:\n",
    "            increase the flow on edge (u, v) by value (the minimum capacity value on the path)\n",
    "            decrease the flow on edge (u, v) by value (the minimum capacity value on the path)\n",
    "\n",
    "    return the maximum flow\n",
    "\n",
    "```\n",
    "\n",
    "**The steps for finding Augmenting Paths are shown below:\n",
    "AP stands for Augmenting Path\n",
    "AP1: (A-D: 0-19) -> (D-G: 17-19) Flow 19\n",
    "AP2: (A-B: 13-15) -> (B-C: 0-15) -> (C-G: 8-15) Flow 15\n",
    "AP3: (A-B: 7-6) -> (B-E: 0-6) -> (E-D: 6-6) -> (D-C: 8-6) -> (C-G: 2-6) Flow 6\n",
    "AP4: (A-E: 1-6) -> (E-D: 0-6) -> (D-C: 2-6) -> (C-F: 1-6) -> (F-G: 12-6) Flow 6**\n",
    "\n",
    "**Since there is no more Augmenting Path in the graph, the maximum flow from source node A to sink node F is:\n",
    "19 + 15 + 6 + 6 = 46.**"
   ],
   "metadata": {
    "collapsed": false
   },
   "id": "87604489b28d93e9"
  },
  {
   "cell_type": "markdown",
   "source": [
    "# Q4\n",
    "#### You are given a network flow problem with a directed graph, capacities on the edges, a source node A, and a sink node E. Your task is to find the maximum flow from node A to node E using the Preflow-Push algorithm.\n",
    "\n",
    "### Graph:\n",
    "#### Edges: (A, B, 3), (B, C, 1), (C, D, 2)\n",
    "#### Source: A\n",
    "#### Sink: D\n",
    "#### Your program should implement the Preflow-Push algorithm to solve this problem and find the maximum flow from the source node A to the sink node D in the network."
   ],
   "metadata": {
    "collapsed": false
   },
   "id": "2dab9d781c2b50c9"
  },
  {
   "cell_type": "markdown",
   "source": [
    "### Ans:\n",
    "**The core idea is to iteratively push flow along admissible edges, maintain preflows, and use the relabel operation to avoid cycling in cases where no admissible edges are available. The algorithm continues until the maximum flow is reached. The simple version pseudocode is as follows:**\n",
    "```\n",
    "function PreflowPush(Graph, source, sink):\n",
    "    Initialize preflow on all edges as 0\n",
    "    Initialize the height of source node as the number of nodes\n",
    "    Initialize the excess flow of source node as infinity\n",
    "    Initialize the height and excess flow of other nodes as 0\n",
    "\n",
    "    Create a list or queue of active nodes and add all nodes except the source\n",
    "    Initialize a pointer to the first active node\n",
    "\n",
    "    while there are active nodes:\n",
    "        node = get next active node based on the pointer\n",
    "\n",
    "        if there is an admissible edge from node:\n",
    "            Push flow along the admissible edge (reduce excess at node, increase at destination)\n",
    "        else if node is not the source:\n",
    "            Relabel the node to the smallest height possible\n",
    "        else if node is the source and there is no admissible edge:\n",
    "            Remove the node from the list of active nodes\n",
    "\n",
    "    return the maximum flow\n",
    "\n",
    "```\n",
    "\n",
    "**1. Set all node heights to zero, except for S, which should be |V|.**\n",
    "**2. f(e) = ce for all e = (s, v) and f(e) = 0 for all other edges.**\n",
    "**3. Now push and relabel while there are nodes with excess ef(v) > 0, other than the source or sink.**\n",
    "\n",
    "**Initialize:\n",
    "Set all node heights to zero, except for A=4.\n",
    "A: Relabel -> {A, h = 4}\n",
    "A-B: Push -> {A-B, f(e(A-B)) = 3, ef(B) = 3}\n",
    "End initialize**\n",
    "\n",
    "**B: Relabel -> {B, h = 1}\n",
    "ef(B) = 3\n",
    "B-C: Push -> {B-C, f(e(B-C)) = 1, ef(B) = 2, ef(C) = 1}**\n",
    "\n",
    "**C: Relabel -> {C, h = 1}\n",
    "ef(C) = 1\n",
    "C-D: Push -> {C-D, f(e(C-D)) = 1, ef(C) = 0, ef(D) = 1}**\n",
    "\n",
    "**B: Relabel -> {B, h = 5}\n",
    "ef(B) = 2\n",
    "A-B: Push -> {A-B, f(e(A-B)) = -2, ef(B) = 0}**\n",
    "\n",
    "**No remaining excess, algorithm terminates.\n",
    "ef(D) = 1 therefore the flow to D is 1;**"
   ],
   "metadata": {
    "collapsed": false
   },
   "id": "c38a0ea1b3f1d696"
  },
  {
   "cell_type": "markdown",
   "source": [
    "# Q5\n",
    "#### You are tasked with optimizing transportation routes for a delivery service. You are given a weighted directed graph G = (V, E), where V represents a set of cities, and E represents the roads connecting them. The weight of each edge e ∈ E represents the travel cost between two cities.\n",
    "\n",
    "#### Given a limited budget B, you want to find the shortest path from a source city s to a target city t while ensuring that the total cost of the selected path does not exceed your budget. You need to design a polynomial-time algorithm to find the shortest path from s to t under this budget constraint."
   ],
   "metadata": {
    "collapsed": false
   },
   "id": "6d4e1005e0adc998"
  },
  {
   "cell_type": "markdown",
   "source": [
    "### Ans:\n",
    "**We can apply Dijkstra's algorithm to solve this problem.**\n",
    "\n",
    "**1.Initialize a distance array dist[V] with initial values set to infinity and dist[s] set to 0. Create a priority queue (min-heap) for vertices based on their distance values.**\n",
    "**2.While the priority queue is not empty, do the following:\n",
    "a. Extract the vertex u with the minimum distance from the priority queue.\n",
    "b. For each neighboring vertex v of u, calculate the cost of reaching v from u.\n",
    "c. If the total cost of reaching v is within the budget (dist[u] + cost(u, v) <= B) and the new distance dist[u] + cost(u, v) is less than the current dist[v], update dist[v] with this shorter distance and add v to the priority queue.**\n",
    "**3.After the algorithm terminates, the value of dist[t] represents the shortest path from s to t within the budget B. If dist[t] is still set to infinity, it means there is no feasible path from s to t within the budget.**\n",
    "\n",
    "**By applying Dijkstra's algorithm, we can find the shortest path within the given budget, and ensuring that the total cost of the selected path does not exceed B.**"
   ],
   "metadata": {
    "collapsed": false
   },
   "id": "f7131d54cc81929d"
  },
  {
   "cell_type": "markdown",
   "source": [
    "# Q6\n",
    "#### You are in charge of organizing a large event in a stadium with a limited capacity. The stadium has n entrance gates through which attendees can enter. There are k different sections within the stadium where attendees can be seated. Each section has a maximum capacity, and you want to ensure that the event attendees are evenly distributed across these sections.\n",
    "\n",
    "#### You need to determine if it's possible to assign the event attendees to entrance gates in a way that ensures each section's capacity is not exceeded. Specifically, you want to find out if there exists a feasible assignment of attendees to gates that maintains a balanced load on each section, ensuring that no section is overcrowded.\n",
    "\n",
    "#### Develop a polynomial-time algorithm that, given the capacities of the sections, the capacities of the gates, and the locations of the attendees, determines whether such an assignment is possible."
   ],
   "metadata": {
    "collapsed": false
   },
   "id": "830b0ed85184cab4"
  },
  {
   "cell_type": "markdown",
   "source": [
    "### Ans:\n",
    "#### Algorithm\n",
    "1. Create a flow network with the following components:\n",
    "Source node s.\n",
    "- A node for each entrance gate.\n",
    "- A node for each section.\n",
    "- A sink node t.\n",
    "2. Add edges with capacities to the flow network:\n",
    "- Connect the source node s to each entrance gate with a capacity equal to the maximum capacity of the gate.\n",
    "- Connect each entrance gate to each section that it can provide access to. The capacity of these edges is the maximum number of attendees that can enter through the gate and be seated in the section.\n",
    "- Connect each section to the sink node t with a capacity equal to the maximum capacity of the section.\n",
    "3. Calculate the maximum flow in this flow network using a max-flow algorithm such as the Ford-Fulkerson method.\n",
    "4. If the maximum flow in the network equals the sum of the section capacities, then there exists an assignment that ensures a balanced load on each section. Otherwise, it's not possible to distribute the attendees evenly without exceeding section capacities.\n",
    "\n",
    "#### Time Complexity\n",
    "- The number of entrance gates, denoted as 'm' affects the creation of edges from the source node to each entrance gate and the connections from entrance gates to sections. This part of the algorithm has a time complexity of O(m).\n",
    "- The number of sections, denoted as 'n' influences the creation of edges from entrance gates to sections and the connections from sections to the sink node. This part of the algorithm also has a time complexity of O(n).\n",
    "- The maximum section capacity, denoted as 'capacity' affects the calculation of edge capacities. While this value may not be part of the input size, it plays a role in determining the number of iterations required by max-flow algorithms. The maximum flow is limited by this capacity.\n",
    "**Therefore, the algorithm should have a time complexity of O(m * n * capacity).**\n"
   ],
   "metadata": {
    "collapsed": false
   },
   "id": "cfc6deb7ff31ff3e"
  },
  {
   "cell_type": "markdown",
   "source": [
    "# Q7\n",
    "#### You are analyzing the runtime of an algorithm, and you have identified a recurrence relation that describes its time complexity. For each of the following recurrences, determine whether the Master Theorem can be applied to find an expression for the runtime T(n). If it can be applied, provide the expression for T(n); otherwise, indicate that the Master Theorem does not apply.\n",
    "\n",
    "##### i. T(n) = 4T(n/2) + n^2\n",
    "##### T(n) = 2T(n/4) + √n\n",
    "##### T(n) = 5T(n/5) + n^5\n",
    "##### T(n) = 3T(n/3) + n/2\n",
    "##### T(n) = 2T(n/2) + n^2 log n\n"
   ],
   "metadata": {
    "collapsed": false
   },
   "id": "52747ae68f46cd7e"
  },
  {
   "cell_type": "markdown",
   "source": [
    "### Ans:\n",
    "1. A = 4, B = 2, log_b(a) = 2, f(n) = n^2\n",
    "The Master Theorem applies here, and we're in Case 2.\n",
    "T(n) = Θ($n^2$ * log n)\n",
    "2. A = 2, B = 4, log_b(a) = 1/2, f(n) = √n\n",
    "The Master Theorem applies here, and we're in Case 1.\n",
    "T(n) = Θ(n^(1/2 + ε)) where ε > 0\n",
    "3. A = 5, B = 5, log_b(a) = 1, f(n) = n^5\n",
    "The Master Theorem applies here, and we're in Case 1.\n",
    "T(n) = Θ($n^5$)\n",
    "4. A = 3, B = 3, log_b(a) = 1, f(n) = n/2\n",
    "The Master Theorem applies here, and we're in Case 3.\n",
    "T(n) = Θ(n)\n",
    "5. A = 2, B = 2, log_b(a) = 1, f(n) = n^2 log n\n",
    "The Master Theorem applies here, and we're in Case 2.\n",
    "T(n) = Θ($n^2$ * $log^2$ n)"
   ],
   "metadata": {
    "collapsed": false
   },
   "id": "809e1d698d9d083b"
  },
  {
   "cell_type": "markdown",
   "source": [
    "# Q8\n",
    "#### You are given a set of items, each with a weight and a value, and a knapsack with a maximum weight capacity. The goal is to determine the maximum total value of items that can be placed into the knapsack without exceeding its capacity. Each item can either be included (1) or excluded (0) from the knapsack.\n",
    "\n",
    "#### Input:\n",
    "##### A list of items, where each item is represented by its weight (w[i]) and value (v[i]).\n",
    "##### The maximum weight capacity of the knapsack (W).\n",
    "#### Your task is to select items to maximize the total value while ensuring that the sum of the weights of the selected items does not exceed the knapsack's capacity.\n",
    "\n",
    "#### Items:\n",
    "##### Item 1: Weight = 2, Value = 3\n",
    "##### Item 2: Weight = 3, Value = 4\n",
    "##### Item 3: Weight = 4, Value = 5\n",
    "##### Item 4: Weight = 5, Value = 6\n",
    "##### Item 5: Weight = 6, Value = 9\n",
    "##### Knapsack Capacity (W): 6"
   ],
   "metadata": {
    "collapsed": false
   },
   "id": "8ee38e9301ae5757"
  },
  {
   "cell_type": "markdown",
   "source": [
    "### Ans:\n",
    "\n",
    "```\n",
    "function DP():\n",
    "    Initialize a 2D array dp of size (n+1) * (W+1) with zeros.\n",
    "    Initialize a list selected_items to store the selected items.\n",
    "    \n",
    "    for i from 1 to n:\n",
    "        for w from 0 to W:\n",
    "            if weights[i - 1] > w:\n",
    "                dp[i][w] = dp[i - 1][w]\n",
    "            else:\n",
    "                dp[i][w] = max(dp[i - 1][w], dp[i - 1][w - weights[i - 1]] + values[i - 1])\n",
    "        \n",
    "    i = numbers of items\n",
    "    capacity = knapsack capacity\n",
    "    while i > 0 and w > 0:\n",
    "        if dp[i][capacity] != dp[i - 1][capacity]:\n",
    "            selected_items.append(i)  # Item i was included\n",
    "            capacity -= weights[i - 1]\n",
    "        i -= 1\n",
    "            \n",
    "    return dp[n][W]\n",
    "\n",
    "```\n",
    "\n",
    "\n",
    "**The steps of relaxation are shown in the tables:**\n",
    "\n",
    "| W | item1 | item2 | item3 | item4 | item5 |\n",
    "|---|-------|------|-------|-------|-------|\n",
    "| 1 | 0     | 0    | 0     | 0     | 0     |\n",
    "| 2 | 3     | 3    | 3     | 3     | 3     |\n",
    "| 3 | 3     | 4    | 4     | 4     | 4     |\n",
    "| 4 | 3     | 4    | 5     | 5     | 5     |\n",
    "| 5 | 3     | 7    | 7     | 7     | 7     |\n",
    "| 6 | 3     | 7    | 8     | 8     | 9     |\n",
    "\n",
    "**According to the algorithm, we can find the selected items is {6}, and the total value is 9.**"
   ],
   "metadata": {
    "collapsed": false
   },
   "id": "58bf5902e62bcc2e"
  },
  {
   "cell_type": "code",
   "execution_count": null,
   "outputs": [],
   "source": [],
   "metadata": {
    "collapsed": false
   },
   "id": "434caaf72b825a8b"
  }
 ],
 "metadata": {
  "kernelspec": {
   "display_name": "Python 3",
   "language": "python",
   "name": "python3"
  },
  "language_info": {
   "codemirror_mode": {
    "name": "ipython",
    "version": 2
   },
   "file_extension": ".py",
   "mimetype": "text/x-python",
   "name": "python",
   "nbconvert_exporter": "python",
   "pygments_lexer": "ipython2",
   "version": "2.7.6"
  }
 },
 "nbformat": 4,
 "nbformat_minor": 5
}
