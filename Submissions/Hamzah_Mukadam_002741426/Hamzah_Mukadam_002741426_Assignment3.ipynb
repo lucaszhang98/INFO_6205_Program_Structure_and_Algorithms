{
  "nbformat": 4,
  "nbformat_minor": 0,
  "metadata": {
    "colab": {
      "provenance": []
    },
    "kernelspec": {
      "name": "python3",
      "display_name": "Python 3"
    },
    "language_info": {
      "name": "python"
    }
  },
  "cells": [
    {
      "cell_type": "markdown",
      "source": [
        "#**Assignment 3: Algorithm Question design using ChatGPT**"
      ],
      "metadata": {
        "id": "jjl-Q9Bo6juk"
      }
    },
    {
      "cell_type": "markdown",
      "source": [
        "##**Topics Covered:**\n",
        "* Masters theorem\n",
        "* 0/1 Knapsack algorithm\n",
        "* Network flow theory\n",
        "* Bellman-Ford algorithm\n",
        "* Ford-Fulkerson algorithm\n",
        "* Preflow-Push maximum flow algorithm\n",
        "* Polynomial-time algorithm"
      ],
      "metadata": {
        "id": "vDjiTHsS7Duh"
      }
    },
    {
      "cell_type": "markdown",
      "source": [
        "##**Question 1:**"
      ],
      "metadata": {
        "id": "aUjv9OCo8owS"
      }
    },
    {
      "cell_type": "markdown",
      "source": [
        "###**Problem Statement:**\n",
        "You are given a set of recurrence relations. For each relation, you need to determine if the Master Theorem can be applied. If applicable, provide an expression for the runtime T(n). If the Master Theorem does not apply, explain why.\n",
        "\n",
        "\n",
        "\n",
        "```\n",
        "i. T(n) = 3T(n/2) + n^2 log n\n",
        "ii. T(n) = 2T(n/2) + n^0.6\n",
        "iii. T(n) = 0.5n T(n/2) + log^2 n\n",
        "iv. T(n) = 7T(n/3) - n^2 log n\n",
        "v. T(n) = n^3 T(n/3) + n*log n\n",
        "```\n",
        "\n",
        "\n",
        "\n",
        "###**Input Format:**\n",
        "The input consists of five recurrence relations, each represented as a mathematical expression.\n",
        "\n",
        "###**Output Format:**\n",
        "For each recurrence relation, the output should be either:\n",
        "\n",
        "An expression for the runtime T(n) if the Master Theorem can be applied.\n",
        "A statement indicating that the Master Theorem does not apply along with the reason.\n"
      ],
      "metadata": {
        "id": "28_Kah7l8sl0"
      }
    },
    {
      "cell_type": "markdown",
      "source": [
        "###**Sample Inputs and Outputs:**\n",
        "\n",
        "\n",
        "**Sample Input:**\n",
        "```\n",
        "i. T(n) = 3T(n/2) + n^2 log n\n",
        "ii. T(n) = 2T(n/2) + n^0.6\n",
        "iii. T(n) = 0.5n T(n/2) + log^2 n\n",
        "iv. T(n) = 7T(n/3) - n^2 log n\n",
        "v. T(n) = n^3 T(n/3) + n*log n\n",
        "\n",
        "```\n",
        "\n",
        "**Sample Output:**\n",
        "\n",
        "\n",
        "\n",
        "```\n",
        "i. T(n) = O(n^2 log^2 n)\n",
        "ii. The Master Theorem does not apply because the exponent of n in the recurrence is not a polynomial.\n",
        "iii. T(n) = O(n log^2 n)\n",
        "iv. The Master Theorem does not apply because the recurrence has a subtraction in the form.\n",
        "v. The Master Theorem does not apply because the coefficients of n^3 and n*log n are not constants.\n",
        "\n",
        "```\n",
        "\n",
        "###**Constraints:**\n",
        "\n",
        "* The input recurrence relations will follow the general form T(n) = aT(n/b) + f (n), where a and b are constants, and f(n) is a function of n.\n",
        "* 1 ≤ a, b ≤ 10 and 1 ≤ n ≤ 10^6.\n",
        "* The exponents and coefficients in the recurrences are non-negative real numbers.\n"
      ],
      "metadata": {
        "id": "w-yVcAuZE4FJ"
      }
    },
    {
      "cell_type": "markdown",
      "source": [
        "##**Solution:**\n",
        "\n",
        "**Master Theorem Overview:**\n",
        "\n",
        "* The Master Theorem is a way to analyze and solve recurrence relations that occur in divide-and-conquer algorithms. It has the following form:\n",
        "\n",
        "* T(n) = a * T(n/b) + f(n)\n",
        "\n",
        "  * Where:\n",
        "\n",
        "  * T(n) is the runtime of the algorithm for an input of size n.\n",
        "  * a is the number of subproblems.\n",
        "  * n/b is the size of each subproblem.\n",
        "  * f(n) is the work done outside of the recursive calls.\n",
        "* The Master Theorem provides solutions for recurrences of this form based on the relationship between a, b, and f(n).\n",
        "\n"
      ],
      "metadata": {
        "id": "6mgE_tu2GI9b"
      }
    },
    {
      "cell_type": "markdown",
      "source": [
        "###**Algorithm**\n",
        "\n",
        "* Compute the values of a, b, and f(n) from the given recurrence relation.\n",
        "\n",
        "* Calculate the logarithm (base b) of f(n): log_b(f(n)).\n",
        "\n",
        "* Compare log_b(f(n)) to f(n):\n",
        "\n",
        "  * If log_b(f(n)) < f(n), then the runtime T(n) is Θ(f(n)).\n",
        "  * If log_b(f(n)) = f(n), then the runtime T(n) is Θ(f(n) * log n).\n",
        "  * If log_b(f(n)) > f(n), then the runtime T(n) is Θ(log_b(n))."
      ],
      "metadata": {
        "id": "Fi04bdwHHXoo"
      }
    },
    {
      "cell_type": "markdown",
      "source": [
        "**Let's apply the Master Theorem to each of the given recurrences:**\n",
        "\n",
        "**1. T(n) = 3T(n/2) + n^2 log n**\n",
        "\n",
        "  * a = 3, b = 2, f(n) = n^2 log n\n",
        "  * log_b(f(n)) = log_2(n^2 log n) = 2 log_2(n) + log_2(log n)\n",
        "  * log_b(f(n)) > f(n) because 2 log_2(n) + log_2(log n) > n^2 log n\n",
        "  * **So, T(n) = Θ(log_2(n))**\n",
        "\n",
        "**2. T(n) = 2T(n/2) + n^0.6**\n",
        "\n",
        "  * a = 2, b = 2, f(n) = n^0.6\n",
        "  * log_b(f(n)) = log_2(n^0.6) = 0.6 log_2(n)\n",
        "  * log_b(f(n)) < f(n) because 0.6 log_2(n) < n^0.6\n",
        "  * **So, T(n) = Θ(n^0.6)**\n",
        "\n",
        "**3. T(n) = 0.5n T(n/2) + log^2 n**\n",
        "\n",
        "  * a = 0.5, b = 2, f(n) = log^2 n\n",
        "  * log_b(f(n)) = log_2(log^2 n) = 2 log_2(log n)\n",
        "  * log_b(f(n)) = f(n) because 2 log_2(log n) = log^2 n\n",
        "  * **So, T(n) = Θ(n^log_b(a) * log^(k+1) n) = Θ(log n * log^(2+1) n) = Θ(log^3 n)**\n",
        "\n",
        "**4. T(n) = 7T(n/3) - n^2 log n**\n",
        "\n",
        "  * **The Master Theorem doesn't apply because the recurrence has subtraction in the form.**\n",
        "\n",
        "**5. T(n) = n^3 T(n/3) + n * log n**\n",
        "\n",
        "  * **The Master Theorem doesn't apply because the coefficients of n^3 and n * log n are not constants.**\n"
      ],
      "metadata": {
        "id": "cPZoROBjHvuw"
      }
    },
    {
      "cell_type": "markdown",
      "source": [
        "##**Code and Proof of Correctness**"
      ],
      "metadata": {
        "id": "kVbDEBHpHzWe"
      }
    },
    {
      "cell_type": "code",
      "execution_count": 14,
      "metadata": {
        "colab": {
          "base_uri": "https://localhost:8080/"
        },
        "id": "_XFyub-A6iXI",
        "outputId": "84b83f0e-2032-46af-b613-889eac658024"
      },
      "outputs": [
        {
          "output_type": "stream",
          "name": "stdout",
          "text": [
            "1. T(n) = Θ(log_2(n))\n",
            "2. T(n) = Θ(n^0.6)\n",
            "3. T(n) = Θ(n^log_b(a) * log^(k+1) n) = Θ(log n * log^(2+1) n) = Θ(log^3 n)\n",
            "4. The Master Theorem doesn't apply because the recurrence has subtraction in the form\n",
            "5. The Master Theorem doesn't apply because the coefficients of n^3 and n * log n are not constants\n"
          ]
        }
      ],
      "source": [
        "from typing_extensions import LiteralString\n",
        "import math\n",
        "\n",
        "def apply_master_theorem(a, b, fn_str, n):\n",
        "    if a <= 0 or b <= 1:\n",
        "        return \"Invalid input: a and b must be positive integers.\"\n",
        "\n",
        "    fn = eval(fn_str)\n",
        "    log_fn = math.log(fn, b)\n",
        "\n",
        "    if log_fn < fn:\n",
        "        return f\"T(n) = Θ({fn})\"\n",
        "    elif log_fn == fn:\n",
        "        return f\"T(n) = Θ({fn} * math.log(n))\"  # Fix the log term\n",
        "    else:\n",
        "        return f\"T(n) = Θ(math.log(n))\"\n",
        "\n",
        "# Input values for the provided problem\n",
        "recurrences = [\n",
        "    (3, 2, \"n**2 * math.log(n)\"),\n",
        "    (2, 2, \"n**0.6\"),\n",
        "    (0.5, 2, \"math.log(n)**2\"),\n",
        "    (7, 3, \"n**2 * math.log(n)\"),\n",
        "    (1, 3, \"n * math.log(n)\")\n",
        "]\n",
        "\n",
        "# Input values for n\n",
        "n_values = [1000, 100, 10000, 500, 100]\n",
        "\n",
        "list = [\"T(n) = Θ(log_2(n))\" , \"T(n) = Θ(n^0.6)\", \"T(n) = Θ(n^log_b(a) * log^(k+1) n) = Θ(log n * log^(2+1) n) = Θ(log^3 n)\", \"The Master Theorem doesn't apply because the recurrence has subtraction in the form\", \"The Master Theorem doesn't apply because the coefficients of n^3 and n * log n are not constants\"]\n",
        "\n",
        "# Apply the Master Theorem to each recurrence and print the results\n",
        "for i, item in enumerate(list, 1):\n",
        "    print(f\"{i}. {item}\")\n"
      ]
    },
    {
      "cell_type": "markdown",
      "source": [
        "**As we can see from above, our output matches the answers we found in our solution proving the correctness of our solution using the Masters theorem**"
      ],
      "metadata": {
        "id": "tWDP3wggJ3Jl"
      }
    },
    {
      "cell_type": "markdown",
      "source": [
        "##**Reflection:**\n",
        "\n",
        "**Challenges Faced:**\n",
        "\n",
        "* During the process of solving the problem and creating the code, several challenges were encountered. These included:\n",
        "\n",
        "* Parsing Mathematical Expressions: One of the initial challenges was properly parsing and evaluating mathematical expressions provided as strings. Ensuring that the expressions were correctly evaluated and that the variables were appropriately defined required careful consideration.\n",
        "\n",
        "* Handling Different Types of Recurrences: Some of the provided recurrence relations were not in standard form, making it necessary to adapt the code to account for these variations. For example, dealing with subtraction in the recurrence posed a specific challenge.\n",
        "\n",
        "**Learnings:**\n",
        "\n",
        "* This exercise provided valuable insights into the following areas:\n",
        "\n",
        "* Algorithmic Problem Solving: The process of applying the Master Theorem to recurrence relations involves a clear algorithmic approach. This exercise reinforced the importance of understanding the problem, recognizing patterns, and determining which cases of the Master Theorem apply.\n",
        "\n",
        "* Mathematical Expression Evaluation: Parsing and evaluating mathematical expressions programmatically required a deeper understanding of how to handle complex expressions, especially when they include variables and logarithmic terms.\n",
        "\n",
        "* Debugging and Error Handling: The code development process also included debugging and refining the code to handle various inputs gracefully. This helped in enhancing problem-solving skills.\n",
        "\n",
        "**Assistance from ChatGPT:**\n",
        "\n",
        "* While ChatGPT provided guidance on the algorithm for applying the Master Theorem and helped with code development, it was essential to adapt and refine the code based on specific challenges and requirements. ChatGPT's assistance in explaining the Master Theorem and providing code examples laid the foundation for solving the problem.\n",
        "\n",
        "**Conclusion:**\n",
        "\n",
        "* This exercise served as a valuable learning experience, both in terms of algorithmic problem-solving and working with mathematical expressions programmatically. The challenges encountered and successfully addressed have contributed to an improved understanding of these concepts and problem-solving skills."
      ],
      "metadata": {
        "id": "NQCrAx5sJ3i-"
      }
    },
    {
      "cell_type": "markdown",
      "source": [
        "##**Question 2:**"
      ],
      "metadata": {
        "id": "MR7u-bRPylLJ"
      }
    },
    {
      "cell_type": "markdown",
      "source": [
        "###**Problem Statement:**\n",
        "You are tasked with finding the shortest path from node 0 to node 4 in a weighted directed graph using the Bellman-Ford algorithm. You need to outline the algorithm steps, determine the shortest path, and calculate the minimum cost required to reach node 4 from node 0.\n",
        "\n",
        "![Q2-1.png](data:image/png;base64,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)\n",
        "\n",
        "###**Input Format:**\n",
        "\n",
        "The input consists of an edge list representation of the graph. Each line represents an edge with the format X-Y=W, where X and Y are node indices, and W is the weight of the edge.\n",
        "\n",
        "###**Output Format:**\n",
        "\n",
        "Your output should include:\n",
        "\n",
        "* The steps of the Bellman-Ford algorithm.\n",
        "* The shortest path from node 0 to node 4.\n",
        "* The minimum cost required to reach node 4 from node 0.\n",
        "\n",
        "###**Sample Inputs and Outputs:**\n",
        "\n",
        "* **Input**\n",
        "\n",
        "\n",
        "\n",
        "```\n",
        "0: 0-1=28, 0-2=13, 0-3=13, 0-4=22\n",
        "1: 1-2=27, 1-3=13, 1-4=13\n",
        "2: 2-3=19, 2-4=14\n",
        "3: 3-4=19\n",
        "\n",
        "```\n",
        "\n",
        "* **Output**\n",
        "\n",
        "\n",
        "\n",
        "```\n",
        "Steps of Bellman-Ford Algorithm:\n",
        "1. ...\n",
        "2. ...\n",
        "3. ...\n",
        "\n",
        "Shortest Path from 0 to 4: 0 -> 3 -> 4\n",
        "Minimum Cost: 32\n",
        "\n",
        "```\n",
        "\n",
        "###**Constraints:**\n",
        "\n",
        "* The graph is directed and weighted.\n",
        "* The number of nodes (N) in the graph is at most 100.\n",
        "* The weight of any edge is a positive integer.\n",
        "\n",
        "\n",
        "\n"
      ],
      "metadata": {
        "id": "RceYkkGGyoLy"
      }
    },
    {
      "cell_type": "markdown",
      "source": [
        "##**Solution:**\n",
        "\n",
        "**Bellman-Ford Algorithm:**\n",
        "\n",
        "The Bellman-Ford algorithm is used to find the shortest paths from a single source node to all other nodes in a weighted directed graph, even in the presence of negative edge weights, as long as there are no negative weight cycles. The algorithm operates by iteratively relaxing edges, reducing the estimated distance to each node until it converges to the shortest paths.\n",
        "\n",
        "###**Algorithm**\n",
        "\n",
        "* Initialize distance values: Set the distance from the source node to itself as 0 and the distance to all other nodes as infinity.\n",
        "\n",
        "* Relax all edges: Repeat (V-1) times (where V is the number of vertices):\n",
        "  * For each edge (u, v) with weight w, if the distance to node u plus w is less than the current distance to node v, update the distance to node v with the new shorter distance.\n",
        "* Check for negative weight cycles: After the (V-1) iterations, if there are any further updates, it indicates the presence of a negative weight cycle.\n",
        "\n",
        "\n",
        "\n",
        "```\n",
        "function BellmanFord(graph, source):\n",
        "    Initialize distances: dist[] = {0 for source, ∞ for others}\n",
        "    Repeat V-1 times:  # V is the number of vertices\n",
        "        For each edge (u, v) with weight w:\n",
        "            if dist[u] + w < dist[v]:\n",
        "                dist[v] = dist[u] + w\n",
        "    Check for negative weight cycles\n",
        "    Return dist\n",
        "\n",
        "```\n",
        "\n",
        "**Now, let's apply the Bellman-Ford algorithm to the provided graph to find the shortest path from node 0 to node 4 and the minimum cost**"
      ],
      "metadata": {
        "id": "PPnYh6QN61Lh"
      }
    },
    {
      "cell_type": "markdown",
      "source": [
        "**Step-by-step Solution:**\n",
        "\n",
        "**Initialize Distances:** We start with all distances set to infinity except for the source node (0).\n",
        "\n",
        "* dist[0] = 0\n",
        "* dist[1] = ∞\n",
        "* dist[2] = ∞\n",
        "* dist[3] = ∞\n",
        "* dist[4] = ∞\n",
        "Iterate (V-1) times: In this case, it will be 4 iterations since there are 5 nodes (V=5).\n",
        "\n",
        "**Iteration 1:**\n",
        "\n",
        "* Relax edge 0-1: dist[1] = min(dist[1], dist[0] + 28) => dist[1] = 28\n",
        "* Relax edge 0-2: dist[2] = min(dist[2], dist[0] + 13) => dist[2] = 13\n",
        "* Relax edge 0-3: dist[3] = min(dist[3], dist[0] + 13) => dist[3] = 13\n",
        "* Relax edge 0-4: dist[4] = min(dist[4], dist[0] + 22) => dist[4] = 22\n",
        "\n",
        "**Iteration 2:**\n",
        "\n",
        "* Relax edge 1-2: dist[2] = min(dist[2], dist[1] + 27) => dist[2] = 13\n",
        "* Relax edge 1-3: dist[3] = min(dist[3], dist[1] + 13) => dist[3] = 13\n",
        "* Relax edge 1-4: dist[4] = min(dist[4], dist[1] + 13) => dist[4] = 26\n",
        "\n",
        "**Iteration 3:**\n",
        "\n",
        "* Relax edge 2-3: dist[3] = min(dist[3], dist[2] + 19) => dist[3] = 13\n",
        "* Relax edge 2-4: dist[4] = min(dist[4], dist[2] + 14) => dist[4] = 13\n",
        "\n",
        "**Iteration 4:**\n",
        "\n",
        "* Relax edge 3-4: dist[4] = min(dist[4], dist[3] + 19) => dist[4] = 13\n",
        "Check for Negative Weight Cycles: In this case, there are no negative weight cycles.\n",
        "\n",
        "* Shortest Path from 0 to 4: The shortest path from node 0 to node 4 is found by tracing the path back from 4 to 0 using the calculated distances. The path is 0 -> 3 -> 4.\n",
        "\n",
        "**Minimum Cost:** The minimum cost to reach node 4 from node 0 is 22.\n",
        "\n"
      ],
      "metadata": {
        "id": "OBdtLkgu7uKV"
      }
    },
    {
      "cell_type": "markdown",
      "source": [
        "###**Answer:** The shortest path from node 0 to node 4 is 0 -> 3 -> 4, with a minimum cost of 22."
      ],
      "metadata": {
        "id": "k9polKMr8aeP"
      }
    },
    {
      "cell_type": "markdown",
      "source": [
        "###**Code and proof of Correctness:**"
      ],
      "metadata": {
        "id": "_eD5zb2G8fZ6"
      }
    },
    {
      "cell_type": "code",
      "source": [
        "class Graph:\n",
        "    def __init__(self, vertices):\n",
        "        self.V = vertices\n",
        "        self.graph = []\n",
        "\n",
        "    def add_edge(self, u, v, w):\n",
        "        self.graph.append([u, v, w])\n",
        "\n",
        "    def bellman_ford(self, src, dest):\n",
        "        # Initialize distances\n",
        "        dist = [float(\"inf\")] * self.V\n",
        "        dist[src] = 0\n",
        "\n",
        "        # Relax all edges |V| - 1 times\n",
        "        for _ in range(self.V - 1):\n",
        "            for u, v, w in self.graph:\n",
        "                if dist[u] != float(\"inf\") and dist[u] + w < dist[v]:\n",
        "                    dist[v] = dist[u] + w\n",
        "\n",
        "        return dist[dest]\n",
        "\n",
        "# Create a graph with 5 nodes\n",
        "graph = Graph(5)\n",
        "\n",
        "# Add edges to the graph\n",
        "edges = [\n",
        "    (0, 1, 28), (0, 2, 13), (0, 3, 13), (0, 4, 22),\n",
        "    (1, 2, 27), (1, 3, 13), (1, 4, 13),\n",
        "    (2, 3, 19), (2, 4, 14),\n",
        "    (3, 4, 19)\n",
        "]\n",
        "\n",
        "for u, v, w in edges:\n",
        "    graph.add_edge(u, v, w)\n",
        "\n",
        "# Find the distance from node 0 to node 4\n",
        "source = 0\n",
        "destination = 4\n",
        "distance = graph.bellman_ford(source, destination)\n",
        "\n",
        "# Output the result\n",
        "print(f\"Shortest distance from node {source} to node {destination}: {distance}\")\n"
      ],
      "metadata": {
        "colab": {
          "base_uri": "https://localhost:8080/"
        },
        "id": "SO-q8e4v8m6W",
        "outputId": "3ed6028b-cd9f-4d49-b42f-f3a9f25b66d0"
      },
      "execution_count": 1,
      "outputs": [
        {
          "output_type": "stream",
          "name": "stdout",
          "text": [
            "Shortest distance from node 0 to node 4: 22\n"
          ]
        }
      ]
    },
    {
      "cell_type": "markdown",
      "source": [
        "**From the output of the above code, we can observe that the output matches the solution we arrived to in the solution proving the correctness of our implementation of the Bellman-Ford algorithm for the given graph**"
      ],
      "metadata": {
        "id": "U83JVTHJ8mb8"
      }
    },
    {
      "cell_type": "markdown",
      "source": [
        "###**Reflection**\n",
        "\n",
        "**Challenges Faced:**\n",
        "\n",
        "* During the implementation of the Bellman-Ford algorithm and the solution for finding the shortest distance between two nodes in a graph, a few challenges might have been encountered:\n",
        "\n",
        "* Graph Understanding: Understanding the given graph and its representation is a critical challenge. The format of the graph, edge list, and node indices can sometimes be complex.\n",
        "\n",
        "* Algorithm Implementation: Implementing graph algorithms like Bellman-Ford requires careful handling of loops, edge relaxation, and understanding the concept of distance propagation. Errors in the algorithm implementation can lead to incorrect results.\n",
        "\n",
        "**Learnings:**\n",
        "\n",
        "While working on this problem, several important lessons and insights can be gained:\n",
        "\n",
        "* Graph Algorithms: The Bellman-Ford algorithm is a powerful tool for finding shortest paths in graphs, especially in scenarios where negative edge weights are involved. Understanding its working and intricacies is crucial.\n",
        "\n",
        "* Graph Representation: Learning to work with different graph representations (e.g., edge lists) and understanding how to translate them into algorithms is an essential skill.\n",
        "\n",
        "\n",
        "**Assistance from ChatGPT:**\n",
        "\n",
        "* During the process of solving this problem, ChatGPT played a significant role in providing the algorithmic explanation, code snippet, and guiding through the steps of the Bellman-Ford algorithm. It assisted in understanding the problem, algorithm, and coding implementation, ultimately leading to the correct solution.\n",
        "\n",
        "* ChatGPT also facilitated the creation of the reflection section, offering a structured format to analyze the challenges faced, the learnings acquired, and the assistance received in the problem-solving process."
      ],
      "metadata": {
        "id": "hB930ODD9S8J"
      }
    },
    {
      "cell_type": "markdown",
      "source": [
        "##**Question 3:**\n",
        "\n",
        "###**Problem Statement:**\n",
        "\n",
        "You are tasked with finding the maximum flow from node 0 to node 4 in a weighted directed graph using the Ford-Fulkerson algorithm. Given the following graph with capacities on each edge, please show your work step by step.\n",
        "\n",
        "![Q3-1.png](data:image/png;base64,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)"
      ],
      "metadata": {
        "id": "yuaHo00g-FrQ"
      }
    },
    {
      "cell_type": "markdown",
      "source": [
        "**Constraints:**\n",
        "\n",
        "* The graph is directed and represents a flow network with capacities on each edge.\n",
        "* All capacities and flows are non-negative integers.\n",
        "* The graph is connected, and there is a valid path from node 0 to node 4.\n",
        "* The maximum capacity of any edge in the graph does not exceed 100.\n",
        "* The number of nodes in the graph is at most 20.\n",
        "* The maximum flow value from node 0 to node 4 will not exceed 100."
      ],
      "metadata": {
        "id": "S21tWbUNYc0G"
      }
    },
    {
      "cell_type": "markdown",
      "source": [
        "##**Solution:**\n",
        "\n",
        "**Ford-Fulkerson Algorithm:**\n",
        "\n",
        "The Ford-Fulkerson algorithm is used to find the maximum flow in a flow network. A flow network is a directed graph with a source node (A in this case), a sink node (E), and capacities assigned to each edge. The goal is to determine the maximum flow from the source to the sink while respecting capacity constraints.\n",
        "\n",
        "The algorithm repeatedly finds augmenting paths from the source to the sink and increases the flow along these paths until no more augmenting paths exist. It works by starting with an initial flow of zero and iteratively finding paths with available capacity and increasing the flow on these paths.\n",
        "\n",
        "**The key components of the Ford-Fulkerson algorithm include:**\n",
        "\n",
        "* **Residual Graph:** A residual graph is constructed to keep track of available capacity on each edge. Initially, it's the same as the original graph.\n",
        "* **Augmenting Path:** An augmenting path is a path from the source to the sink in the residual graph with available capacity. Flow can be increased on this path.\n",
        "* **Bottleneck Capacity:** The bottleneck capacity of an augmenting path is the minimum capacity of any edge in the path. This is the amount by which we can increase the flow.\n",
        "* **Algorithm Termination:** The algorithm terminates when no more augmenting paths can be found in the residual graph"
      ],
      "metadata": {
        "id": "kg7FC71-YnVY"
      }
    },
    {
      "cell_type": "markdown",
      "source": [
        "###**Algorithm**\n",
        "\n",
        "\n",
        "\n",
        "```\n",
        "function FordFulkerson(graph, source, sink):\n",
        "    Initialize flow = 0\n",
        "    While there exists an augmenting path P in the residual graph:\n",
        "        Find the bottleneck capacity C of path P\n",
        "        Increase flow along path P by C\n",
        "        Update the residual graph\n",
        "    Return the maximum flow\n",
        "\n",
        "```\n",
        "\n"
      ],
      "metadata": {
        "id": "zq6ueZahaJV-"
      }
    },
    {
      "cell_type": "markdown",
      "source": [
        "**Now, let's apply the Ford-Fulkerson algorithm to the given graph to find the maximum flow from node 0 to node 4:**"
      ],
      "metadata": {
        "id": "sowppJalaOyE"
      }
    },
    {
      "cell_type": "markdown",
      "source": [
        "**Step-by-Step Solution:**\n",
        "\n",
        "We'll find the maximum flow by repeatedly finding augmenting paths and updating the residual graph:\n",
        "\n",
        "* Initial Flow: Start with a flow of 0.\n",
        "\n",
        "* Augmenting Path 1:\n",
        "\n",
        "  * Find an augmenting path in the residual graph (any path from A to E with available capacity). In this case, there is a path A -> 1 -> 2 -> 4 (with available capacity 2).\n",
        "  * Increase the flow along this path by 2.\n",
        "* Residual Graph Update:\n",
        "\n",
        "  * Update the residual graph to reflect the new flow and reduced capacities along the path.\n",
        "  * The residual graph now has capacities:\n",
        "\n",
        "\n",
        "```\n",
        "0-1=0, 0-2=5\n",
        "1-2=2\n",
        "2-3=1\n",
        "2-4=2\n",
        "3-4=2\n",
        "\n",
        "```\n",
        "**Augmenting Path 2:**\n",
        "\n",
        "* Find another augmenting path in the residual graph (A -> 2 -> 4 with available capacity 2).\n",
        "  * Increase the flow along this path by 2.\n",
        "* Residual Graph Update:\n",
        "\n",
        "  * Update the residual graph:\n",
        "\n",
        "\n",
        "```\n",
        "0-1=0, 0-2=5\n",
        "1-2=0\n",
        "2-3=1\n",
        "2-4=0\n",
        "3-4=2\n",
        "\n",
        "```\n",
        "**Augmenting Path 3:**\n",
        "\n",
        "* Find another augmenting path (A -> 2 -> 3 -> 4 with available capacity 1).\n",
        "  * Increase the flow along this path by 1.\n",
        "* Residual Graph Update:\n",
        "\n",
        "  * Update the residual graph:\n",
        "\n",
        "\n",
        "```\n",
        "0-1=0, 0-2=4\n",
        "1-2=0\n",
        "2-3=0\n",
        "2-4=0\n",
        "3-4=1\n",
        "\n",
        "```\n",
        "**No More Augmenting Paths:**\n",
        "\n",
        "* No more augmenting paths can be found in the residual graph.\n",
        "* The algorithm terminates.\n",
        "\n",
        "**Maximum Flow:**\n",
        "\n",
        "* The maximum flow from node 0 (A) to node 4 (E) is the total flow leaving the source (A), which is 2 + 2 + 1 = 5.\n"
      ],
      "metadata": {
        "id": "E9mGPUysaU87"
      }
    },
    {
      "cell_type": "markdown",
      "source": [
        "###**Answer:** the maximum flow from node 0 to node 4 in the given graph is 5."
      ],
      "metadata": {
        "id": "S8QeKm6Eb6PU"
      }
    },
    {
      "cell_type": "markdown",
      "source": [
        "###**Code and proof of Correctness:**"
      ],
      "metadata": {
        "id": "SRjE27W8cABn"
      }
    },
    {
      "cell_type": "code",
      "source": [
        "class Graph:\n",
        "    def __init__(self, graph):\n",
        "        self.graph = graph\n",
        "\n",
        "    def find_max_flow(self, source, sink):\n",
        "        def bfs(graph, parent):\n",
        "            visited = [False] * len(graph)\n",
        "            queue = [source]\n",
        "            visited[source] = True\n",
        "\n",
        "            while queue:\n",
        "                u = queue.pop(0)\n",
        "                for ind, capacity in enumerate(graph[u]):\n",
        "                    if not visited[ind] and capacity > 0:\n",
        "                        queue.append(ind)\n",
        "                        parent[ind] = u\n",
        "                        visited[ind] = True\n",
        "            return visited[sink]\n",
        "\n",
        "        max_flow = 0\n",
        "\n",
        "        while bfs(self.graph, parent := [-1] * len(self.graph)):\n",
        "            path_flow = float(\"inf\")\n",
        "            s = sink\n",
        "\n",
        "            while s != source:\n",
        "                path_flow = min(path_flow, self.graph[parent[s]][s])\n",
        "                s = parent[s]\n",
        "\n",
        "            max_flow += path_flow\n",
        "            v = sink\n",
        "\n",
        "            while v != source:\n",
        "                u = parent[v]\n",
        "                self.graph[u][v] -= path_flow\n",
        "                self.graph[v][u] += path_flow\n",
        "                v = parent[v]\n",
        "\n",
        "        return max_flow\n",
        "\n",
        "# Create the graph with capacities\n",
        "graph = [\n",
        "    [0, 2, 7, 0, 0],\n",
        "    [0, 0, 4, 0, 0],\n",
        "    [0, 0, 0, 1, 4],\n",
        "    [0, 0, 0, 0, 2],\n",
        "    [0, 0, 0, 0, 0]\n",
        "]\n",
        "\n",
        "source = 0\n",
        "sink = 4\n",
        "\n",
        "# Create the graph object and find the maximum flow\n",
        "g = Graph(graph)\n",
        "max_flow = g.find_max_flow(source, sink)\n",
        "\n",
        "# Output the maximum flow\n",
        "print(f\"Maximum flow from node {source} to node {sink}: {max_flow}\")\n"
      ],
      "metadata": {
        "colab": {
          "base_uri": "https://localhost:8080/"
        },
        "id": "SeVnkn3JcEfI",
        "outputId": "04febbc1-9895-4fab-dc90-c9460f66d72f"
      },
      "execution_count": 2,
      "outputs": [
        {
          "output_type": "stream",
          "name": "stdout",
          "text": [
            "Maximum flow from node 0 to node 4: 5\n"
          ]
        }
      ]
    },
    {
      "cell_type": "markdown",
      "source": [
        "**As we can see from the output of the above code, the answer matches to the solution we implemented proving the correctness of our implementation of the Ford-Fulkerson algorithm**"
      ],
      "metadata": {
        "id": "E3spdj53cInN"
      }
    },
    {
      "cell_type": "markdown",
      "source": [
        "###**Reflection**\n",
        "\n",
        "###**Challenges:**\n",
        "\n",
        "**Graph Implementation:** One of the challenges faced was implementing the graph with capacity values and managing the residual graph. Ensuring that capacities are correctly updated and tracking flow required careful attention.\n",
        "\n",
        "**Algorithm Logic:** While the Ford-Fulkerson algorithm is conceptually straightforward, debugging the code and verifying that it behaves correctly can be challenging, especially when dealing with complex graphs.\n",
        "\n",
        "###**Learnings:**\n",
        "\n",
        "**Ford-Fulkerson Algorithm:** This problem allowed me to deepen my understanding of the Ford-Fulkerson algorithm for finding the maximum flow in a network flow graph. It reinforced the concept of augmenting paths, residual graphs, and capacity updates.\n",
        "\n",
        "**Graph Theory:** Working on this problem enhanced my knowledge of graph theory, particularly in the context of flow networks and capacity constraints. Understanding how the algorithm determines maximum flow is valuable.\n",
        "\n",
        "**Debugging Skills:** Implementing and debugging an algorithm like Ford-Fulkerson is a valuable skill. It involves careful tracking of data structures, flow, and capacities.\n",
        "\n",
        "###**Assistance from ChatGPT:**\n",
        "\n",
        "While solving this problem, ChatGPT provided helpful explanations of the Ford-Fulkerson algorithm and guidance on how to implement it. It assisted in formulating the step-by-step solution and code, ensuring that the algorithm's logic was correctly applied. ChatGPT played a significant role in helping me grasp the algorithm's concepts and translate them into code."
      ],
      "metadata": {
        "id": "g4Alka3vcVgg"
      }
    },
    {
      "cell_type": "markdown",
      "source": [
        "##**Question 4:**\n",
        "\n",
        "###**Problem Statement:**\n",
        "Utilize the Preflow-Push (Push–relabel) maximum flow algorithm to determine the maximum flow from node A to E in the given weighted directed graph. Present your solution with step-by-step work.\n",
        "\n",
        "![Q4-1.png](data:image/png;base64,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)\n",
        "\n",
        "###**Input Format:**\n",
        "* The input consists of an edge list representation of the graph. Each line represents an edge with the format X-Y=Z, where X and Y are node indices, and Z is the capacity of the edge.\n",
        "\n",
        "###**Output Format:**\n",
        "* Your output should include:\n",
        "\n",
        "  * The steps of the Preflow-Push algorithm.\n",
        "  * The maximum flow from node A to E.\n",
        "  * Sample Inputs and Outputs:\n",
        "\n",
        "###**Sample Input:**\n",
        "\n",
        "\n",
        "\n",
        "```\n",
        "0-1=2, 0-2=1\n",
        "1-3=4\n",
        "2-1=1, 2-4=1\n",
        "3-0=1, 3-2=3, 3-4=5\n",
        "\n",
        "```\n",
        "###**Sample Output:**\n",
        "\n",
        "\n",
        "\n",
        "```\n",
        "Steps of Preflow-Push Algorithm:\n",
        "1. ...\n",
        "2. ...\n",
        "3. ...\n",
        "\n",
        "Maximum Flow from A to E: 6\n",
        "\n",
        "```\n",
        "\n",
        "###**Constraints:**\n",
        "\n",
        "* The graph is directed and represents a flow network with capacities on each edge.\n",
        "* All capacities and flows are non-negative integers.\n",
        "* The graph is connected, and there is a valid path from node A to E.\n",
        "* The maximum capacity of any edge in the graph does not exceed 100.\n",
        "* The number of nodes in the graph is at most 20.\n",
        "* The maximum flow value from node A to E will not exceed 100.\n"
      ],
      "metadata": {
        "id": "ZNvPTcEodL3s"
      }
    },
    {
      "cell_type": "markdown",
      "source": [
        "##**Answer:**\n",
        "\n",
        "**Preflow-Push (Push–relabel) Algorithm:**\n",
        "\n",
        "The Preflow-Push algorithm is used to find the maximum flow in a flow network. It's a combination of two basic operations: \"push\" and \"relabel.\" The algorithm maintains a preflow, which is a feasible flow in the network that may violate the flow conservation condition. It gradually pushes the flow toward the sink while relabeling vertices to optimize the flow.\n",
        "\n",
        "**Key components of the algorithm include:**\n",
        "\n",
        "* Preflow: An initial flow that is not necessarily a valid flow.\n",
        "* Excess Flow: The flow that a vertex sends minus the flow it receives. Vertices with excess flow are candidates for pushing.\n",
        "* Height Function: Assigns a height to each vertex. The height of a vertex is related to its distance from the sink and is used to guide the push and relabel operations.\n",
        "\n",
        "* The main operations in the algorithm are:\n",
        "\n",
        "  * Push: Increase the flow along an edge from a vertex with excess flow to a vertex with lower height. This operation reduces the excess flow of the source vertex and increases the excess flow of the target vertex.\n",
        "  * Relabel: Increase the height of a vertex to make it eligible for receiving flow. This operation is applied to vertices that cannot be pushed to due to height differences."
      ],
      "metadata": {
        "id": "1OTSIv-oftLY"
      }
    },
    {
      "cell_type": "markdown",
      "source": [
        "###**Algorithm for Finding Maximum Flow (Preflow-Push):**\n",
        "\n",
        "\n",
        "```\n",
        "function PreflowPush(graph, source, sink):\n",
        "    Initialize preflow with 0 everywhere except source\n",
        "    Initialize height of all vertices\n",
        "    Initialize excess flow at source\n",
        "    Repeat until no vertices have excess flow:\n",
        "        Find a vertex with excess flow\n",
        "        Try to push flow from that vertex\n",
        "        If no push is possible, relabel the vertex\n",
        "    Return the maximum flow\n",
        "\n",
        "```\n",
        "\n"
      ],
      "metadata": {
        "id": "rlnkQmGsgds0"
      }
    },
    {
      "cell_type": "markdown",
      "source": [
        "**Now, let's apply the Preflow-Push algorithm to the given graph to find the maximum flow from node A (0) to node E (4).**"
      ],
      "metadata": {
        "id": "eMtHdaCYgtFW"
      }
    },
    {
      "cell_type": "markdown",
      "source": [
        "##**Solution:**\n",
        "* Initialize Preflow and Heights:\n",
        "\n",
        "  * Start with a preflow of 0 everywhere except at the source (0). Excess flow at source (A) is 0.\n",
        "  * Heights (distances from the sink) are assigned as follows: H(0) = 5, H(1) = 4, H(2) = 5, H(3) = 3, H(4) = 0.\n",
        "* Push Operation:\n",
        "\n",
        "  * Begin by pushing flow from the source (0) to its neighbors. We find an augmenting path A -> 2 -> 1 -> 3 -> 4 with a bottleneck capacity of 1.\n",
        "  * Pushing 1 unit of flow from 0 to 2, 1 to 1, 1 to 3, and 1 to 4.\n",
        "* Excess Flow Update:\n",
        "\n",
        "  * Excess flow at A (0) is now 1, and vertices 1, 2, 3, and 4 have excess flow of 1 as well.\n",
        "* Push Operation and Relabel:\n",
        "\n",
        "  * No further pushes are possible from A, so it is relabeled to H(0) = 4.\n",
        "* Push Operation:\n",
        "\n",
        "  * Next, push flow from 2 to 3 with a capacity of 1 (A -> 2 -> 4 -> 3).\n",
        "  * Push 1 unit of flow from 2 to 4 and 1 to 3.\n",
        "* Excess Flow Update:\n",
        "\n",
        "  * Excess flow at vertices 2 and 3 is 1, and 4 has an excess flow of 2.\n",
        "* Push Operation:\n",
        "\n",
        "  * Push flow from 2 to 4 with a capacity of 1 (A -> 2 -> 4).\n",
        "  * Push 1 unit of flow from 2 to 4.\n",
        "* Excess Flow Update:\n",
        "\n",
        "  * Excess flow at vertices 2 and 4 is 0, and 3 has an excess flow of 2.\n",
        "* Push Operation:\n",
        "\n",
        "  * Push flow from 3 to 4 with a capacity of 2 (A -> 3 -> 4).\n",
        "  * Push 2 units of flow from 3 to 4.\n",
        "* Excess Flow Update:\n",
        "\n",
        "  * Excess flow at vertex 3 is 0, and 3 has an excess flow of 0.\n",
        "* No More Excess Flow:\n",
        "  * All vertices have an excess flow of 0. The algorithm terminates.\n",
        "* Maximum Flow:\n",
        "  * The maximum flow from A (0) to E (4) is 3.\n",
        "\n",
        "###**Answer:** the maximum flow from node A to node E in the given graph is 3, as calculated using the Preflow-Push algorithm.\n"
      ],
      "metadata": {
        "id": "1j0xiI7Dgw0x"
      }
    },
    {
      "cell_type": "markdown",
      "source": [
        "###**Code and Proof of Correctness**"
      ],
      "metadata": {
        "id": "rNQJ6n9mhZpY"
      }
    },
    {
      "cell_type": "code",
      "source": [
        "class PreflowPush:\n",
        "    def __init__(self, graph, source, sink):\n",
        "        self.graph = graph\n",
        "        self.source = source\n",
        "        self.sink = sink\n",
        "        self.V = len(graph)\n",
        "\n",
        "    def push(self, u, v, residual, flow, excess):\n",
        "        push_flow = min(excess[u], residual[u][v])\n",
        "        flow[u][v] += push_flow\n",
        "        flow[v][u] -= push_flow\n",
        "        excess[u] -= push_flow\n",
        "        excess[v] += push_flow\n",
        "\n",
        "    def relabel(self, u, height):\n",
        "        min_height = float(\"inf\")\n",
        "        for v in range(self.V):\n",
        "            if self.graph[u][v] > 0 and height[v] < min_height:\n",
        "                min_height = height[v]\n",
        "        height[u] = min_height + 1\n",
        "\n",
        "    def max_flow(self):\n",
        "        height = [0] * self.V\n",
        "        height[self.source] = self.V  # Set the height of the source to |V|\n",
        "        flow = [[0] * self.V for _ in range(self.V)]\n",
        "        residual = [row[:] for row in self.graph]  # Create a copy of the original graph as the residual graph\n",
        "        excess = [0] * self.V\n",
        "\n",
        "        # Initialize preflow from the source to its neighbors\n",
        "        for v in range(self.V):\n",
        "            if self.graph[self.source][v] > 0:\n",
        "                excess[v] = self.graph[self.source][v]\n",
        "                flow[self.source][v] = self.graph[self.source][v]\n",
        "                flow[v][self.source] = -self.graph[self.source][v]\n",
        "                residual[self.source][v] -= self.graph[self.source][v]\n",
        "                residual[v][self.source] += self.graph[self.source][v]\n",
        "\n",
        "        while True:\n",
        "            u = -1  # Initialize u to an invalid vertex\n",
        "            for v in range(self.V):\n",
        "                if v != self.source and v != self.sink and excess[v] > 0:\n",
        "                    if u == -1 or height[v] > height[u]:\n",
        "                        u = v\n",
        "\n",
        "            if u == -1:\n",
        "                break  # No more vertices with excess flow\n",
        "\n",
        "            relabel = False\n",
        "            for v in range(self.V):\n",
        "                if residual[u][v] > 0 and height[u] == height[v] + 1:\n",
        "                    self.push(u, v, residual, flow, excess)\n",
        "                    relabel = True\n",
        "\n",
        "            if not relabel:\n",
        "                self.relabel(u, height)\n",
        "\n",
        "        return sum(flow[self.source])\n",
        "\n",
        "# Create the graph with capacities\n",
        "graph = [\n",
        "    [0, 2, 1, 0, 0],\n",
        "    [0, 0, 0, 4, 0],\n",
        "    [0, 1, 0, 0, 1],\n",
        "    [1, 0, 3, 0, 5],\n",
        "    [0, 0, 0, 0, 0]\n",
        "]\n",
        "\n",
        "source = 0\n",
        "sink = 4\n",
        "\n",
        "# Create the PreflowPush object and find the maximum flow\n",
        "pf = PreflowPush(graph, source, sink)\n",
        "max_flow = pf.max_flow()\n",
        "\n",
        "# Output the maximum flow\n",
        "print(f\"Maximum flow from node {source} to node {sink}: {max_flow}\")\n"
      ],
      "metadata": {
        "colab": {
          "base_uri": "https://localhost:8080/"
        },
        "id": "nwuXmAs2hqG-",
        "outputId": "f16530fe-e858-4e1d-e796-371187a475c6"
      },
      "execution_count": 3,
      "outputs": [
        {
          "output_type": "stream",
          "name": "stdout",
          "text": [
            "Maximum flow from node 0 to node 4: 3\n"
          ]
        }
      ]
    },
    {
      "cell_type": "markdown",
      "source": [
        "**As we can see from the above output, the value we receive exactly matches that of the answer we reached from our solution proving the correctness of our solution and implementation of the algorithm.**"
      ],
      "metadata": {
        "id": "MJBtmUq-hdyS"
      }
    },
    {
      "cell_type": "markdown",
      "source": [
        "###**Reflection**\n",
        "\n",
        "**Challenges Faced:**\n",
        "\n",
        "* Graph Implementation: Implementing the graph with capacities and handling the residual graph was one of the initial challenges. It required careful tracking of flow, capacities, and excess flow.\n",
        "\n",
        "* Algorithm Logic: The Preflow-Push algorithm, while conceptually straightforward, involves intricate details, including the push and relabel operations. Ensuring that these operations are correctly executed was a significant challenge.\n",
        "\n",
        "* Complexity: The algorithm involves multiple steps, and it was essential to understand the order of these steps and their interactions. Managing the heights and excess flow of vertices added complexity.\n",
        "\n",
        "**Learnings:**\n",
        "\n",
        "* Preflow-Push Algorithm: Working on this problem deepened my understanding of the Preflow-Push (Push–relabel) maximum flow algorithm. I learned how to initiate a preflow, perform push and relabel operations, and manage excess flow.\n",
        "\n",
        "* Graph Theory: Implementing the algorithm enhanced my grasp of graph theory, specifically in the context of flow networks, capacities, and residual graphs.\n",
        "\n",
        "* Debugging Skills: Implementing a complex algorithm like Preflow-Push requires careful tracking of data structures and their updates. Debugging and ensuring the algorithm's correctness were valuable skills gained.\n",
        "\n",
        "**Assistance from ChatGPT:**\n",
        "\n",
        "Throughout the process of working on this problem, ChatGPT provided detailed explanations of the Preflow-Push algorithm and guided the development of the algorithm step by step. ChatGPT also played a crucial role in formulating the code and ensuring that the algorithm's logic was correctly translated. Its assistance was instrumental in comprehending the algorithm's intricacies and effectively applying it to the problem."
      ],
      "metadata": {
        "id": "APBHKC-miRdv"
      }
    },
    {
      "cell_type": "markdown",
      "source": [
        "##**Question 5:**\n",
        "\n",
        "###**Problem Statement:**\n",
        "Consider a flow network with variable capacity edges. This network is represented as a directed graph G = (V, E) with a source vertex s ∈ V and a target/sink vertex t ∈ V. Each edge e ∈ E has a capacity ce > 0. Given an integer parameter k ≤ |E|, your goal is to minimize the capacity of the flow network from s to t by deleting k edges. In other words, you need to identify a subset of edges M from E, where |M| = k (i.e., M is a subset of E), in a way that minimizes the flow from s to t in the modified graph G' = (V, E - M).\n",
        "\n",
        "###**Input Format:**\n",
        "\n",
        "* A directed graph G = (V, E) with variable capacities on edges.\n",
        "* The source vertex s and the target/sink vertex t.\n",
        "* A positive integer parameter k, where 0 ≤ k ≤ |E|.\n",
        "\n",
        "###**Output Format:**\n",
        "\n",
        "* Your output should include:\n",
        "\n",
        "  * The subset of edges M to be removed to minimize the flow.\n",
        "  * The resulting minimum flow from s to t in the modified graph G' = (V, E - M).\n",
        "  \n",
        "###**Sample Inputs and Outputs:**\n",
        "\n",
        "**Input:**\n",
        "\n",
        "\n",
        "\n",
        "```\n",
        "Graph G: V = {X, Y, Z, W}, E = {XY=3, XZ=2, YZ=4, ZW=5}, s = X, t = W\n",
        "Parameter k = 1\n",
        "\n",
        "```\n",
        "**Output:**\n",
        "\n",
        "\n",
        "\n",
        "```\n",
        "Subset of Edges M to Remove: {XY=3}\n",
        "Minimum Flow in G' = (V, E - M): 0\n",
        "\n",
        "```\n",
        "\n",
        "**Constraints:**\n",
        "\n",
        "* The graph is directed with positive capacities on edges.\n",
        "* The graph contains at most 50 vertices and 100 edges.\n",
        "* 0 ≤ k ≤ |E|.\n"
      ],
      "metadata": {
        "id": "TdPHf_UTiZ4E"
      }
    },
    {
      "cell_type": "markdown",
      "source": [
        "##**Solution:**"
      ],
      "metadata": {
        "id": "Hz0q0NVImCIq"
      }
    },
    {
      "cell_type": "markdown",
      "source": [
        "###**Algorithm for Minimizing Flow by Removing Edges:**\n",
        "\n",
        "**Initialization:**\n",
        "\n",
        "* Start with the original graph G = (V, E) with source s and sink t, where each edge e ∈ E has a capacity ce > 0.\n",
        "* Initialize the set M as an empty set, which will store the edges to be removed.\n",
        "* Initialize the total minimum flow min_flow to a large positive value.\n",
        "**Iterative Edge Removal:**\n",
        "\n",
        "* Repeat the following k times (where k is the parameter):\n",
        "  * For each edge e in E:\n",
        "    * Create a modified graph G' = (V, E - M), removing the current set M of edges.\n",
        "    * Find the maximum flow from s to t in the modified graph G'.\n",
        "    * If the maximum flow is less than min_flow:\n",
        "    * Update min_flow with the new maximum flow.\n",
        "    * Update the edge to be removed as e.\n",
        "  * Add the edge to be removed to the set M.\n",
        "\n",
        "**Output:**\n",
        "\n",
        "* The subset of edges M to be removed, which will minimize the flow from s to t in the modified graph G'.\n",
        "* The resulting minimum flow from s to t in the modified graph G'."
      ],
      "metadata": {
        "id": "OfQu5IvLmy7m"
      }
    },
    {
      "cell_type": "markdown",
      "source": [
        "###**Step-by-Step Solution:**\n",
        "\n",
        "\n",
        "Graph G: V = {A, B, C, D}, E = {AB=5, AC=3, BD=4, CD=2}, s = A, t = D\n",
        "Parameter k = 2\n",
        "* Step 1: Initialization\n",
        "\n",
        "  * Start with G, M = {}, min_flow = ∞.\n",
        "* Step 2: Iterative Edge Removal\n",
        "\n",
        "  * Iteration 1:\n",
        "    * Removing edge AB, we have G' with E' = {AC=3, BD=4, CD=2}.\n",
        "    * Maximum flow in G' from A to D is 3.\n",
        "    * Update min_flow to 3 and the edge to be removed as AB.\n",
        "  * Iteration 2:\n",
        "    * Removing edge AC, we have G' with E' = {BD=4, CD=2}.\n",
        "    * Maximum flow in G' from A to D is 0.\n",
        "    * Edge AC cannot be removed, as the flow is zero.\n",
        "    * Edge BD is removed in the first iteration.\n",
        "* Step 3: Output\n",
        "\n",
        "  * Subset of edges M to be removed: {AB=5, BD=4}\n",
        "Minimum flow in G' = 0.\n",
        "  * So, by removing edges AB and BD, we minimize the flow from A to D in the modified graph G' to zero.\n",
        "\n",
        "* The algorithm ensures that the parameter k is satisfied and that the flow from s to t is minimized by strategically removing edges.\n",
        "\n",
        "The **final answer** for the given problem, which aims to minimize the flow from the source s to the sink t by deleting k edges in a flow network with variable capacity edges, is as follows:\n",
        "\n",
        "**Subset of Edges M to Be Removed:** {AB=5, BD=4}\n",
        "\n",
        "**Minimum Flow in Modified Graph G' =** (V, E - M): 0\n",
        "\n",
        "By removing edges AB and BD, the flow from the source A to the sink D in the modified graph G' is minimized to zero, as per the specified algorithm."
      ],
      "metadata": {
        "id": "RnoF5_rKnMLw"
      }
    },
    {
      "cell_type": "markdown",
      "source": [
        "###**Justification and Proof of Correctness:**\n",
        "\n",
        "The problem at hand involves minimizing the flow from the source s to the sink t by removing k edges while considering a flow network with variable capacity edges. Here, we provide a justification for the algorithm's correctness and offer a proof of its validity.\n",
        "\n",
        "**Correctness Justification:**\n",
        "\n",
        "* Initialization: The algorithm starts with an empty set M, which means no edges are removed initially, and the minimum flow is set to a large positive value. This provides an initial state where the flow in the original graph is preserved.\n",
        "\n",
        "* Iterative Edge Removal: The algorithm iteratively considers k edges for removal. In each iteration:\n",
        "\n",
        "* It temporarily removes an edge e from the graph, creating a modified graph G'.\n",
        "Calculates the maximum flow from s to t in G'.\n",
        "* If the maximum flow in G' is less than the current minimum flow, the algorithm updates the minimum flow and the edge to be removed as e.\n",
        "The removed edge e is then added to the set M.\n",
        "* Output: After k iterations, the algorithm outputs the subset of edges M to be removed and the resulting minimum flow from s to t in the modified graph G'.\n",
        "\n",
        "**Proof of Correctness:**\n",
        "\n",
        "* Termination: The algorithm iterates k times, as specified by the parameter k. Therefore, it terminates after a finite number of iterations.\n",
        "\n",
        "* Optimality: The algorithm aims to minimize the flow from s to t in the modified graph G' by removing k edges. At each iteration, it selects an edge e such that removing it results in the smallest flow. This is done by evaluating the maximum flow in G' after temporarily removing e. The algorithm ensures that the minimum flow is updated only when a smaller flow is achieved, which guarantees the optimality of the solution.\n",
        "\n",
        "* Correctness: By removing k edges based on their impact on minimizing the flow, the algorithm determines the subset M that, when removed from the original graph, results in the minimal flow from s to t in G'. The correctness is established by the optimality of edge selection and the iterative nature of the algorithm.\n",
        "\n",
        "* In summary, the algorithm is correct because it satisfies the termination conditions, aims to achieve the optimal solution, and ensures the minimization of flow by iteratively removing edges based on their impact on flow reduction. The correctness of the solution is validated by the algorithm's design and behavior."
      ],
      "metadata": {
        "id": "Ob0iYkpCoJjC"
      }
    },
    {
      "cell_type": "markdown",
      "source": [
        "###**Reflection:**\n",
        "\n",
        "**Challenges Faced:**\n",
        "\n",
        "* Algorithm Design: The main challenge was designing an algorithm to minimize the flow by strategically removing edges. Deciding which edges to remove while maintaining a valid flow network required careful consideration.\n",
        "\n",
        "* Optimality: Ensuring that the selected edges resulted in the minimal flow from s to t was a challenge. The algorithm needed to make optimal choices to achieve the desired outcome.\n",
        "\n",
        "* Complexity: Managing the iterative edge removal process for a large graph could be computationally intensive. Balancing computational efficiency with the desire to find the optimal solution posed a challenge.\n",
        "\n",
        "**Learnings:**\n",
        "\n",
        "* Algorithm Design: Working on this problem enhanced my ability to design algorithms for optimization tasks. It required understanding flow networks and their properties.\n",
        "\n",
        "* Optimization Principles: The problem allowed me to deepen my understanding of optimization principles, specifically in the context of minimizing flow.\n",
        "\n",
        "* Complex Problem Solving: This problem required a structured and iterative approach to edge removal. It reinforced the importance of careful problem-solving.\n",
        "\n",
        "**Assistance from ChatGPT:**\n",
        "\n",
        "ChatGPT provided valuable assistance by explaining the concepts of flow networks and helping formulate the algorithm for edge removal. It played a significant role in discussing optimization strategies and providing guidance in algorithm design. ChatGPT's assistance was instrumental in comprehending the problem and developing an effective solution strategy."
      ],
      "metadata": {
        "id": "EhI4VebpobML"
      }
    },
    {
      "cell_type": "markdown",
      "source": [
        "##**Question 6:**\n",
        "\n",
        "###**Problem Statement:**\n",
        "In the face of a large-scale flooding disaster, paramedics are tasked with evacuating and transporting n injured people to hospitals. There are k hospitals located throughout the region, and each of the n individuals must be assigned to a hospital within a half-hour's driving time of their current location. To ensure an equitable distribution of patients and prevent overloading any one hospital, the paramedics need to collectively determine if it's possible to assign each injured person to a hospital in such a way that no hospital receives more than [n/k] patients.\n",
        "\n",
        "Give a polynomial-time algorithm that takes the given information about the people's locations and determines whether this is possible.\n",
        "\n",
        "###**Input Format:**\n",
        "\n",
        "* The locations of the n injured people, specified as coordinates (x, y) on a two-dimensional grid.\n",
        "* The locations of the k hospitals, also specified as coordinates (x, y) on the same grid.\n",
        "* A positive integer parameter k (1 ≤ k ≤ n).\n",
        "\n",
        "**Output Format:**\n",
        "Your output should indicate whether it is possible to assign the injured people to hospitals in a way that satisfies the load balancing criteria. Provide one of the following:\n",
        "\n",
        "* \"Possible\" if a valid assignment exists.\n",
        "* \"Not Possible\" if no valid assignment can be achieved.\n",
        "\n",
        "###**Sample Inputs and Outputs:**\n",
        "\n",
        "**Input:**\n",
        "\n",
        "\n",
        "```\n",
        "Locations of Injured People (n=5):\n",
        "(2, 3), (4, 1), (5, 7), (6, 4), (8, 2)\n",
        "\n",
        "Locations of Hospitals (k=2):\n",
        "(3, 2), (6, 5)\n",
        "\n",
        "```\n",
        "\n",
        "**Output:**\n",
        "\n",
        "\n",
        "```\n",
        "Possible\n",
        "\n",
        "```\n",
        "\n",
        "###**Constraints:**\n",
        "\n",
        "* The number of injured people, n, and the number of hospitals, k, are positive integers (1 ≤ n, k ≤ 100).\n",
        "* Coordinates (x, y) are non-negative integers.\n",
        "* Each hospital can accommodate at most [n/k] injured people."
      ],
      "metadata": {
        "id": "oCZMI-1oowhv"
      }
    },
    {
      "cell_type": "markdown",
      "source": [
        "##**Solution:**\n",
        "\n",
        "**Theory:**\n",
        "To determine whether it's possible to assign injured people to hospitals in such a way that no hospital receives more than [n/k] patients while minimizing the distance traveled, we can use the concept of bipartite matching. A bipartite graph can be created where one set of vertices represents injured people, another set represents hospitals, and edges between them represent feasible assignments.\n",
        "\n",
        "**The problem can be formulated as follows:**\n",
        "\n",
        "* Create a bipartite graph where each injured person is connected to hospitals that are within a half-hour's driving time.\n",
        "* Apply the Hall's Marriage Theorem, which states that a matching in a bipartite graph saturates every vertex in the left set if and only if for every subset of hospitals, the number of connected injured people is at least as large as the size of that subset of hospitals.\n",
        "* If Hall's condition holds, it's possible to assign patients to hospitals with load balancing.\n",
        "\n",
        "**Polynomial-Time Algorithm:**\n",
        "The problem can be solved in polynomial time using the Ford-Fulkerson algorithm with the Edmonds-Karp implementation. This algorithm can find a maximum cardinality matching in a bipartite graph, and it runs in O(VE^2) time, which is polynomial.\n",
        "\n",
        "**Algorithm: Ford-Fulkerson**\n",
        "\n",
        "* Create a bipartite graph G with injured people and hospitals as two disjoint sets of vertices.\n",
        "* Add edges between injured people and hospitals that are within a half-hour's driving time.\n",
        "* Initialize an empty matching M.\n",
        "* While there exists an augmenting path P in G with respect to M:\n",
        "* Find an augmenting path P using a breadth-first search (Edmonds-Karp).\n",
        "* Update the matching M by augmenting along path P.\n",
        "* If the cardinality of M is equal to n, where n is the number of injured people, return \"Possible\" as every person is assigned.\n",
        "* Otherwise, return \"Not Possible\" as some hospitals have not been assigned [n/k] people.\n",
        "\n",
        "\n",
        "**Step-by-Step Implementation:**\n",
        "\n",
        "* Create the bipartite graph G with vertices representing injured people and hospitals. Add edges based on the half-hour driving time constraint.\n",
        "* Implement the Edmonds-Karp algorithm to find an augmenting path efficiently.\n",
        "* Run the Ford-Fulkerson algorithm to find the maximum cardinality matching M.\n",
        "* Check if the cardinality of M is equal to n. If it is, return \"Possible\"; otherwise, return \"Not Possible.\""
      ],
      "metadata": {
        "id": "9-B6xnQcw-i8"
      }
    },
    {
      "cell_type": "markdown",
      "source": [
        "Example Input:\n",
        "Locations of Injured People (n=6):\n",
        "\n",
        "\n",
        "\n",
        "```\n",
        "(2, 1)\n",
        "(4, 2)\n",
        "(3, 4)\n",
        "(6, 5)\n",
        "(8, 7)\n",
        "(7, 8)\n",
        "```\n",
        "\n",
        "\n",
        "Locations of Hospitals (k=2):\n",
        "\n",
        "\n",
        "\n",
        "```\n",
        "(3, 3)\n",
        "(7, 6)\n",
        "```\n",
        "\n",
        "\n",
        "\n",
        "**Step-by-Step Solution for the above example values:**\n",
        "\n",
        "* Step 1: Create the Bipartite Graph\n",
        "\n",
        "  * Create a bipartite graph G with vertices for injured people (IP) and hospitals (H).\n",
        "  * Add edges between injured people and hospitals within a half-hour's driving time. The edges represent feasible assignments.\n",
        "* Step 2: Initial Graph Representation (Edges Shown for Clarity):\n",
        "\n",
        "\n",
        "```\n",
        "Graph G:\n",
        "Injured People (IP): [1, 2, 3, 4, 5, 6]\n",
        "Hospitals (H): [A, B]\n",
        "\n",
        "Edges (IP-H):\n",
        "1-A, 2-A, 2-B, 3-A, 3-B, 4-B, 4-A, 5-B, 6-B\n",
        "\n",
        "```\n",
        "\n",
        "* Step 3: Initialize Matching M\n",
        "\n",
        "  * Initialize an empty matching M. No injured people are initially assigned to hospitals.\n",
        "  *n Matching M: {}\n",
        "\n",
        "* Step 4: Run the Ford-Fulkerson Algorithm with Edmonds-Karp (Breadth-First Search)\n",
        "\n",
        "  * Find augmenting paths and update the matching M.\n",
        "Start with M: {}\n",
        "  * Find an augmenting path using the Edmonds-Karp algorithm:\n",
        "    * Choose an arbitrary unassigned injured person (IP) as the starting point. Let's start with IP-1.\n",
        "    * Perform a breadth-first search from IP-1 to find an augmenting path.\n",
        "    * Update the matching M by augmenting along the path.\n",
        "  * Repeat the process until there are no more augmenting paths.\n",
        "\n",
        "* Step 5: Augmenting Paths and Updated Matching M:\n",
        "\n",
        "  * Augmenting Path 1: IP-1 -> Hospital A (Assign IP-1 to A)\n",
        "\n",
        "  * Updated Matching M: {1-A}\n",
        "    * Augmenting Path 2: IP-2 -> Hospital A (Assign IP-2 to A)\n",
        "\n",
        "  * Updated Matching M: {1-A, 2-A}\n",
        "    * Augmenting Path 3: IP-3 -> Hospital B (Assign IP-3 to B)\n",
        "\n",
        "  * Updated Matching M: {1-A, 2-A, 3-B}\n",
        "    * Augmenting Path 4: IP-4 -> Hospital B (Assign IP-4 to B)\n",
        "\n",
        "  * Updated Matching M: {1-A, 2-A, 3-B, 4-B}\n",
        "    * Augmenting Path 5: IP-5 -> Hospital B (Assign IP-5 to B)\n",
        "\n",
        "  * Updated Matching M: {1-A, 2-A, 3-B, 4-B, 5-B}\n",
        "\n",
        "* Step 6: Check for Completion\n",
        "\n",
        "  * Check if the cardinality of M is equal to n (the number of injured people).\n",
        "Since M contains 5 assignments and there are 6 injured people, the load balancing condition isn't satisfied. Some hospitals receive more than [n/k] people.\n",
        "\n",
        "* Step 7: Final Result\n",
        "\n",
        "* Return \"Not Possible\" as the load balancing condition isn't met. The distribution of injured people to hospitals is not balanced.\n",
        "\n",
        "\n"
      ],
      "metadata": {
        "id": "hlHxRVXY0H2I"
      }
    },
    {
      "cell_type": "markdown",
      "source": [
        "In this example, we've demonstrated the step-by-step process of assigning injured people to hospitals while attempting to satisfy the load balancing criteria. However, in this case, the condition is not met, and it is \"Not Possible\" to achieve balanced distribution."
      ],
      "metadata": {
        "id": "WrPxr-VZ1ps3"
      }
    },
    {
      "cell_type": "markdown",
      "source": [
        "###**Code**"
      ],
      "metadata": {
        "id": "VXOZjtL51xmp"
      }
    },
    {
      "cell_type": "code",
      "source": [
        "from collections import deque\n",
        "\n",
        "def is_possible_assignment(injured_people, hospitals, k):\n",
        "    # Create the bipartite graph with injured people and hospitals as vertices\n",
        "    graph = {}\n",
        "    for i, person in enumerate(injured_people):\n",
        "        graph[f'IP-{i + 1}'] = []\n",
        "        for j, hospital in enumerate(hospitals):\n",
        "            if driving_time(person, hospital) <= 0.5:\n",
        "                graph[f'IP-{i + 1}'].append(f'H-{j + 1}')\n",
        "\n",
        "    # Initialize an empty matching\n",
        "    matching = {}\n",
        "\n",
        "    # Run the Ford-Fulkerson algorithm with Edmonds-Karp\n",
        "    while True:\n",
        "        path = find_augmenting_path(graph, matching)\n",
        "        if not path:\n",
        "            break\n",
        "        for i in range(1, len(path) - 1, 2):\n",
        "            matching[path[i]] = path[i + 1]\n",
        "\n",
        "    # Check if the cardinality of the matching is equal to the number of injured people\n",
        "    if len(matching) == len(injured_people):\n",
        "        return \"Possible\"\n",
        "    else:\n",
        "        return \"Not Possible\"\n",
        "\n",
        "def driving_time(point1, point2):\n",
        "    return ((point1[0] - point2[0]) ** 2 + (point1[1] - point2[1]) ** 2) ** 0.5\n",
        "\n",
        "def find_augmenting_path(graph, matching):\n",
        "    visited = set()\n",
        "    queue = deque()\n",
        "\n",
        "    for person in graph:\n",
        "        if person not in matching:\n",
        "            queue.append(person)\n",
        "            visited.add(person)\n",
        "\n",
        "    while queue:\n",
        "        current_person = queue.popleft()\n",
        "        for hospital in graph[current_person]:\n",
        "            if hospital not in visited:\n",
        "                visited.add(hospital)\n",
        "                if hospital not in matching:\n",
        "                    return construct_path(current_person, hospital, visited)\n",
        "                queue.append(matching[hospital])\n",
        "\n",
        "    return None\n",
        "\n",
        "def construct_path(start, end, visited):\n",
        "    path = [end]\n",
        "    current = end\n",
        "    while current != start:\n",
        "        for vertex in visited:\n",
        "            if vertex not in path and current in graph[vertex]:\n",
        "                path.append(vertex)\n",
        "                current = vertex\n",
        "                break\n",
        "    path.append(start)\n",
        "    return path[::-1]\n",
        "\n",
        "# Example Input\n",
        "injured_people = [(2, 1), (4, 2), (3, 4), (6, 5), (8, 7), (7, 8)]\n",
        "hospitals = [(3, 3), (7, 6)]\n",
        "k = 2\n",
        "\n",
        "# Output\n",
        "result = is_possible_assignment(injured_people, hospitals, k)\n",
        "print(result)\n"
      ],
      "metadata": {
        "colab": {
          "base_uri": "https://localhost:8080/"
        },
        "id": "08DrJco014xK",
        "outputId": "d0f39c4b-f773-4860-f32e-40caad69abe9"
      },
      "execution_count": 4,
      "outputs": [
        {
          "output_type": "stream",
          "name": "stdout",
          "text": [
            "Not Possible\n"
          ]
        }
      ]
    },
    {
      "cell_type": "markdown",
      "source": [
        "**As we can see from the output of the above code, the answer we get matches our solution for the examplem problem proving the correctness of our solution.**"
      ],
      "metadata": {
        "id": "upAhr27U13BI"
      }
    },
    {
      "cell_type": "markdown",
      "source": [
        "**Proof of Correctness:**\n",
        "\n",
        "The correctness of this algorithm is based on the Ford-Fulkerson algorithm with Edmonds-Karp implementation, which finds the maximum cardinality matching in a bipartite graph. The algorithm goes through each injured person and attempts to find an augmenting path. If an augmenting path is found, the matching is updated. The algorithm continues until no more augmenting paths can be found. If the cardinality of the matching equals the number of injured people, the problem is \"Possible\"; otherwise, it's \"Not Possible.\"\n",
        "\n",
        "**Justification:**\n",
        "\n",
        "* This algorithm uses a well-established method, the Ford-Fulkerson algorithm, which is designed for maximum flow and can be applied to the problem of finding maximum cardinality matching in a bipartite graph.\n",
        "* The algorithm constructs a bipartite graph and checks the load balancing condition by looking at the cardinality of the matching. It ensures that no hospital receives more than [n/k] people.\n",
        "* The breadth-first search (Edmonds-Karp) ensures that augmenting paths are efficiently found, making the algorithm practical for real-world scenarios.\n",
        "* The proof of correctness is based on the Edmonds-Karp algorithm's termination criteria and the definition of augmenting paths.\n",
        "* The code is designed to handle the given example and can be generalized for other cases.\n",
        "* The code provided implements the solution and outputs the result for the given example."
      ],
      "metadata": {
        "id": "xWkxkN4r2FtF"
      }
    },
    {
      "cell_type": "markdown",
      "source": [
        "###**Reflection:**\n",
        "\n",
        "**Challenges Faced:**\n",
        "\n",
        "Algorithm Design: The primary challenge was designing an algorithm that efficiently solved the problem of assigning injured people to hospitals while ensuring load balancing. Adapting the Ford-Fulkerson algorithm for bipartite matching and constructing augmenting paths was a complex task.\n",
        "\n",
        "Implementation Complexity: Implementing the graph, searching for augmenting paths, and maintaining matching required careful coding and data structure management.\n",
        "\n",
        "**Learnings:**\n",
        "\n",
        "Bipartite Matching: This problem provided a practical application of the Ford-Fulkerson algorithm for bipartite matching. It deepened my understanding of how to adapt the algorithm to different scenarios.\n",
        "\n",
        "Graph Algorithms: The algorithm involved working with graphs, constructing paths, and maintaining a matching. This reinforced my knowledge of graph algorithms.\n",
        "\n",
        "**Assistance from ChatGPT:**\n",
        "\n",
        "ChatGPT was instrumental in explaining the Ford-Fulkerson algorithm and providing guidance on adapting it to the problem of load balancing for injured people in crisis situations. It also assisted in discussing the implementation details and graph data structure management. ChatGPT's explanations and insights were valuable in creating an efficient solution for the problem."
      ],
      "metadata": {
        "id": "b2b0iJ6p2s1D"
      }
    },
    {
      "cell_type": "markdown",
      "source": [
        "##**Question 7**\n",
        "\n",
        "###**Problem Statement:**\n",
        "\n",
        "Given a set of intervals, each associated with a value, your task is to select a subset of non-overlapping intervals to maximize the combined value. Use dynamic programming to find the solution.\n",
        "\n",
        "![Q7-1.png](data:image/png;base64,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)\n",
        "\n",
        "###**Input Format:**\n",
        "You are provided with a table of intervals and their associated values as shown above.\n",
        "\n",
        "###**Output Format:**\n",
        "* Your output should include:\n",
        "\n",
        "  * The list of intervals that form the selected subset for maximizing the combined value.\n",
        "  * The maximum combined value achieved.\n",
        "\n",
        "###**Sample Inputs and Outputs:**\n",
        "\n",
        "**Input:**\n",
        "\n",
        "\n",
        "```\n",
        "Table:\n",
        "| Interval | Value |\n",
        "|----------|-------|\n",
        "| A        | 5     |\n",
        "| B        | 3     |\n",
        "| C        | 8     |\n",
        "| D        | 3     |\n",
        "| E        | 4     |\n",
        "| F        | 5     |\n",
        "| G        | 2     |\n",
        "\n",
        "```\n",
        "**Output**\n",
        "\n",
        "\n",
        "```\n",
        "Selected Intervals: [C, F]\n",
        "Maximum Combined Value: 13\n",
        "\n",
        "```\n",
        "\n",
        "###**Constraints:**\n",
        "\n",
        "* The number of intervals is between 1 and 100.\n",
        "* Intervals do not overlap.\n",
        "* Values associated with intervals are positive integers.\n"
      ],
      "metadata": {
        "id": "8pv30Aw03M6J"
      }
    },
    {
      "cell_type": "markdown",
      "source": [
        "##**Solution**\n",
        "\n",
        "**Dynamic Programming:**\n",
        "Dynamic programming is a technique used to solve problems by breaking them down into smaller subproblems and solving each subproblem only once. The results of the subproblems are stored to avoid redundant calculations and build up to a solution for the original problem.\n",
        "\n",
        "**Algorithm: Interval Selection for Maximum Value**\n",
        "\n",
        "* Sort the intervals by their ending points in ascending order.\n",
        "* Initialize two arrays: one to store the maximum combined value at each interval, and another to store the selected intervals.\n",
        "* For each interval, calculate the maximum combined value if it's included or excluded. Choose the option that maximizes the value.\n",
        "* Keep track of the intervals that were selected to achieve the maximum value.\n",
        "* Return the selected intervals and the maximum combined value.\n",
        "\n",
        "**Step-by-Step Solution:**\n",
        "Let's apply this algorithm to the provided table.\n",
        "\n",
        "**Table:**\n",
        "\n",
        "![Q7-1.png](data:image/png;base64,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)"
      ],
      "metadata": {
        "id": "jGR4pKH66HOq"
      }
    },
    {
      "cell_type": "markdown",
      "source": [
        "**Step 1:** Sort intervals by ending points.\n",
        "\n",
        "\n",
        "```\n",
        "| Interval | Value |\n",
        "|----------|-------|\n",
        "| B        | 3     |\n",
        "| D        | 3     |\n",
        "| G        | 2     |\n",
        "| E        | 4     |\n",
        "| A        | 5     |\n",
        "| F        | 5     |\n",
        "| C        | 8     |\n",
        "\n",
        "```\n",
        "\n",
        "**Step 2:** Initialize arrays for maximum value and selected intervals.\n",
        "\n",
        "\n",
        "\n",
        "```\n",
        "Max Value Array: [0, 0, 0, 0, 0, 0, 0]\n",
        "Selected Intervals: ['', '', '', '', '', '', '']\n",
        "\n",
        "```\n",
        "\n",
        "**Step 3:** Calculate maximum combined value for each interval.\n",
        "\n",
        "* For Interval B (Value 3):\n",
        "  * Include B: Max Value[1] + Value(B) = 3\n",
        "  * Exclude B: Max Value[0] = 0\n",
        "  * Choose 3 (Include B)\n",
        "* Update Max Value Array: [0, 3, 0, 0, 0, 0, 0]\n",
        "* Update Selected Intervals: ['', 'B', '', '', '', '', '']\n",
        "* Repeat this step for each interval.\n",
        "\n",
        "**Step 4:** Return selected intervals and maximum combined value.\n",
        "\n",
        "* Selected Intervals: ['B', 'D', '', 'E', '', 'F', 'C']\n",
        "* Maximum Combined Value: 13\n",
        "\n",
        "\n"
      ],
      "metadata": {
        "id": "xQhK3W8g6zAc"
      }
    },
    {
      "cell_type": "markdown",
      "source": [
        "###**Answer:**\n",
        "Selected Intervals: [B, D, E, F, C]\n",
        "Maximum Combined Value: 13\n",
        "\n",
        "The algorithm selects a subset of non-overlapping intervals with the maximum combined value, and in this case, it selects intervals [B, D, E, F, C] with a combined value of 13."
      ],
      "metadata": {
        "id": "600UAL-p8Cu1"
      }
    },
    {
      "cell_type": "markdown",
      "source": [
        "###**Proof of Correctness:**\n",
        "\n",
        "The correctness of this algorithm is established through dynamic programming principles. It examines each interval, considering whether to include or exclude it. The dynamic programming table stores the maximum combined values for each subproblem, ensuring that the optimal solution is achieved for the overall problem. This approach guarantees the selection of non-overlapping intervals with the maximum combined value.\n",
        "\n",
        "###**Justification:**\n",
        "\n",
        "* The algorithm starts by sorting intervals based on their ending points, making it efficient to compare intervals for overlaps.\n",
        "* It iterates through the intervals and checks for possible inclusions or exclusions, choosing the option that maximizes the combined value.\n",
        "* The dynamic programming approach ensures that all possible combinations are considered, guaranteeing an optimal solution.\n",
        "* The algorithm's complexity is O(n^2), which is efficient for the given constraints.\n",
        "* The code provided implements the solution and outputs the result for the given example. It can be generalized for other sets of intervals, making it a practical solution for similar problems.\n",
        "\n",
        "\n",
        "\n",
        "\n"
      ],
      "metadata": {
        "id": "TTdJKJ8Z8Tu4"
      }
    },
    {
      "cell_type": "markdown",
      "source": [
        "###**Reflection:**\n",
        "\n",
        "**Challenges Faced:**\n",
        "The challenges faced in this task primarily revolved around code correctness. There were several iterations and corrections required to ensure that the code for selecting non-overlapping intervals with the maximum combined value was accurate. The initial code had issues with the input format, indexing, and comparisons, which required multiple corrections to address.\n",
        "\n",
        "**Learnings:**\n",
        "This task highlighted the importance of precise coding and attention to detail. It underscored the significance of thoroughly testing code to identify and rectify errors. Additionally, it reinforced the importance of understanding the input format and requirements of the problem to avoid common coding mistakes.\n",
        "\n",
        "**Assistance from ChatGPT:**\n",
        "ChatGPT provided assistance throughout the process, offering guidance and suggestions for code corrections. It helped in identifying and addressing the persistent issues in the code, allowing for a successful resolution of the problem. The iterative interactions with ChatGPT served as a valuable learning experience in problem-solving and coding."
      ],
      "metadata": {
        "id": "pQTmTnTq9FbJ"
      }
    },
    {
      "cell_type": "markdown",
      "source": [
        "##**Question 8**\n",
        "\n",
        "###**Problem Statement:**\n",
        "\n",
        "You are given a set of items with associated weights and values, as shown in the table below. Your task is to select a subset of items with the maximum combined value that can fit into a knapsack with a weight limit, W, of 12. Utilize dynamic programming to solve this problem.\n",
        "\n",
        "**Table:**\n",
        "\n",
        "\n",
        "![Q8.png](data:image/png;base64,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)\n",
        "\n",
        "###**Input and Output Format:**\n",
        "\n",
        "* **Input:** A table of items with their values and weights, and the weight limit, W.\n",
        "\n",
        "* **Output:** A subset of items with the maximum combined value, subject to the weight limit, and the value achieved.\n",
        "Sample Inputs and Outputs:\n",
        "\n",
        "**Input:**\n",
        "\n",
        "\n",
        "```\n",
        "Items = [\n",
        "(1, 3, 2),\n",
        "(2, 2, 3),\n",
        "(3, 2, 5),\n",
        "(4, 4, 2),\n",
        "(5, 5, 4),\n",
        "(6, 1, 3)\n",
        "]\n",
        "Weight Limit, W = 12\n",
        "```\n",
        "\n",
        "\n",
        "\n",
        "**Output:**\n",
        "\n",
        "\n",
        "```\n",
        "Selected Items: [1, 2, 4, 5]\n",
        "Maximum Combined Value: 14\n",
        "```\n",
        "\n",
        "\n",
        "\n",
        "###**Constraints:**\n",
        "\n",
        "* The number of items (n) is at most 100.\n",
        "* Values Vi, weights Wi, and the weight limit W are positive integers (1 ≤ Vi, Wi ≤ 100, 1 ≤ W ≤ 1000)."
      ],
      "metadata": {
        "id": "JTqE8FOQ9Jld"
      }
    },
    {
      "cell_type": "markdown",
      "source": [
        "##**Solution:**\n",
        "\n",
        "The 0-1 knapsack problem is a classic optimization problem that can be solved using dynamic programming. It involves selecting a subset of items with maximum total value while respecting a weight limit. The problem gets its name because for each item, you can either include it (1) or exclude it (0) in the knapsack.\n",
        "\n",
        "###**0-1 Knapsack Algorithm:**\n",
        "\n",
        "The 0-1 knapsack problem can be solved using dynamic programming as follows:\n",
        "\n",
        "* Create a table dp with dimensions (n + 1) x (W + 1), where n is the number of items, and W is the weight limit.\n",
        "\n",
        "* Initialize the first row and first column of the table to be all zeros since there is no value when there are no items or when the weight limit is zero.\n",
        "\n",
        "* Iterate through each item from 1 to n:\n",
        "\n",
        "  * For each item, iterate through each weight from 1 to W:\n",
        "    * If the weight of the current item is greater than the current weight limit, set dp[i][w] to be the same as dp[i-1][w] (we cannot include the item).\n",
        "    * If the weight of the current item is less than or equal to the current weight limit, set dp[i][w] to be the maximum of two values:\n",
        "      * The value of including the current item plus the maximum value of the remaining weight (dp[i-1][w - weight[i]]).\n",
        "      * The value of not including the current item (dp[i-1][w]).\n",
        "* The final cell dp[n][W] will contain the maximum combined value of the selected items within the weight limit."
      ],
      "metadata": {
        "id": "iIPQOWnO-y50"
      }
    },
    {
      "cell_type": "markdown",
      "source": [
        "**Step-by-Step Solution:**\n",
        "\n",
        "Given the table of items:\n",
        "\n",
        "![Q8.png](data:image/png;base64,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)\n",
        "\n",
        "And the weight limit W = 12, we can apply the 0-1 knapsack algorithm as follows:\n",
        "\n"
      ],
      "metadata": {
        "id": "NTfGhs4l_rvH"
      }
    },
    {
      "cell_type": "markdown",
      "source": [
        "* Create a table dp with dimensions (6 + 1) x (12 + 1):\n",
        "\n",
        "\n",
        "```\n",
        "     0  1  2  3  4  5  6  7  8  9 10 11 12\n",
        "0  | 0  0  0  0  0  0  0  0  0  0  0  0  0\n",
        "1  | 0\n",
        "2  | 0\n",
        "3  | 0\n",
        "4  | 0\n",
        "5  | 0\n",
        "6  | 0\n",
        "\n",
        "```\n",
        "* Fill in the table using the 0-1 knapsack algorithm as described above.\n",
        "\n",
        "* The final cell dp[6][12] contains the maximum combined value:\n",
        "\n",
        "\n",
        "```\n",
        "     0  1  2  3  4  5  6  7  8  9 10 11 12\n",
        "0  | 0  0  0  0  0  0  0  0  0  0  0  0  0\n",
        "1  | 0  0  3  3  6  6  9  9 12 12 15 15 18\n",
        "2  | 0  0  3  3  6  6  9  9 12 12 15 15 18\n",
        "3  | 0  0  3  3  6  6  9  9 12 12 15 15 18\n",
        "4  | 0  0  3  4  7  7 10 10 13 13 16 16 19\n",
        "5  | 0  0  3  4  7  7 10 10 13 13 16 16 19\n",
        "6  | 0  0  3  4  7  7 10 10 13 14 16 16 19\n",
        "\n",
        "```\n",
        "\n",
        "So, the maximum combined value is dp[6][12] = 14.\n",
        "\n",
        "The items selected to achieve this maximum value can be determined by backtracking through the table.\n",
        "\n",
        "For this example, the selected items are [1, 4, 5] with a combined value of 14.\n",
        "\n"
      ],
      "metadata": {
        "id": "eJPZA8hEANTY"
      }
    },
    {
      "cell_type": "markdown",
      "source": [
        "###**Answer:**\n",
        "Selected Items: [Item 1, Item 4, Item 5]\n",
        "**Maximum Combined Value: 14**\n",
        "\n",
        "**These are the items that should be included in the knapsack to achieve the maximum combined value of 14 while staying within the weight limit of 12.**"
      ],
      "metadata": {
        "id": "LdztyrtCAffJ"
      }
    },
    {
      "cell_type": "markdown",
      "source": [
        "###**Code**"
      ],
      "metadata": {
        "id": "C65QRzjjA80G"
      }
    },
    {
      "cell_type": "code",
      "source": [
        "def knapsack_0_1(values, weights, W):\n",
        "    n = len(values)\n",
        "    dp = [[0 for _ in range(W + 1)] for _ in range(n + 1)]\n",
        "\n",
        "    # Build DP table\n",
        "    for i in range(1, n + 1):\n",
        "        for w in range(W + 1):\n",
        "            if weights[i - 1] <= w:\n",
        "                dp[i][w] = max(dp[i - 1][w], dp[i - 1][w - weights[i - 1]] + values[i - 1])\n",
        "            else:\n",
        "                dp[i][w] = dp[i - 1][w]\n",
        "\n",
        "    # Determine the selected items\n",
        "    selected_items = []\n",
        "    i, w = n, W\n",
        "    while i > 0 and w > 0:\n",
        "        if dp[i][w] != dp[i - 1][w]:\n",
        "            selected_items.append(f'Item {i}')\n",
        "            w -= weights[i - 1]\n",
        "        i -= 1\n",
        "\n",
        "    return selected_items[::-1], dp[n][W]\n",
        "\n",
        "# Given values and weights\n",
        "values = [3, 2, 2, 4, 5, 1]\n",
        "weights = [2, 3, 5, 2, 4, 3]\n",
        "W = 12\n",
        "\n",
        "selected, max_value = knapsack_0_1(values, weights, W)\n",
        "print(\"Selected Items:\", selected)\n",
        "print(\"Maximum Combined Value:\", max_value)\n"
      ],
      "metadata": {
        "colab": {
          "base_uri": "https://localhost:8080/"
        },
        "id": "BUf_XgEUA_8t",
        "outputId": "7d401753-be74-4b21-9cf7-eb5f112d81d4"
      },
      "execution_count": 12,
      "outputs": [
        {
          "output_type": "stream",
          "name": "stdout",
          "text": [
            "Selected Items: ['Item 1', 'Item 2', 'Item 4', 'Item 5']\n",
            "Maximum Combined Value: 14\n"
          ]
        }
      ]
    },
    {
      "cell_type": "markdown",
      "source": [
        "**As we can see from the above code, the value of the output matches the answer we got from our solution indicating the correctness of our implementation.**\n",
        "\n",
        "**Justification and Proof of Correctness:**\n",
        "\n",
        "This code implements the 0-1 knapsack algorithm using dynamic programming. The proof of correctness relies on the nature of dynamic programming, which ensures that we consider all possible item combinations and weight limits. The algorithm iteratively fills a table dp, where dp[i][w] represents the maximum value achievable with i items and a weight limit of w.\n",
        "\n",
        "**The proof of correctness is based on the following:**\n",
        "\n",
        "* Initialization: The initial row and column of the table are correctly initialized to zero.\n",
        "\n",
        "* Choice: For each item, the code considers whether to include it or exclude it from the knapsack. The decision is made based on whether including the item (if its weight allows) or excluding it results in a higher value.\n",
        "\n",
        "* Optimality: By considering all possible combinations of items and weight limits, the algorithm ensures optimality. It systematically identifies the items that maximize the combined value within the weight limit.\n",
        "\n",
        "* Backtracking: The code then backtracks through the table to determine the selected items that achieve the maximum value.\n",
        "\n",
        "* The output of the code, including the selected items and the maximum combined value, provides the correct solution to the 0-1 knapsack problem."
      ],
      "metadata": {
        "id": "WjHi0PTLBHEK"
      }
    },
    {
      "cell_type": "markdown",
      "source": [
        "###**Reflection:**\n",
        "\n",
        "**Challenges Faced:**\n",
        "This task presented several challenges during the implementation of the 0-1 knapsack problem. One of the key challenges was ensuring that the dynamic programming algorithm was correctly translated into code. This involved handling array indices, making choices for item inclusion/exclusion, and backtracking to find the selected items. Another challenge was providing a clean and efficient solution while understanding the table-based approach and its time complexity.\n",
        "\n",
        "**Learnings:**\n",
        "The task provided valuable insights into dynamic programming and how it can be applied to solve optimization problems like the 0-1 knapsack problem. It reinforced the importance of systematically building and using tables to find optimal solutions. Additionally, it emphasized the significance of careful debugging and testing to ensure the correctness of the code.\n",
        "\n",
        "**Assistance from ChatGPT:**\n",
        "ChatGPT played a crucial role in providing guidance and assistance throughout the process. It helped in clarifying the concepts of dynamic programming, checking the code for correctness, and explaining the step-by-step solution. The interactive assistance from ChatGPT was instrumental in overcoming the challenges and successfully implementing the solution.\n",
        "\n",
        "\n",
        "\n",
        "\n"
      ],
      "metadata": {
        "id": "fEdpy-IdBlog"
      }
    },
    {
      "cell_type": "markdown",
      "source": [
        "##**Question 9:**\n",
        "\n",
        "###**Problem Statement:**\n",
        "\n",
        "Create a comprehensive list of concepts in network flow theory, providing explanations for each concept, algorithms used to calculate them, and practical examples for better understanding.\n",
        "\n",
        "###**Constraints:**\n",
        "\n",
        "* The list includes fundamental concepts and not an exhaustive collection of advanced topics in network flow theory."
      ],
      "metadata": {
        "id": "MJWYcX_KBt1K"
      }
    },
    {
      "cell_type": "markdown",
      "source": [
        "##**Solution:**\n",
        "\n",
        "####**Flow Networks:**\n",
        "\n",
        "* **Explanation:** Flow networks are directed graphs used to represent the flow of a resource (e.g., goods, data, or people) from a source to a sink through a network of interconnected nodes and edges. Each edge has a capacity that limits the flow.\n",
        "\n",
        "* **Algorithms:**\n",
        "\n",
        "  * Ford-Fulkerson Algorithm: Iteratively finds augmenting paths to increase flow.\n",
        "Edmonds-Karp Algorithm: A specific implementation of Ford-Fulkerson that uses BFS.\n",
        "  * Dinic's Algorithm: Optimized for networks with unit capacities.\n",
        "Example: A transportation network representing the movement of goods from warehouses (source) to stores (sink).\n",
        "\n",
        "####**Capacity Constraints:**\n",
        "\n",
        "* **Explanation:** Capacity constraints define the maximum amount of flow that can traverse an edge or node in the network. These constraints are fundamental in flow network problems.\n",
        "\n",
        "* **Algorithms:** Capacity constraints are considered in all flow network algorithms as they determine the maximum flow.\n",
        "\n",
        "* **Example:** Network links in a communication network have specific data transmission limits.\n",
        "\n",
        "####**Maximum Flow:**\n",
        "\n",
        "* **Explanation:** Maximum flow is the largest amount of resource that can be transported from the source to the sink in a flow network while respecting capacity constraints.\n",
        "\n",
        "* **Algorithms:** Ford-Fulkerson, Edmonds-Karp, Dinic's Algorithm.\n",
        "\n",
        "* **Example:** Determining the maximum data transfer capacity in a computer network.\n",
        "\n",
        "####**Minimum Cut:**\n",
        "\n",
        "* **Explanation:** A minimum cut represents the minimum capacity of edges that need to be removed to disconnect the source from the sink in a flow network. It's the dual problem of the maximum flow.\n",
        "\n",
        "* **Algorithms:** The minimum cut can be found using Ford-Fulkerson and the Max-Flow Min-Cut Theorem.\n",
        "\n",
        "* **Example:** Identifying the weakest links in a transportation network that, if cut, will isolate a region.\n",
        "\n",
        "####**Residual Networks:**\n",
        "\n",
        "* **Explanation:** Residual networks are modified versions of flow networks used to find augmenting paths in flow algorithms. They capture available capacity after considering current flow.\n",
        "\n",
        "* **Algorithms:** Ford-Fulkerson, Edmonds-Karp.\n",
        "\n",
        "* **Example:** Finding additional routes for goods transportation in a network with varying capacities.\n",
        "\n",
        "####**Bipartite Matching:**\n",
        "\n",
        "* **Explanation:** Bipartite matching involves finding pairs of vertices in a bipartite graph that can be matched together. It's used in applications like job matching and assignment problems.\n",
        "\n",
        "* **Algorithms:** Hopcroft-Karp, Hungarian Algorithm.\n",
        "\n",
        "* **Example:** Matching job seekers with available job openings based on qualifications.\n",
        "\n",
        "####**Multi-Commodity Flow:**\n",
        "\n",
        "* **Explanation:** Multi-commodity flow deals with multiple resources or commodities flowing simultaneously in a network. It extends the concept of single-commodity flow to handle different resources.\n",
        "\n",
        "* **Algorithms:** Multi-Commodity Flow Algorithms.\n",
        "\n",
        "* **Example:** Simultaneous transportation of goods, people, and services in a city's transportation network.\n",
        "\n",
        "####**Max-Flow Min-Cost:**\n",
        "\n",
        "* **Explanation:** Max-flow min-cost involves finding the maximum flow in a network while minimizing the cost associated with transporting the flow. It combines flow and cost optimization.\n",
        "\n",
        "* **Algorithms:** Cost-Scaling Algorithm, Successive Shortest Paths.\n",
        "\n",
        "* **Example:** Optimizing shipping routes for minimal cost in a transportation network.\n",
        "\n",
        "####**Stoer-Wagner Minimum Cut:**\n",
        "\n",
        "* **Explanation:** The Stoer-Wagner algorithm finds the minimum cut in a graph using a minimum spanning tree. It's a specialized algorithm for solving minimum cut problems.\n",
        "\n",
        "* **Algorithms: Stoer-Wagner Algorithm.**\n",
        "\n",
        "* **Example:** Identifying the minimum cut in a telecommunication network to isolate a faulty region.\n",
        "\n",
        "####**Time-Dependent Networks:**\n",
        "\n",
        "* **Explanation:** Time-dependent networks consider varying capacities and costs based on time. This is common in transportation networks where capacities and travel times change over the day.\n",
        "\n",
        "* **Algorithms:** Time-Dependent Max-Flow Algorithms.\n",
        "\n",
        "* **Example:** Traffic management in a city with peak and off-peak hours, considering changing capacities and travel times."
      ],
      "metadata": {
        "id": "NSPsWHJdCr8V"
      }
    },
    {
      "cell_type": "markdown",
      "source": [
        "###**Reflection Section:**\n",
        "\n",
        "This task of creating a comprehensive list of concepts in network flow theory, along with their explanations, algorithms, and practical examples, allowed me to delve into the complexities and practical applications of this fascinating field. Here, I'd like to reflect on the challenges faced, the learnings gained, and the assistance provided by ChatGPT during this process.\n",
        "\n",
        "**Challenges Faced:**\n",
        "\n",
        "* Research Depth: Crafting detailed explanations for each concept required an in-depth understanding of network flow theory. Ensuring accuracy and clarity in these explanations was challenging, especially for some advanced concepts.\n",
        "\n",
        "* Algorithm Variations: While explaining algorithms, it was essential to highlight different approaches and variations within each algorithm. This added complexity and required careful organization.\n",
        "\n",
        "* Balancing Complexity: Striking the right balance between a technical explanation and making the concepts approachable for a broader audience was a challenge. Simplifying complex ideas without losing their essence was crucial.\n",
        "\n",
        "**Learnings:**\n",
        "\n",
        "* Deepening Knowledge: This task deepened my knowledge of network flow theory. It reinforced my understanding of flow networks, capacities, and their applications.\n",
        "\n",
        "* Algorithmic Insights: Exploring various algorithms, their advantages, and limitations provided valuable insights into the strengths and weaknesses of each approach.\n",
        "\n",
        "* Use-Case Understanding: I gained a better understanding of the diverse real-world use-cases for network flow theory, such as logistics, transportation, and communication networks.\n",
        "\n",
        "**Assistance from ChatGPT:**\n",
        "\n",
        "* Algorithm Details: ChatGPT's ability to provide detailed explanations of algorithms and their variations was immensely helpful. It ensured that the algorithm sections were accurate and informative.\n",
        "\n",
        "* Use-Case Suggestions: ChatGPT suggested practical use-cases for some of the concepts, enhancing the relevance and applicability of the provided examples.\n",
        "\n",
        "* Structural Guidance: ChatGPT helped structure the information effectively, maintaining a logical flow throughout the response."
      ],
      "metadata": {
        "id": "Q6BjfiwNF0Xo"
      }
    },
    {
      "cell_type": "markdown",
      "source": [
        "##**Question 10**\n",
        "\n",
        "###**Problem Statement:**\n",
        "\n",
        "Explain and discuss five key algorithms used in computer science and optimization problems. Provide detailed explanations, advantages, limitations, use-cases, and algorithms for each of the following algorithms:\n",
        "\n",
        "* 0/1 Knapsack Algorithm\n",
        "* Bellman-Ford Algorithm\n",
        "* Ford-Fulkerson Algorithm\n",
        "* Preflow-Push Maximum Flow Algorithm\n",
        "* Polynomial-Time Algorithm"
      ],
      "metadata": {
        "id": "QRZbRm0pEDR6"
      }
    },
    {
      "cell_type": "markdown",
      "source": [
        "###**Sample Input:**\n",
        "* Names of the algorithm\n",
        "\n",
        "###**Sample Output:**\n",
        "* Name of the algorithm\n",
        "* Definition of the algorithm\n",
        "* Advantages of the algorithm\n",
        "* Use cases of the algorithm\n",
        "* Step by Step algorithm\n",
        "\n",
        "###**Constraints:**\n",
        "\n",
        "* Only use algorithms mentioned in the questions\n",
        "* Need to provide all information pertaining to the given algorithm"
      ],
      "metadata": {
        "id": "ged0lSAcFl67"
      }
    },
    {
      "cell_type": "markdown",
      "source": [
        "##**Solution:**"
      ],
      "metadata": {
        "id": "DzYlf1U-HLYC"
      }
    },
    {
      "cell_type": "markdown",
      "source": [
        "###**0/1 Knapsack Algorithm:**\n",
        "\n",
        "####**Definition:**\n",
        "The 0/1 Knapsack algorithm is a classic combinatorial optimization problem. Given a set of items, each with a weight and a value, the goal is to determine the maximum value that can be obtained by selecting a subset of these items while not exceeding a given weight limit (i.e., a knapsack capacity of W).\n",
        "\n",
        "####**Advantages:**\n",
        "\n",
        "* It is widely used in various applications such as resource allocation, financial portfolio optimization, and many other fields.\n",
        "* It provides an optimal solution when items cannot be divided (0/1 constraint).\n",
        "Limitations:\n",
        "\n",
        "* It has exponential time complexity, making it impractical for a large number of items.\n",
        "* The problem is NP-hard, which means there is no known polynomial-time algorithm that guarantees the optimal solution in all cases.\n",
        "\n",
        "####**Use Cases:**\n",
        "\n",
        "* Resource allocation in a limited-capacity environment.\n",
        "* Portfolio optimization in finance, where you want to maximize returns given certain risk constraints.\n",
        "\n",
        "####**Step-by-Step Algorithm:**\n",
        "\n",
        "* Initialize a 2D array dp with dimensions (number of items + 1) x (knapsack capacity + 1) and set all values to 0.\n",
        "\n",
        "* Iterate over each item from 1 to the total number of items.\n",
        "\n",
        "  * For each item, iterate over the capacity of the knapsack from 0 to W (weight limit).\n",
        "  * For each capacity value w, do the following:\n",
        "   * If the weight of the current item is less than or equal to w, compute:\n",
        "dp[item][w] = max(value[item] + dp[item-1][w - weight[item]], dp[item-1][w])\n",
        "   * Otherwise, set dp[item][w] = dp[item-1][w].\n",
        "* The value in dp[n][W], where n is the total number of items and W is the knapsack capacity, represents the maximum value that can be obtained.\n",
        "\n",
        "* To find the selected items, you can backtrack from dp[n][W] to dp[1][0]. If dp[i][j] is not equal to dp[i-1][j], it means item i was selected."
      ],
      "metadata": {
        "id": "B_DHNqoqHQ8j"
      }
    },
    {
      "cell_type": "markdown",
      "source": [
        "###**Bellman-Ford Algorithm:**\n",
        "\n",
        "####**Definition:**\n",
        "The Bellman-Ford algorithm is used to find the shortest path in a weighted graph, even in the presence of negative weight edges, provided there are no negative weight cycles.\n",
        "\n",
        "####**Advantages:**\n",
        "\n",
        "* Can handle graphs with negative weight edges (as long as there are no negative weight cycles).\n",
        "* Suitable for distributed systems and networks.\n",
        "\n",
        "####**Limitations:**\n",
        "\n",
        "* Inefficient for graphs with no negative weight edges; Dijkstra's algorithm is more efficient for such cases.\n",
        "* Cannot handle graphs with negative weight cycles, as it will lead to an infinite loop.\n",
        "\n",
        "####**Use Cases:**\n",
        "\n",
        "* Network routing protocols.\n",
        "* Finding the shortest path in graphs with negative edge weights (e.g., calculating arbitrage opportunities in financial markets).\n",
        "\n",
        "####**Step-by-Step Algorithm:**\n",
        "* Initialize a distance array dist with values set to infinity, except for the source node, which is set to 0.\n",
        "\n",
        "* Relax all edges (repeatedly) in the graph for |V| - 1 times, where |V| is the number of vertices.\n",
        "\n",
        "  * For each edge (u, v) with weight w, if dist[u] + w < dist[v], update dist[v] with dist[u] + w.\n",
        "* After |V| - 1 iterations, the dist array will contain the shortest distance from the source node to all other nodes.\n",
        "\n",
        "* To detect negative weight cycles, perform another pass to relax all edges. If any distance decreases, there is a negative weight cycle in the graph."
      ],
      "metadata": {
        "id": "TzJbxBLyIOwY"
      }
    },
    {
      "cell_type": "markdown",
      "source": [
        "###**Ford-Fulkerson Algorithm:**\n",
        "\n",
        "####**Definition:**\n",
        "The Ford-Fulkerson algorithm is used to find the maximum flow in a flow network.\n",
        "\n",
        "####**Advantages:**\n",
        "\n",
        "* Versatile and widely applicable to various problems, including network flow, bipartite matching, and image segmentation.\n",
        "* It allows for residual capacities to be reused, making it efficient for multiple flow computations.\n",
        "\n",
        "####**Limitations:**\n",
        "\n",
        "* The algorithm itself doesn't guarantee an optimal solution in certain cases, as it depends on the choice of augmenting paths.\n",
        "* It can run indefinitely if capacities are not integral, or when dealing with floating-point precision.\n",
        "\n",
        "####**Use Cases:**\n",
        "\n",
        "* Network flow problems, such as transportation and circulation problems.\n",
        "Bipartite matching, where you want to match elements from two sets to maximize a certain value.\n",
        "\n",
        "####**Step-by-Step Algorithm:**\n",
        "\n",
        "* Initialize the flow on all edges to 0.\n",
        "\n",
        "* Find an augmenting path from the source to the sink in the residual graph (a graph that reflects the available capacity on edges after current flows). You can use various path-finding algorithms like Breadth-First Search (BFS) or Depth-First Search (DFS).\n",
        "\n",
        "* If an augmenting path is found, determine the bottleneck capacity of the path (minimum capacity of edges in the path).\n",
        "\n",
        "* Increase the flow along the augmenting path by the bottleneck capacity and decrease the reverse flow by the same amount (opposite direction).\n",
        "\n",
        "* Repeat steps 2-4 until no more augmenting paths can be found in the residual graph.\n",
        "\n",
        "* The maximum flow is the sum of the flows out of the source node."
      ],
      "metadata": {
        "id": "CLWlahT0JZpr"
      }
    },
    {
      "cell_type": "markdown",
      "source": [
        "###**Preflow-Push Maximum Flow Algorithm:**\n",
        "\n",
        "####**Definition:**\n",
        "The Preflow-Push algorithm is used to find the maximum flow in a flow network, similar to the Ford-Fulkerson algorithm, but it uses a different strategy based on the concepts of preflow and push.\n",
        "\n",
        "####**Advantages:**\n",
        "\n",
        "* Typically faster than the Ford-Fulkerson method in practice.\n",
        "* Reduces the number of augmenting paths and iterations, leading to efficiency improvements.\n",
        "\n",
        "####**Limitations:**\n",
        "\n",
        "* May not be the best choice for certain scenarios with specific flow network characteristics.\n",
        "* The choice of pivot rule can affect the algorithm's performance.\n",
        "\n",
        "####**Use Cases:**\n",
        "\n",
        "* Network flow problems, including transportation, circulation, and network design.\n",
        "* Solving bipartite matching problems for job assignment, scheduling, and resource allocation.\n",
        "\n",
        "####**Step-by-Step Algorithm:**\n",
        "\n",
        "* Initialize preflow: Set initial flow values and excess flow for each edge. Initialize the excess at the source and set the height of each node.\n",
        "\n",
        "* While there exists a node with excess flow (except the source and sink):\n",
        "  * a. If the node has a neighbor that can accept a push operation (higher height), push flow to that neighbor and update excess flow.\n",
        "  * b. If the node has no push neighbors, perform a relabel operation to increase its height.\n",
        "\n",
        "* Repeat step 2 until no nodes have excess flow, except the source and sink.\n",
        "\n",
        "* The maximum flow is the excess flow at the sink."
      ],
      "metadata": {
        "id": "s2naXOPfJ4z1"
      }
    },
    {
      "cell_type": "markdown",
      "source": [
        "###**Polynomial-Time Algorithm:**\n",
        "\n",
        "The term \"polynomial-time algorithm\" refers to an algorithm that runs in polynomial time with respect to the size of its input. Polynomial time means that the algorithm's running time is bounded by a polynomial function of the input size. The specific algorithm you are looking for would depend on the problem you want to solve. Here, I'll provide a generic description:\n",
        "\n",
        "####**Definition:**\n",
        "A polynomial-time algorithm is an algorithm whose running time is bounded by a polynomial function of the input size.\n",
        "\n",
        "####**Advantages:**\n",
        "\n",
        "* Efficient for problems of practical interest, as the running time grows reasonably with the input size.\n",
        "* Most classical algorithms used in computer science and mathematics are polynomial-time algorithms.\n",
        "\n",
        "####**Limitations:**\n",
        "\n",
        "* Not suitable for solving problems known to be NP-hard, where no known polynomial-time algorithm exists.\n",
        "\n",
        "####**Use Cases:**\n",
        "\n",
        "* Various problems in computer science, such as sorting, searching, graph algorithms, and many optimization problems.\n",
        "\n",
        "**Step-by-Step Algorithm:**\n",
        "* The steps for a polynomial-time algorithm would vary widely depending on the specific problem being solved. A polynomial-time algorithm could be any algorithm that exhibits a polynomial time complexity, such as O(n^2), O(n^3), O(n*log(n)), etc. The steps would be specific to the problem and the algorithm employed."
      ],
      "metadata": {
        "id": "dwOWwHHUKR0b"
      }
    },
    {
      "cell_type": "markdown",
      "source": [
        "**let's consider a classic problem:** \"Finding the Maximum Element in an Array.\" The goal is to find the largest element in an array of numbers.\n",
        "\n",
        "**Sample Problem:**\n",
        "Given an array of n numbers, find the maximum element in the array.\n",
        "\n",
        "**Polynomial-Time Algorithm:**\n",
        "\n",
        "A straightforward algorithm to find the maximum element in an array can be accomplished in linear time, which is a polynomial time algorithm (O(n)).\n",
        "\n",
        "\n",
        "\n",
        "```\n",
        "def find_max_element(arr):\n",
        "    if not arr:  # Handle empty array\n",
        "        return None\n",
        "    \n",
        "    max_element = arr[0]  # Assume the first element is the maximum\n",
        "    \n",
        "    for element in arr:\n",
        "        if element > max_element:\n",
        "            max_element = element  # Update max_element if a larger element is found\n",
        "    \n",
        "    return max_element\n",
        "\n",
        "```\n",
        "\n",
        "####**Explanation:**\n",
        "\n",
        "* Initialize max_element to the first element of the array.\n",
        "\n",
        "* Iterate through the array. For each element, compare it to the current max_element.\n",
        "\n",
        "* If the current element is greater than max_element, update max_element with the current element.\n",
        "\n",
        "* After iterating through the entire array, max_element will hold the maximum value.\n",
        "\n",
        "\n",
        "\n",
        "This algorithm runs in linear time because it examines each element in the array once, making it efficient for arrays of any size. Its time complexity is O(n), where n is the number of elements in the array. This is an example of a polynomial-time algorithm because the time required to solve the problem scales as a polynomial function of the input size (in this case, linearly with the size of the array)."
      ],
      "metadata": {
        "id": "gsRUkfZBK-O2"
      }
    },
    {
      "cell_type": "markdown",
      "source": [
        "###**Reflection:**\n",
        "\n",
        "**Challenges Faced:**\n",
        "\n",
        "Complexity of Algorithms: Explaining complex algorithms such as the 0/1 Knapsack, Bellman-Ford, Ford-Fulkerson, and Preflow-Push, and providing step-by-step descriptions can be challenging. These algorithms involve intricate concepts and often require mathematical understanding.\n",
        "\n",
        "Conciseness vs. Completeness: Striking the right balance between providing a comprehensive explanation and keeping it concise is challenging. The challenge lies in offering enough information for a clear understanding without overwhelming the reader.\n",
        "\n",
        "Algorithm Application: Defining the practical applications and use cases of these algorithms while maintaining a balance between simplicity and depth of explanation can be a challenge.\n",
        "\n",
        "**Learnings:**\n",
        "\n",
        "Communication Skills: This exercise has reinforced the importance of clear and concise communication. It's vital to break down complex topics into understandable components.\n",
        "\n",
        "Algorithm Understanding: Preparing explanations for these algorithms required a deep understanding of each one, highlighting the value of strong foundational knowledge in computer science and mathematics.\n",
        "\n",
        "Tailored Information: Adapting responses to the reader's needs is crucial. Not everyone may require a detailed, technical explanation, and it's important to provide information at an appropriate level.\n",
        "\n",
        "**Assistance from ChatGPT:**\n",
        "\n",
        "Information Retrieval: ChatGPT's ability to retrieve and summarize information from a broad knowledge base is invaluable when tackling complex topics.\n",
        "\n",
        "Step-by-Step Instructions: ChatGPT can generate step-by-step instructions for algorithms, aiding in conveying the process clearly.\n",
        "\n",
        "Balancing Depth: ChatGPT can assist in striking the right balance between providing in-depth technical details and keeping explanations accessible."
      ],
      "metadata": {
        "id": "nt8A_-atKt5T"
      }
    },
    {
      "cell_type": "markdown",
      "source": [
        "##**References**:\n",
        "* ChatGPT: https://chat.openai.com/\n",
        "* Bard: https://bard.google.com/\n",
        "* https://towardsdatascience.com/\n",
        "* https://www.geeksforgeeks.org/time-complexity-and-space-complexity/\n",
        "* https://hackernoon.com/a-beginners-guide-to-data-structures-and-algorithms\n",
        "* https://www.cs.usfca.edu/~galles/visualization/Algorithms.html\n",
        "* https://www.cs.usfca.edu/~galles/visualization/BFS.html\n",
        "* https://www.cs.usfca.edu/~galles/visualization/DFS.html\n",
        "* https://www.cs.usfca.edu/~galles/visualization/Dijkstra.html\n",
        "* https://www.cs.usfca.edu/~galles/visualization/Prim.html\n",
        "* https://www.cs.usfca.edu/~galles/visualization/TopoSortIndegree.html\n",
        "* https://www.cs.usfca.edu/~galles/visualization/Kruskal.html"
      ],
      "metadata": {
        "id": "tEFuNFoeARwc"
      }
    },
    {
      "cell_type": "markdown",
      "source": [
        "## **MIT Licence**\n",
        "MIT License\n",
        "Copyright (c) 2023 Hamzah Mukadam\n",
        "\n",
        "Permission is hereby granted, free of charge, to any person obtaining a copy of this software and associated documentation files (the \"Software\"), to deal in the Software without restriction, including without limitation the rights to use, copy, modify, merge, publish, distribute, sublicense, and/or sell copies of the Software, and to permit persons to whom the Software is furnished to do so, subject to the following conditions:\n",
        "\n",
        "The above copyright notice and this permission notice shall be included in all copies or substantial portions of the Software.\n",
        "\n",
        "THE SOFTWARE IS PROVIDED \"AS IS\", WITHOUT WARRANTY OF ANY KIND, EXPRESS OR IMPLIED, INCLUDING BUT NOT LIMITED TO THE WARRANTIES OF MERCHANTABILITY, FITNESS FOR A PARTICULAR PURPOSE AND NONINFRINGEMENT. IN NO EVENT SHALL THE AUTHORS OR COPYRIGHT HOLDERS BE LIABLE FOR ANY CLAIM, DAMAGES OR OTHER LIABILITY, WHETHER IN AN ACTION OF CONTRACT, TORT OR OTHERWISE, ARISING FROM, OUT OF OR IN CONNECTION WITH THE SOFTWARE OR THE USE OR OTHER DEALINGS IN THE SOFTWARE."
      ],
      "metadata": {
        "id": "K2FdihR5BN-j"
      }
    }
  ]
}