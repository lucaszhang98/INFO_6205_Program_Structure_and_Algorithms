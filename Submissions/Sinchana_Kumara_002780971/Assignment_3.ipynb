{
  "cells": [
    {
      "cell_type": "markdown",
      "metadata": {
        "id": "LkZLd31obdqn"
      },
      "source": [
        "# **Assignment 3**"
      ]
    },
    {
      "cell_type": "markdown",
      "source": [
        "### **Problem 1:**\n",
        "\n",
        "Give a brief definitions for the following:\n",
        "\n",
        "1. Dijkstra's Algorithm\n",
        "2. Flow Network\n",
        "3. Residual Graph\n",
        "4. Augmenting Path\n",
        "5. Ford-Fulkerson Algorithm\n",
        "\n"
      ],
      "metadata": {
        "id": "8-Ejwh8RS8qV"
      }
    },
    {
      "cell_type": "markdown",
      "source": [
        "### **Solution 1:**\n",
        "\n",
        "1. **Dijkstra's Algorithm:** Dijkstra's Algorithm is a graph search algorithm used to find the shortest path from a source node to all other nodes in a weighted graph with non-negative edge weights. It efficiently computes the minimum distance or cost from the source to all reachable nodes.\n",
        "\n",
        "2. **Flow Network:** A Flow Network is a directed graph in which each edge has a capacity representing the maximum flow it can carry. It is a fundamental concept in network flow problems, often used to model the transportation or flow of resources or information in various applications.\n",
        "\n",
        "3. **Residual Graph:** A Residual Graph is a graph used in network flow algorithms to represent the remaining capacity on each edge after flow has been pushed through the network. It helps in determining the feasibility of further flow augmentations.\n",
        "\n",
        "4. **Augmenting Path:** In the context of network flow, an Augmenting Path is a path through the flow network where additional flow can be pushed to increase the overall flow value. It is a critical concept in algorithms like the Ford-Fulkerson Algorithm.\n",
        "\n",
        "5. **Ford-Fulkerson Algorithm:** The Ford-Fulkerson Algorithm is an iterative method used to find the maximum flow in a flow network. It repeatedly finds augmenting paths and increases the flow along those paths, ultimately providing the maximum possible flow from a source to a target node in the network.\n"
      ],
      "metadata": {
        "id": "QqmiEem6TkwJ"
      }
    },
    {
      "cell_type": "markdown",
      "source": [
        "**Reflection:**\n",
        "\n",
        "The process of solving these algorithmic problems was a valuable learning experience, deepening my understanding of Dijkstra's and Ford-Fulkerson. ChatGPT played a crucial role, offering clear explanations. This experience strengthened my problem-solving skills and coding abilities, emphasizing the importance of both theory and practice in learning."
      ],
      "metadata": {
        "id": "OmroM4P9VDJg"
      }
    },
    {
      "cell_type": "markdown",
      "source": [
        "### **Problem 2:**\n",
        "\n",
        "Use the Bellman-Ford algorithm to find the shortest path from node A to F in the weighted directed graph below.\n",
        "\n",
        "![Bellman-Ford.png](data:image/png;base64,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)"
      ],
      "metadata": {
        "id": "2qxH3l7Orr63"
      }
    },
    {
      "cell_type": "markdown",
      "source": [
        "### **Solution 2:**\n",
        "\n",
        "In the graph:\n",
        "\n",
        "The edge (A, B) has a weight of 5.\n",
        "\n",
        "The edge (A, E) has a weight of 1.\n",
        "\n",
        "The edge (B, C) has a weight of 2.\n",
        "\n",
        "The edge (C, D) has a weight of 1.\n",
        "\n",
        "The edge (D, G) has a weight of 2.\n",
        "\n",
        "The edge (E, F) has a weight of 4.\n",
        "\n",
        "The edge (F, G) has a weight of 3.\n",
        "\n",
        "The edge (G, H) has a weight of 2.\n",
        "\n",
        "The edge (E, I) has a weight of 6.\n",
        "\n",
        "The edge (I, J) has a weight of 6.\n",
        "\n",
        "Let's use the Bellman-Ford algorithm to find the shortest path from node A to node F in this graph:\n",
        "\n",
        "Initialize the distance to all nodes as infinity, except for node A, which is 0.\n",
        "\n",
        "A: 0, B: ∞, C: ∞, D: ∞, E: ∞, F: ∞, G: ∞, H: ∞, I: ∞, J: ∞\n",
        "\n",
        "Relax all edges repeatedly. In each iteration, update the distance to a node if a shorter path is found through its neighboring nodes.\n",
        "\n",
        "**First iteration:**\n",
        "\n",
        "Update B: 0 + 5 = 5 (A to B)\n",
        "\n",
        "Update E: 0 + 1 = 1 (A to E)\n",
        "\n",
        "**Second iteration:**\n",
        "\n",
        "Update C: 5 + 2 = 7 (B to C)\n",
        "\n",
        "Update F: 1 + 4 = 5 (E to F)\n",
        "\n",
        "**Third iteration:**\n",
        "\n",
        "Update D: 7 + 1 = 8 (C to D)\n",
        "\n",
        "Update G: 5 + 3 = 8 (F to G)\n",
        "\n",
        "**Fourth iteration:**\n",
        "\n",
        "Update H: 8 + 2 = 10 (G to H)\n",
        "\n",
        "**Fifth iteration:**\n",
        "\n",
        "Update J: 8 + 6 = 14 (I to J)\n",
        "\n",
        "After the fifth iteration, the distances are as follows:\n",
        "\n",
        "A: 0, B: 5, C: 7, D: 8, E: 1, F: 5, G: 8, H: 10, I: ∞, J: 14\n",
        "\n",
        "The shortest path from node A to F is 5, and it is achieved by following the path A -> E -> F. So, the shortest path from A to F has a length of 5 in this complex graph."
      ],
      "metadata": {
        "id": "pYjyrAmYsAdb"
      }
    },
    {
      "cell_type": "markdown",
      "source": [
        "![image.png](data:image/png;base64,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)"
      ],
      "metadata": {
        "id": "yfdTNEyUsxn0"
      }
    },
    {
      "cell_type": "markdown",
      "source": [
        "\n",
        "\n",
        "```\n",
        "function bellmanFord(graph, source):\n",
        "    distance[source] = 0\n",
        "\n",
        "    for i from 1 to |V| - 1:\n",
        "        for each edge (u, v, w) in graph:\n",
        "            if distance[u] + w < distance[v]:\n",
        "                distance[v] = distance[u] + w\n",
        "\n",
        "    for each edge (u, v, w) in graph:\n",
        "        if distance[u] + w < distance[v]:\n",
        "            // Negative cycle detected\n",
        "            return true\n",
        "\n",
        "    // No negative cycle found\n",
        "    return false\n",
        "\n",
        "```\n",
        "* graph represents the directed graph as an adjacency list or an edge list.\n",
        "\n",
        "* source is the starting node for which you want to detect negative cycles.\n",
        "\n",
        "* distance is an array to store the minimum distance from the source node to all other nodes. Initialize it with positive infinity for all nodes except the source, which is initialized to 0.\n",
        "\n",
        "* The outer loop runs |V| - 1 times, where |V| is the number of vertices, ensuring that the algorithm iterates enough times to find the shortest paths.\n",
        "\n",
        "* The inner loop checks each edge in the graph and relaxes the edges by updating distance[v] if a shorter path is found through u.\n",
        "\n",
        "* After completing the relaxation step, a second loop is used to check for any negative cycles. If any distance still decreases after |V| - 1 iterations, a negative cycle is detected.\n",
        "\n",
        "* You can adapt this pseudocode into your preferred programming language for implementation.\n"
      ],
      "metadata": {
        "id": "Y7lEePaJt-4R"
      }
    },
    {
      "cell_type": "code",
      "source": [
        "class Graph:\n",
        "    def __init__(self, vertices):\n",
        "        self.V = vertices\n",
        "        self.graph = []\n",
        "\n",
        "    def add_edge(self, u, v, w):\n",
        "        self.graph.append([u, v, w])\n",
        "\n",
        "    def detect_negative_cycle(self, src):\n",
        "        distance = [float('inf')] * self.V\n",
        "        distance[src] = 0\n",
        "\n",
        "        for _ in range(self.V - 1):\n",
        "            for u, v, w in self.graph:\n",
        "                if distance[u] != float('inf') and distance[u] + w < distance[v]:\n",
        "                    distance[v] = distance[u] + w\n",
        "\n",
        "        for u, v, w in self.graph:\n",
        "            if distance[u] != float('inf') and distance[u] + w < distance[v]:\n",
        "                print(\"Negative cycle detected.\")\n",
        "                return True\n",
        "\n",
        "        print(\"No negative cycle found.\")\n",
        "        return False\n",
        "\n",
        "# Example usage\n",
        "g = Graph(10)\n",
        "g.add_edge(0, 1, 5)\n",
        "g.add_edge(0, 4, 1)\n",
        "g.add_edge(1, 2, 2)\n",
        "g.add_edge(2, 3, 1)\n",
        "g.add_edge(3, 6, 2)\n",
        "g.add_edge(4, 5, 4)\n",
        "g.add_edge(5, 6, 3)\n",
        "g.add_edge(6, 7, 2)\n",
        "g.add_edge(5, 8, 6)\n",
        "g.add_edge(8, 9, 6)\n",
        "g.add_edge(9, 1, -5)  # Introducing a negative edge\n",
        "\n",
        "source_node = 0\n",
        "g.detect_negative_cycle(source_node)\n"
      ],
      "metadata": {
        "colab": {
          "base_uri": "https://localhost:8080/"
        },
        "id": "LRXb39E4ueOw",
        "outputId": "cbb54a56-0a27-4f44-9b2f-0fc7dd9b2b20"
      },
      "execution_count": 1,
      "outputs": [
        {
          "output_type": "stream",
          "name": "stdout",
          "text": [
            "No negative cycle found.\n"
          ]
        },
        {
          "output_type": "execute_result",
          "data": {
            "text/plain": [
              "False"
            ]
          },
          "metadata": {},
          "execution_count": 1
        }
      ]
    },
    {
      "cell_type": "markdown",
      "source": [
        "**Reflection:**\n",
        "\n",
        "Solving the problem of detecting negative cycles in a graph with the Bellman-Ford algorithm provided valuable insights into graph theory and problem-solving. ChatGPT's explanations, pseudocode, and Python code greatly aided my understanding of the algorithm. This experience highlighted the importance of comprehensive explanations and AI-driven platforms like ChatGPT for efficient learning and problem-solving."
      ],
      "metadata": {
        "id": "t9hG_6HiutlU"
      }
    },
    {
      "cell_type": "markdown",
      "source": [
        "### **Problem 3:**\n",
        "\n",
        "Use the Ford-Fulkerson algorithm to find the maximum flow from node A to E in the weighted directed graph below.\n",
        "\n",
        "![Ford-Fulkerson.png](data:image/png;base64,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)"
      ],
      "metadata": {
        "id": "u-u0r63Tu105"
      }
    },
    {
      "cell_type": "markdown",
      "source": [
        "### **Solution 3:**\n",
        "\n",
        "To solve the problem and find the maximum flow from node A to E in the provided flow network graph using the Ford-Fulkerson algorithm, we need to follow the steps mentioned earlier. Let's apply the algorithm to this complex graph:\n",
        "\n",
        "1. Start with an initial flow of 0 in the network.\n",
        "\n",
        "2. Find an augmenting path from A to E. Let's choose the path A -> B -> C -> E, which has a bottleneck capacity of 5.\n",
        "\n",
        "3. Update the flow along this path and in the reverse direction. The flow values along the path become:\n",
        "\n",
        "* A -> B: 5\n",
        "\n",
        "* B -> C: 5\n",
        "\n",
        "* C -> E: 5\n",
        "\n",
        "The reverse edges have their flow values updated accordingly.\n",
        "\n",
        "4. Continue to find augmenting paths and update flow values. In this case, another augmenting path is A -> D -> E, which has a bottleneck capacity of 10.\n",
        "\n",
        "5. Update the flow along this new path and in the reverse direction. The flow values along the path become:\n",
        "\n",
        "* A -> D: 10\n",
        "\n",
        "* D -> E: 10\n",
        "\n",
        "The reverse edges have their flow values updated accordingly.\n",
        "\n",
        "6. Repeat steps 2 to 5 until there are no more augmenting paths from A to E in the residual graph.\n",
        "\n",
        "7. The maximum flow from A to E is the sum of flow values along all paths from A to E in the final flow network.\n",
        "\n",
        "After running the Ford-Fulkerson algorithm, you would calculate the maximum flow based on the updated flow values and determine the maximum flow from node A to E in the complex graph. The specific calculations would depend on the actual implementation of the algorithm, including how you track the residual capacities, augmenting paths, and flow updates."
      ],
      "metadata": {
        "id": "ZVvoGmV8y6_6"
      }
    },
    {
      "cell_type": "markdown",
      "source": [
        "\n",
        "\n",
        "```\n",
        "function FordFulkerson(graph, source, sink):\n",
        "    Initialize flow to 0\n",
        "    \n",
        "    while there exists an augmenting path from source to sink in the residual graph:\n",
        "        Find an augmenting path using a path-finding algorithm (e.g., BFS or DFS)\n",
        "        Determine the bottleneck capacity (minimum capacity along the path)\n",
        "        Update flow and residual capacities along the path:\n",
        "        for each edge (u, v) in the augmenting path:\n",
        "            Increase flow(u, v) by the bottleneck capacity\n",
        "            Decrease capacity(u, v) by the bottleneck capacity\n",
        "            Increase capacity(v, u) by the bottleneck capacity\n",
        "\n",
        "    return flow\n",
        "\n",
        "# Example usage\n",
        "graph = CreateFlowGraph()  # Initialize the graph with capacities\n",
        "source = NodeA\n",
        "sink = NodeE\n",
        "max_flow = FordFulkerson(graph, source, sink)\n",
        "\n",
        "```\n",
        "\n",
        "* graph represents the directed graph with edge capacities, as part of a flow network.\n",
        "\n",
        "* source and sink are the source and sink nodes between which you want to find the maximum flow.\n",
        "\n",
        "* The algorithm iteratively finds augmenting paths using a path-finding algorithm (e.g., Breadth-First Search or Depth-First Search) until no more augmenting paths exist in the residual graph.\n",
        "\n",
        "* For each augmenting path, it calculates the bottleneck capacity, which is the minimum capacity along the path.\n",
        "\n",
        "* It updates the flow values along the path and adjusts the residual capacities to reflect the flow.\n",
        "\n",
        "* The algorithm continues until no more augmenting paths can be found.\n",
        "\n",
        "\n"
      ],
      "metadata": {
        "id": "HnRAoVLfzvQ7"
      }
    },
    {
      "cell_type": "code",
      "source": [
        "class FordFulkerson:\n",
        "    def __init__(self, graph):\n",
        "        self.graph = graph\n",
        "        self.V = len(graph)\n",
        "\n",
        "    def dfs(self, u, sink, parent, visited):\n",
        "        visited[u] = True\n",
        "        for v in range(self.V):\n",
        "            if not visited[v] and self.graph[u][v] > 0:\n",
        "                parent[v] = u\n",
        "                if v == sink:\n",
        "                    return True\n",
        "                if self.dfs(v, sink, parent, visited):\n",
        "                    return True\n",
        "        return False\n",
        "\n",
        "    def max_flow(self, source, sink):\n",
        "        parent = [-1] * self.V\n",
        "        max_flow = 0\n",
        "\n",
        "        while self.dfs(source, sink, parent, [False] * self.V):\n",
        "            path_flow = float('inf')\n",
        "            s = sink\n",
        "\n",
        "            while s != source:\n",
        "                path_flow = min(path_flow, self.graph[parent[s]][s])\n",
        "                s = parent[s]\n",
        "\n",
        "            max_flow += path_flow\n",
        "\n",
        "            v = sink\n",
        "            while v != source:\n",
        "                u = parent[v]\n",
        "                self.graph[u][v] -= path_flow\n",
        "                self.graph[v][u] += path_flow\n",
        "                v = parent[v]\n",
        "\n",
        "        return max_flow\n",
        "\n",
        "# Example usage\n",
        "graph = [\n",
        "    [0, 10, 0, 5, 0, 0],\n",
        "    [0, 0, 4, 0, 9, 0],\n",
        "    [0, 0, 0, 0, 0, 10],\n",
        "    [0, 0, 0, 0, 0, 15],\n",
        "    [0, 0, 0, 0, 0, 10],\n",
        "    [0, 0, 0, 0, 0, 0]\n",
        "]\n",
        "\n",
        "ff = FordFulkerson(graph)\n",
        "source = 0\n",
        "sink = 5\n",
        "max_flow = ff.max_flow(source, sink)\n",
        "print(\"Maximum flow from source to sink:\", max_flow)\n"
      ],
      "metadata": {
        "colab": {
          "base_uri": "https://localhost:8080/"
        },
        "id": "oKC3Im7r0Igi",
        "outputId": "4e189050-cb15-4550-c1dd-937a4f0b9169"
      },
      "execution_count": 2,
      "outputs": [
        {
          "output_type": "stream",
          "name": "stdout",
          "text": [
            "Maximum flow from source to sink: 15\n"
          ]
        }
      ]
    },
    {
      "cell_type": "markdown",
      "source": [
        "**Reflection:**\n",
        "\n",
        "Solving the maximum flow problem using the Ford-Fulkerson algorithm provided an in-depth understanding of graph theory and network flow optimization. The process involved creating a flow network, identifying augmenting paths, and iteratively updating flow values until an optimal solution was achieved. ChatGPT played a pivotal role in this learning journey by explaining the algorithm steps, providing pseudocode, and even offering a runnable Python implementation. These clear explanations and interactive examples helped me grasp complex concepts, enhancing my problem-solving skills in algorithm design. Understanding how to navigate and optimize flow within a network is a valuable skill in various fields, and ChatGPT made this challenging topic accessible and comprehensible."
      ],
      "metadata": {
        "id": "6vKfOVTP0O9h"
      }
    },
    {
      "cell_type": "markdown",
      "source": [
        "### **Problem 4:**\n",
        "\n",
        "Use the Preflow-Push (Push–relabel) maximum flow algorithm to find the maximum flow from node A to E in the weighted directed graph below.\n",
        "\n",
        "![image.png](data:image/png;base64,iVBORw0KGgoAAAANSUhEUgAAAfQAAAFhCAYAAACGfVh6AAAEDmlDQ1BrQ0dDb2xvclNwYWNlR2VuZXJpY1JHQgAAOI2NVV1oHFUUPpu5syskzoPUpqaSDv41lLRsUtGE2uj+ZbNt3CyTbLRBkMns3Z1pJjPj/KRpKT4UQRDBqOCT4P9bwSchaqvtiy2itFCiBIMo+ND6R6HSFwnruTOzu5O4a73L3PnmnO9+595z7t4LkLgsW5beJQIsGq4t5dPis8fmxMQ6dMF90A190C0rjpUqlSYBG+PCv9rt7yDG3tf2t/f/Z+uuUEcBiN2F2Kw4yiLiZQD+FcWyXYAEQfvICddi+AnEO2ycIOISw7UAVxieD/Cyz5mRMohfRSwoqoz+xNuIB+cj9loEB3Pw2448NaitKSLLRck2q5pOI9O9g/t/tkXda8Tbg0+PszB9FN8DuPaXKnKW4YcQn1Xk3HSIry5ps8UQ/2W5aQnxIwBdu7yFcgrxPsRjVXu8HOh0qao30cArp9SZZxDfg3h1wTzKxu5E/LUxX5wKdX5SnAzmDx4A4OIqLbB69yMesE1pKojLjVdoNsfyiPi45hZmAn3uLWdpOtfQOaVmikEs7ovj8hFWpz7EV6mel0L9Xy23FMYlPYZenAx0yDB1/PX6dledmQjikjkXCxqMJS9WtfFCyH9XtSekEF+2dH+P4tzITduTygGfv58a5VCTH5PtXD7EFZiNyUDBhHnsFTBgE0SQIA9pfFtgo6cKGuhooeilaKH41eDs38Ip+f4At1Rq/sjr6NEwQqb/I/DQqsLvaFUjvAx+eWirddAJZnAj1DFJL0mSg/gcIpPkMBkhoyCSJ8lTZIxk0TpKDjXHliJzZPO50dR5ASNSnzeLvIvod0HG/mdkmOC0z8VKnzcQ2M/Yz2vKldduXjp9bleLu0ZWn7vWc+l0JGcaai10yNrUnXLP/8Jf59ewX+c3Wgz+B34Df+vbVrc16zTMVgp9um9bxEfzPU5kPqUtVWxhs6OiWTVW+gIfywB9uXi7CGcGW/zk98k/kmvJ95IfJn/j3uQ+4c5zn3Kfcd+AyF3gLnJfcl9xH3OfR2rUee80a+6vo7EK5mmXUdyfQlrYLTwoZIU9wsPCZEtP6BWGhAlhL3p2N6sTjRdduwbHsG9kq32sgBepc+xurLPW4T9URpYGJ3ym4+8zA05u44QjST8ZIoVtu3qE7fWmdn5LPdqvgcZz8Ww8BWJ8X3w0PhQ/wnCDGd+LvlHs8dRy6bLLDuKMaZ20tZrqisPJ5ONiCq8yKhYM5cCgKOu66Lsc0aYOtZdo5QCwezI4wm9J/v0X23mlZXOfBjj8Jzv3WrY5D+CsA9D7aMs2gGfjve8ArD6mePZSeCfEYt8CONWDw8FXTxrPqx/r9Vt4biXeANh8vV7/+/16ffMD1N8AuKD/A/8leAvFY9bLAAAAOGVYSWZNTQAqAAAACAABh2kABAAAAAEAAAAaAAAAAAACoAIABAAAAAEAAAH0oAMABAAAAAEAAAFhAAAAAE1ARNoAADY4SURBVHgB7Z19sBXVma+X0cQqrQvnlp8QBP64NdcLATHiByIG5opGRQUTFQeVIQWDDEQ0CTGKM4SM+DFoCAZELtRlMGEkfoGAJIaUEpH4RUaEwXgzmSpABIxJFRA0NVFz7v416XP2OWf32b377L17vWs/y8LTu3ut7nc972/vt9fqtVYf1VxIjgQBCEAAAhCAgGkCnzJtPcZDAAIQgAAEIBARIKAjBAhAAAIQgEAABAjoATiRKkAAAhCAAAQI6GgAAhCAAAQgEAABAnoATqQKEIAABCAAAQI6GoAABCAAAQgEQICAHoATqQIEIAABCECAgI4GIAABCEAAAgEQIKAH4ESqAAEIQAACECCgowEIQAACEIBAAAQI6AE4kSpAAAIQgAAECOhoAAIQgAAEIBAAAQJ6AE6kChCAAAQgAAECOhqAAAQgAAEIBECAgB6AE6kCBCAAAQhAgICOBiAAAQhAAAIBECCgB+BEqgABCEAAAhAgoKMBCEAAAhCAQAAECOgBOJEqQAACEIAABAjoaAACEIAABCAQAAECegBOpAoQgAAEIAABAjoagAAEIAABCARAgIAegBOpAgQgAAEIQICAjgYgAAEIQAACARAgoAfgRKoAAQhAAAIQIKCjAQhAAAIQgEAABAjoATiRKkAAAhCAAAQI6GgAAhCAAAQgEAABAnoATqQKEIAABCAAAQI6GoAABCAAAQgEQICAHoATqQIEIAABCECAgI4GIAABCEAAAgEQIKAH4ESqAAEIQAACECCgowEIQAACEIBAAAQI6AE4kSpAAAIQgAAECOhoAAIQgAAEIBAAAQJ6AE6kChCAAAQgAAECOhqAAAQgAAEIBECAgB6AE6kCBCAAAQhAgICOBiAAAQhAAAIBECCgB+BEqgABCEAAAhAgoKMBCEAAAhCAQAAECOgBOJEqQAACEIAABAjoaAACEIAABCAQAAECegBOpAoQgAAEIAABAjoagAAEIAABCARAgIAegBOpAgQgAAEIQICAjgYgAAEIQAACARAgoAfgRKoAAQhAAAIQIKCjAQhAAAIQgEAABAjoATiRKkAAAhCAAASOAUF5Ah99/LHbu3ef27f/Pbdnz96WAgcOHoq2m7p3a9nXq1dP1+PUU1zPnj3cp48BbwsYNmpOAJ3WHDEXqAIBdFoFiAmnIOKUALNr9zvu9S1vuI2bNrutW7e7g4cORLm6d2tygwYNKFGidVep/MOHDXVnDz7T9el9WmtGtiDQRQLotIsAKV4XAui0LpijixzVXEj1u5y/V9rx1tvuscdXuWfWro2M7NO7txs+fJi7YMi5Fbe4i+9AX3r5Vbdx4ya3a/fu6LxXXXGFu/7aMa5/v9P9hYFl3hJAp966BsOKCKDTIhh13GzogP7BBx+6RUuXudWrn41a4Qq2oy4b6Qb07+eOP/64qrpB19q+4y23bv2G6KZBrf3Roy93UyZOqPq1qmo4J8udADrN3QUYkIIAOk0BqcZZGjKgv/+737vlK1a65Y+uKHSD93a3TJ3shhZa4tUO4km+k/A3F1ruDy1cHLXcx980zo0fN9addOIJSUXY34AE0GkDOt1gldGpP05rqICuQHrv3PlRC/mMgQPdtCkT3XnnDM7VG6+8tsUtWLTUvbltm1MPwR0zptftxiLXinPxRALoNBENBzwigE49csZfTGmYgP7k02vc977/iGtq6uYWzp/r3QA1DRyZOn2GO3DgkLv1qze7L199pX9qwaKaE0CnNUdc0QX0LPhXb/86GtTKzJVWdOi0lYVPW8EHdHUHTZg01UygLP6iLFuykG54n74tNbQFndYQboWnVsuzeGxNcXH1ot397TuKdzXUNjr1291BLyzz05+94P76kitc37593HPrnjTR6lXLXLbKZtmuOpDCJoBO/fKvHstpfI2SxrfMmvmt6HGYPmsWjFrtjZjQqQGva9paaOlPH33UPHPWPc2f+/yQ5ieeesZs9WS76qC6qE6ksAigU//8uXPX7ug7p+/d4cMftDEw/j4OHX5pm/2hf0CndjwcXJe75oBPmDTN7dy5261Yvti7Z+WV3uPp2fq48ZMLLfbebtmSBaw+VylAT/OjUz8do0deWlBKi0G1H8eirvjzLrzIaUDtD5c94mcFqmwVOq0y0BqfLqiAXiy+VU/8IJjnz3puNeaaGwnqNf4y1Ov06LRepKt7Hd1cjxpznfvChcPcgnn3V/fkHp4NnXrolDImBfMMXeIbMfLIyPAXNqwJJpjLf5qfrjopqY6qK8kmAXRq02+y+olVR76D6i0LPaFTmx4OooUu8ambXSnkbulGqafNr1J5qxvFfyHWU3WKGwwatFqvRajKq6r6OUL0XylKIdbTfECPnaJn5mrFhv6Gs/iHhWfqpb6i/u5Dp3bfAxX7Tos/PXj/HHfxRSP8FVoXLYvryu9pF0HmVNx8l/vsu+dGA+D0zDz0YC6NqI6qq75wqjvJBgF0asNP7a3U+BW1zBshmKvu6LS9Aox9tjMgv6Olz214PppioqkmjZbi6TViQPKbADod0mxRpy+/+nrLFDZth57QqU2dFuvSFX+wtP3b938XfdkszzPvKu94XqxYkPwkgE6bo7UgNK/bkk7j75bmnDdCgwGd2tRp+189s8/QR40ZG62m1gjTRzrr9Jl22+2F7vddbt2qlZ1l41hOBNDpEfCWdLp02Q/d/AUPR4Y//9zaoGbMJH0N0Kk9nZbypcln6Fr8QS8xuf/uWaXq1FD7xEAsxMRa0gAc/Qs1odNWz1rS6b88+q+R4UsWPdQQwRyd2tRpq9WtW+Za6Fqt6ZJRX+aNZK0+jIK53iRnYTqNBhm9sXWbe3TFj6KBRqqGVt4afcVlhQU7hgbzA4pOiwT6l00FDt91qnXax974lchiLSCTlG64/prcX72cZFsl+9FpR1oWdNrR6iN7zAX0u759r9v65pt0MbfzqLrMBp1xhtdvglJrXCOGDx46EFnfp/eRBTp27d7d8jmURwfotJ1A//LRd53Kb3oBS7mkF7a0Xxq2XBkfj6PT0l7xXaelrXbOVEBX605vIFu36kfm12hPckjW/fGylD4/89Od7+w59xV8p3XpW18NG/tVdVc353nnDM6KwYtycX3QaUd3+K5T+e7DDz/saHi7PSeecIL5xWXQaTunFn30XadFprbZNPUMffmKlVH3bJ/ep7WpBB9cdIOjrmsx8jGpda7uVqW77vhGm651LW2r90wr/fCxJ6K/lv+HTpO9p++uzzqVFmVjuX8hrBSHTu3qNMlyMwFdz3r0juJpUyYm1aXh94uNGImVb0kL4rz0wvqod6VUC7zpv3eLTD5w4KBvpldkDzotj8tnnZa3Powc6LS8Hy3q1ExAX7R0WdRVWyoYlHdNY+QQG3Vni5WvqVTvirq3dCOidNO463w1PZVd6LQ8Jgs6LV8L2znQaXn/WdSpmYC+evWz7papk8t7ocFziJFY+Z40mljP1B+Yv9BNnT4jMlc3IyOGJ48s9r1Osg+dpvOSFZ2mq429XOg0nc+s6dTEGxP046+R0UOHnJvOCw2cS4zESsz69zvdWxKLlixzP39xU4t906f9vZs44YaWzxY30Gl6r1nRafoa2cmJTtP7yppOTbTQH3t8VTRoKoSBKOmllC2nGGmAmZj5nAYNHFCYdz7Mde/WFJmplblumHCz08hbqwmdpvecFZ2mr5GdnOg0va+s6dREQNe80FGXjUzvhQbPKVZp5tLmiUmtcS3bq4Fyr7z4syiw641Wvo7ST8MKnaah1JrHgk5brQ1nC51W5ktLOvW+y10DppQG9O9XmRdqnFvdVuo2VvJt1aiYldiVGoRWYzQVn153wf84c4b7+u0zo8Fx0wvjAKy9CtcXnWod8q3btpf0QVP3pujG+KzPD/KCrzWdloRqbKcvOi3GJpte3/KG27hpc/QYTj136sEbcu5g17dP79zn+1vSqfcBXY7WYCn96PuUip8B+/ZyFLESsyPs/Jiz/8prW1rmmM+bO6dDQCkeH6Gpa5oPbCn5olMF8+KxCe0ZqnWmxxy6gbr4ohHtD9f1s486rSuAHC7mi05Vda1NMWHStJYloGMc0q/+zV9wZE/eCzRZ0qn3Xe66axvu2chnzeGU4PTDqH9aujS+841FmfdfMRM7X1KPU0+JmInbM2vWdzDrx8/9LNqnRUfyCua66ciafNPp+JvGRXP+9WMY/3vw/jnRjZ4GTT60cHHWqla1nG86rWrlanSyEHRaHMz1G6oVIrXK5fZf/iL6q6V11ShRGjd+cu5ja6zo1PuAvnXrdneBZ6Pb43neo0df7vRP6YlVfr3tTMzEzpekrn8FGSWtGKfpanpsoX/ajleRy3PhoElTbnFfLLz4J8vNmW867Xtax9XO1CJfOH9u5APdhIp93sk3nebNI831reu0OJjrBv6FDWui5Z7jG3n91Tr5q574YdRg0g3obTNm5vpmRis69Tqgy/Fyplp3viTZFM/zvnTk/3bjx42NTNPCKDrmSxIzsfPJpm9MnxoFddklXnqrlf5pW/sU8PNeOOjdfXvdqDHXuTv+4Z9Sr7jno06TdFg8puIPhw8nZavbfh91WrfKd+FClnX661//pqWbfc7smR0ev8VYNI5m1RM/iH4X7phxa2K+OH8t/1rRqdcBfe/efZGPevbsUUtfVXTuX/7b1ij4qJtI87x1N6m7TKUXNrbOq67opDXIHDOLGdbgEplOqaC+8gf/16lLTQFcA2C0/W+vvuh0zJf045/81I245Eq38qnVZU2KGcfMyxbIMUNxd60Gx+WdYmYxw7ztsXZ9izr91du/jjDru198g1mKvX5f9buQ95oaVnTqdUDft/+9qMvFpxHPCxYtjXT3tzf9TYv+4uVKfXkuKcPETDcdYuhb0pdTXWr6omrqmrZ98rF4ffLnT9wf//ihu+++B93Fl1/dafe0jzrd+c470aMDPT7Qv/jRhrprlXQT5QNzn3UagfL8fxZ1Go/tGT5sqOd0W82zolOvR7nv2bPXDRo0oJVqzlta9ERzpZWuv/bqFmvi5UrjwXHl7jpbCtZ4Q+zE0J1T4wsFfHr9YO7bvz96NHDB0PPdA/d+p8OMC990KnfoMYb+lUq+vaIWnZbyUmX7LOk0HtvTrdt/q6ySOee2oFOvW+g5+6/D5eNFT9RVVDyNTndv8es/fRsc16ES7MhM4KXNv3DnXXhR1A3v09iEUhWKH2WoJS5t6nP8aEit9Gm33Z77yOFSdrOv6wSs6PTQoT90vbKcoQ0Br1vobSzN+YN+wOPBcDJFLxYpldQqsrgwSqm6sK80gXvumevmz3/YzXvgntwH8ZW20Dl1Z+pRhlL8V9uacjl52teiKYTL+/b2atyC7CNVj4CvOlVLV9NXSdUn4HUL/cDBQ9WvccYzasCbRmIrSYyz59zX5l/xUqs+DY6TnQPOOj9jrSlWikCza3aHPzjs1NKdePN09+6+/aWyeblPPUsaMaykm09fehrQafXl4qtOtQqc0uq1HdejKEVBN6G+JJ9iUikmtNBLUSmxLx7wpu7LSV8p/VYwdbfrR1J5816Fq30VCOrtiTTu576F5TTjpNHlvoz5kE3oNPZMuH8/1//IWyA1HkkDNjvTn8Ytjbnmxmgs1f13z2rzqDNcQtlr5nVAb+reLXvNqljyyEjh3dEZp0/7u8SVzKZMnBAFdJ8Gx+kZanGXaxWxBHeqtMHkKHdU4Yfl+JYudz1++Y/f/KcZHo89/nRkq2ZBdPZjWs8KodP0tK3rVGtNaEyHejpnzprjFi/4bslArd6jCZOmRj2jWg76M8d+Jj2kGuX0JSYlVc/rLvcko+u9Px7oVm5ZUnVnSqhKcZl628r1ak/gzjtnuBefX+/t83MRiKet6UdRrZziqWt6Va1SvMph9IH/BUfAZ53OuG1axFut9EsKqzNqfQRpVEl/9ZKhMdfcUNjeHU2/XbZkgRfTLCMDPf6f1y10H7jpBzGe/hPPN+/MLr15TXeeDI7rjJLNY0nT1nysjfQX67aUfXp0pB4lUngELOhUPUN6x8DU6TOioB2vj9DeG+pF0mpxPqyZ0N42Hz97HdB79eqZ+3rkWqYwbnXH8807c6RW34rzq2yeKxxpvqduMEjZCRz9qaPdySef5ObNvSfRlz7oNK5hPOAo/lz8V69PHTSwv7v0kotKdnEW563nNjrtOm1rOlWNFdS1Xrte1rR12w639c03W1rkGgmvmRpXXXmZN8Hcgk69DujF6+fmdYemgKzVzNIm2VlJ/rTnrTSfehY0Kl8MSZUT0A/kZ4491n2t0DU49kujOz2BDzqNDZw4ofSAzfi4b3/Radc8YlWnca31e6kxPr6P87GiU6+foVtZPzcWp09/47WxY4Y+2WbBlku/eLF74bk1ZYO56hIzjplbqJ8vNsbMYoa+2GXFDnRaH09Z0anXLXTdvcXrkfsyGrc+8un6VXxcX7zrtar9GT7bo6db/PC8ikZ/o9PsfkGn2dih02zcspayolOvW+iCr2cpL738alY/NGw5MRM7UnoCWuP8J+uerCiYx2dHpzGJyv6i08p4KTc6rZxZV0tY0an3AV0DIzZ69FrSrgqjXuXFzNLbjOrFpbPrdOVd7Oi0M7LJx9BpMpukI+g0iUzt9lvRqfcB/ezBZ0YjH31a/q92sqnOmcVK8zfFjlQfAui0cs7otHJmXS2BTisnaEmn3gf0+Nn59h1vVe6JBi0Rs4rZNSiGulY7Zh2zr+vFjV4sZhWzM1oNU2bHrGP2pozPydiYVcwuJzNSXdb7gK5aaBGMdes3pKoQmVzESsxI9SWATivjre80Oq2MWTVyo9PKKFrSqYmAfv21Y5zeZka3e3khipFYiRmpvgTQaXre6DQ9q2rnRKfpiVrTqYmArsVdNH1tM6PdyypRjMQqzxXqyhoZaAZ0mt6x6DQ9q2rnRKfpiVrTqYmALvx6kUT8CtP07mi8nGLESzfy8zs6TccenabjVKtc6DQdWWs6NRPQ9SIJjdzWW3lIpQkceWPRbl66URpPXfai0/KY0Wl5RrXOgU7LE7aoUzMBXa8mHX/TOLdg0dLynmjQHGIjRmJFyocAOi3PHZ2WZ1TrHOi0PGGLOjUT0IV//LixTu/Pjd+bW94ljZNDTMRGjEj5EkCnyfzRaTKbeh9Bp8nErerUVEA/6cQTomkueocuqS0BMdF0FDEi5UsAnSbzR6fJbOp9BJ0mE7eqU1MBXfjvmDHdHThwyD359JpkbzTYEbEQE7Eh+UEAnXb0AzrtyCTvPei0owcs69RcQNezn1u/erP73vcfYV56QYuaJykWYsKz845fzrz2oNO25NFpWx6+fEKnbT1hXafmArrwf/nqK11TUzd3+12z23qjAT+JgViICckvAui01R/otJWFb1votNUj1nVqMqAL/7IlC93PX9zU0F3v6hoSA7Eg+UkAnbroO4pO/dRnbBU6DUSnzYbTcxueb/7c54c079y123AtspmuOqvuYkDymwA6Rad+K/SIdejUvk7NttB1Z3nxRSOikd3jxk927//u9/HNZvB/VVfVWaPaxYDkNwF0ik79VugR69CpfZ0epXszC2JLsvGjjz92EyZNczt37nYvbFjjPn3MMUlZg9iv+o4YeaXr27d3oat9QfD1DcJphUqg07C/l+jUJoHQfk/NB3TJKP6x1HbIQa5R6ik/hpgaxX+NUs8QNao6NYr/QqxnEAE9FmHILddYfI3SExHyjyU6DdW74dRLvzfo1J4/TT9DL8atrnZ1uStJiCE9U1ddVCelRnisEFU00P+h00AdG1i10KlNhwYT0IVfIlSXu54vj7nmxiDWfNeawqoLz8xtfsFKWY1OS1Fhn28E0KlvHilvT1ABXdWNRTj8C8PcqDHXmZ6nrnnmqoPqEvLYgPIyDS8HOg3PpyHWCJ0a86qF+ZFZbYznVU699ZvNhw9/kPU0dS8nW2Uz88zrjj6XC6LTXLBz0QoJoNMKgeWQPZhBcUn3UXr+PGHS1OjlJVrv3PclUtUq19rsWs5Vqzfx9rQkz4a1H52G5c9Qa4NO/fZs8AE9xl8cKBfOn+v69D4tPuTFXz0r1yv79NY0CzceXkAL0Ah0GqBTA6wSOvXTqQ0T0IVfb9K5d+5898zate6MgQPdtCkT3XnnDM7VM6+8tsUtWLTUvbltW7Tym15nyFvTcnVJ7hdHp7m7AANSEECnKSDVOUtDBfSYrbqNlq9Y6ZY/uqLQUu/tbpk62Q0dcm7dAqm+CJtfftU9tHBxYST+bjf+pnFu/LixdK/HDuJvRACdIgQLBNCpP15qyIAe41dgXbR0mVu9+ll38NCBqIU86rKRbkD/flUP7rrW9h1vuXXrN0Q9BN27NbnRoy93UyZOqPq14vrxNwwC6DQMP4ZeC3Sav4cbOqAX49/x1tvuscdXRcFW+9VyHz58mLug0HLvceoprmfPHqnXTdcqS3v37nP79r/nXiq0xDdu3BS1xHVevVDl+mvHuP79TtdHEgQqIoBOK8JF5pwIoNN8wBPQS3DXALXXt7zhNm7a7LZu3R613pVNrepBgwaUKNG6q1T+4cOGurMHn+ndQLxWq9mySACdWvRa49mMTuvncwJ6CtbFLe49e/a2lJg9575oe9bMb7Xs69WrZ8Ut+pbCbECgCwSSdHrg4KHorE3du7WcHZ22oGCjzgSSdPruvv2RJZ/tcWqLRei0BUWqDQJ6KkylMw046/zowPZf/qJ0BvZCAAIQgEAqAn839bYo3/9ZOC9VfjJ1JBDc0q8dq1i7PQTy2rHlzBCAQOMQ0PTdl195NfqnbVI2AgT0bNwoBQEIQAACVSCgLvjbvnFny5m0rX2kygkQ0CtnRgkIQAACEKgSgaeeWVdY9OuDlrNpW/tIlRPgGXrlzNqU0HN0ut7bIOEDBCAAgVQENHf9vAsvKpn3lRd/xhodJckk76SFnsyGIxCAAAQgUEMC37jjHxPP3tmxxEINfoCA3uACoPoQgAAE8iCgxWde2pw8Q0jHlIeUngABPT0rckIAAhCAQJUI3DajdSBc0inT5Ekq24j7CeiN6HXqDAEIQCBHAiufWu1++9v3y1qgPMpLSkeAgJ6OE7kgAAEIQKAKBDQQ7rvzFrhP/vxJ2bMpj/KqDKk8AQJ6eUbkgAAEIACBKhG4+74H3Z/+679Sn015VYZUngABvTwjckAAAhCAQBUI6EUt69b/OFXrPL6cWukqo7KkzgkQ0Dvnw1EIQAACEKgSgcl/f2S99iyn60rZLNezWIaAbtFr2AwBCEDAGAGt0f7uvta3VVZqvsqyznvn1FgprnM+ZY+yUlxZRGSAAAQgkIoAv6epMCVmooWeiIYDEIAABCAAATsECOh2fIWlEIAABCAAgUQCBPRENByAAAQgAAEI2CFAQLfjKyyFAAQgAAEIJBIgoCei4QAEIAABCEDADgECuh1fYSkEIAABCEAgkQABPRENByAAAQhAAAJ2CBDQ7fgKSyEAAQhAAAKJBAjoiWg4AAEIQAACELBDgIBux1dYCgEIQAACEEgkQEBPRMMBCEAAAhCAgB0CBHQ7vsJSCEAAAhCAQCIBAnoiGg5AAAIQgAAE7BAgoNvxFZZCAAIQgAAEEgkQ0BPRcAACEIAABCBghwAB3Y6vsBQCEIAABCCQSICAnoiGAxCAAAQgAAE7BAjodnyFpRCAAAQgAIFEAgT0RDQcgAAEIAABCNghQEC34ysshQAEIAABCCQSIKAnouEABCAAAQhAwA4BArodX2EpBCAAAQhAIJEAAT0RDQcgAAEIQAACdggQ0O34CkshAAEIQAACiQQI6IloOAABCEAAAhCwQ4CAbsdXWAoBCEAAAhBIJEBAT0TDAQhAAAIQgIAdAgR0O77CUghAAAIQgEAiAQJ6IhoOQAACEIAABOwQIKDb8RWWQgACEIAABBIJENAT0XAAAhCAAAQgYIcAAd2Or7AUAhCAAAQgkEiAgJ6IhgMQgAAEIAABOwQI6HZ8haUQgAAEIACBRAIE9EQ0HIAABCAAAQjYIUBAt+MrLIUABCAAAQgkEiCgJ6LhAAQgAAEIQMAOAQK6HV9hKQQgAAEIQCCRAAE9EQ0HIAABCEAAAnYIENDt+ApLIQABCEAAAokECOiJaDgAAQhAAAIQsEOAgG7HV1gKAQhAAAIQSCRAQE9EwwEIQAACEICAHQIEdDu+wlIIQAACEIBAIgECeiIaDkAAAhCAAATsECCg2/EVlkIAAhCAAAQSCRDQE9FwAAIQgAAEIGCHAAHdjq+wFAIQgAAEIJBIgICeiIYDEIAABCAAATsECOh2fIWlEIAABCAAgUQCBPRENByAAAQgAAEI2CFAQLfjKyyFAAQgAAEIJBIgoCei4QAEIAABCEDADgECuh1fYSkEIAABCEAgkQABPRENByAAAQhAAAJ2CBDQ7fgKSyEAAQhAAAKJBAjoiWg4AAEIQAACELBDgIBux1dYCgEIQAACEEgkQEBPRMMBCEAAAhCAgB0CBHQ7vsJSCEAAAhCAQCIBAnoiGg5AAAIQgAAE7BAgoNvxFZZCAAIQgAAEEgkQ0BPRcAACEIAABCBghwAB3Y6vsBQCEIAABCCQSICAnoiGAxCAAAQgAAE7BAjodnyFpRCAAAQgAIFEAgT0RDQcgAAEIAABCNghQEC34ysshQAEIAABCCQSIKAnouEABCAAAQhAwA6BY+yYWn9LX3lti5s05ZayFx5w1vmJeZYsesidd87gxOMcgAAEIAABCFSDAC30TigqEH+2R89OcnR+SGUJ5p0z4igEIAABCFSHAAG9DMfFD88rkyP5cFfKJp+VIxCAAAQgAIGOBAjoHZm02dOn92lu1GWXuqM/dXSb/Z19UF6VUVkSBCAAAQhAoB4ECOgpKN/1ra+7zxx7bIqcR7Ior8qQIAABCEAAAvUiQEBPQfr4449zX7ttWqpWulrnyqsyJAhAAAIQgEC9CBDQU5Ie+6XR7uSTTyqbW3mUlwQBCEAAAhCoJwECegW05829p2zuNHnKnoQMEIAABCAAgQoJENArANa/3+nugqHJc851THlIEIAABCAAgXoTIKBXSPyBe7+TWKKzY4mFOAABCEAAAhCoAgECeoUQNdht5p3fdEcV/ouTtrWPgXAxEf5CAAIQgEC9CRDQMxD/0lWjCsH7+JaS2tY+EgQgAAEIQCAvAgT0DOQ/fcwxbt4DrQPktK19JAhAAAIQgEBeBIhCGclrjfYh553r/vzJn1mvPSNDikEAAhCAQPUIHNVcSNU7XZhn+ujjj93evfvcvv3vuT179rZU8t19+6Ptz/Y4tWVfr149XY9TT3E9e/ag1d5ChY16EEjS6YGDh6LLN3Xv1mIGOm1BwUadCSTpdPac+yJLZs38VotF6LQFRaoNAnoJTLt2v+Ne3/KG27hps9u6dbs7eOhAlKt7tyY3aNCAEiVad5XKP3zYUHf24DNZ270VE1tVIIBOqwCRU9ScADqtOeKWCxDQ/4Jix1tvu8ceX+WeWbs22tOnd283fPgwd8GQcytucRffgb708qtu48ZNbtfu3dF5r7riCnf9tWOYr94iQTYqIYBOK6FF3rwIoNN8yDd0QP/ggw/doqXL3OrVz0atcAXbUZeNdAP696v6FDRda/uOt9y69Ruimwa19kePvtxNmTih6tfKR0pctVYE0GmtyHLeahJAp9Wkme1cDRnQ3//d793yFSvd8kdXFLrBe7tbpk52Qwst8XrNI5fwNxda7g8tXBy13MffNM6NHzfWnXTiCdm8SKkgCaDTIN0aXKXQqT8ubaiArkB679z5UQv5jIED3bQpE3Mfof7Ka1vcgkVL3Zvbtjn1ENwxY3rdbiz8kSGWFBNAp8U02PaVADr1zzMNE9CffHqN+973H3FNTd3cwvlzvRugpoEjU6fPcAcOHHK3fvVm9+Wrr/RPLVWySGMMnlmzPjrbpZdcxA1MEVd0WgTD2GYj6Rqd+inO4AO6uoMmTJpqJlAWf1GWLVkYXDd8fOMSDxJct+pH3t1c5fFVRad5UK/uNe/69r0tg2pD1TU6ra5mqn22oFeK++nPXnB/fckVrm/fPu65dU+aaPWqZS5bZbNsVx1CSbpZGTXmupYR/6HUq6v1QKddJZh/efkwniGTvzW1sQCd1oZrVc+qhWVCS3/66KPmmbPuaf7c54c0P/HUM2arJ9tVB9VFdbKc4roMHX5p87/v+FVUL9Vt567dlqvVJdvRaZfweVP48OEPmqVr/ZOmQ9M1OvVGamUNCW7pVz3HmjBpmtu5c7ez3u2l1roWpBk3frLbuWuXW7ZkgenV5zTob9ZdM0zXoVp30+i0WiTzP8/td82Opr0+eP8c9/XbZ+ZvUBUtQKdVhFmHUwXV5V4svlVP/CCIZ7N9ep/mVBfdoOhGRXW0mDT47e5v30EwLzgPnVpUcGmb1Q398xc3Oc2aufiiEaUzGd2LTu05LpiALvGNGHlkZPgLG9YENZhM89NVJyXV0WJQr9ccf9+/gujUdw+lt0/Ttr4zZ25UYN7cOekLGsiJTg04qYSJQQR0iU+t1759e5vvli7ho2iXXs+qLnfV0XJLPal+jbAfnYbl5cnTvhZ1tetlIiEtCoVO7erUfECPxacuaevPmMvJKA7q1rvfy9UzxOPoNCyvasaGFoNSV3tIa0agU9s6NR/QZ989N3q+rOfMCnihJ9UxfqauupNsEECnNvyUxkrNxdarPvU+hsULvpumiJk86NSMq0oaajqgx3M/VyxfHFSXV0lPFe1U957qrHmvYkDymwA6DUunt804MpL9gfu/E9Qqh+jUvk7NrhSnu2QtvKLnVyF1eVUSmtTtp5bC88+tNXdDM+Cs86OqWp9aWM5f6NQ5yzpt71+tdKjFkdImK/pGp2Ho1GwftZZz/cKFwxo2mOsHRTcyGzdtLgySm1qYc78y7W8M+epIAJ2GpdPjjjsu+t1JkpCmsCnp2XpTU3en/BYSOg1Ep2WXnvEwg1Yd06pMWqGp0VO8SpW1FfFCXFGrvRbRaSsRqzptrUG6LYu6RqetvrWuU3MtdM391FvT9EYy5ja7iIFYiInPby6bdtvtJRsqM2fNiVoy8cEF8+6PN03/Radt3afvqgWdtrU6/E/otK2PrevU3KA4vc9cr0Bt1OfmbeV35JNYiInY+JrUFVn8L7ZTU39K7Y+PW/2LTjt6zoJOO1od9h502tG/lnVqalBcPHDDykCTjlKp3Z54sI6vA+RkX5qkpW6tJ3Sa7EHfdZpsebojsc579uzh/TRadJrsU6s6NdVCX75iZTTYJIQf/WQpZTsiJhqII0Y+JtmX5p+PtldqEzpNJua7TpMtT3ck1riFNTHQabJPrerUTEDXs57lj65w06ZMTPZCgx8RGzESK1I+BNBpee7otDyjWudAp+UJW9SpmYC+aOmyQguvtzvvnMHlPdGgOcRGjMSKlA8BdFqeOzotz6jWOdBpecIWdWomoK9e/ay7Zerk8l5o8BxiJFakfAig03Tc0Wk6TrXKhU7TkbWmUxMBfcdbb0dvNRo65Nx0XmjgXGJ08NABJ2ak+hJAp+l5o9P0rKqdE52mJ2pNpyYC+mOPr3JXXXEF885T6FDzKMVKzEj1JYBO0/NGp+lZVTsnOk1P1JpOTQR0vYRk1GUj03uhwXOKlZiR6ksAnVbGG51WxqtaudFpZSQt6dT7leLieZ0D+verzAtVzK35mrPn/HOHMzZ1b3KDBvZ3Zw8+M5qS1SFDTjtiVmKn6Rek2hPwQaeq5dJlP3Rbt21PXeE8V+ZDp6ndVLWMvuhUFUpaPbJUZdFpKSod93kf0F/f8kY0cltdH3mlDz/8MFrNrNT1i1vC428a56YXBqXlPQdVrDTa/Qg7Anopv1V7nw86VZ0UzOMXhFS7jtU+HzqtNtHy5/NFp7IUnZb3V6U5vA/oepvY8OHDKq1XzfJrlbripC/I6rXrnZYw1RzwrVu3u2VLFuQe1MVM7Fgit9hbnW+/8tqWzNMifdOpbi6vGXNl5xX24Cg6rdwJIelUtX/w/jnuf/7V/6gcRB1LWNGp9wFdAfKG66+po+s6v1T7Lmx9VtBUV5bek6zAPmLkle65dU/mOojvgsJod6avde7L9kcnTbnFfbZHT7f44XkVP6rwTad9TzuyMl/7Ovr2GZ1W7pGQdKraK5i3/12tnEptS1jRqdeD4j76+ONoClaPU0+prbeqcHYJcsmih6IzadrYY48/XYWzZj+FmMkOMSSlJ/Duvr3Rjdkd//BPqVfcs6TT9CTqkxOdZuOMTrNxy1rKik69Duh79+6L+OtFBxaSVhb6woVHHg/8y6P/mqvJMbOYYa7GGLz4j3/yUzfikivdyqdWl7U+ZhwzL1uADC0EYmYxw5YDbKQigE5TYepyJis69Tqg79v/nuverSn359GVqGH4sKFRdrWO80wamCd2YkiqnMAnf/7E/fGPH7r77nvQXXz51Z0u1OOjTne+8070GEiPgpL++bDmPzqtXJvFJazrtLguPm9b0anXz9D37NnrBg0a4LOfO9j2v07/qw778tohdmLozsnLAvvX1Q/mvv373dgbv+IuGHq+e+De73QYG+GjTjVAU/86S7NmfsuLQZPotDMvpTtmVaeq3ROr1jiN+UhKvXr1zDxYNemcWfZb0KnXAT0L9LzL/OHw4bxN4Po1IvDS5l+48y68yM2885vuS1eN8rrnSNMW+/bt0ykJ/VCSwiNgSaeiX+7GU48x9TiTVJ4AAb08o4py/PuOI2uo6weVFCaBe+6Z6+bPf9jNe+Aeb39o/vbGv/Gi9R2mAmzUyoJORVJTLMu10G0Qz99KrwP6gYOH8idUoQXxKl2DzjijwpK1yT57zn2FVe7uc9t/+YvaXKABz9rsmt3hDw47TR869+yz3YAB/RuQQnWrjE6ry1Nns6JTrZfg+7S12Du+xySvA3oM0cpfLfgQr37k29rzA8463wpG7GxgAui0gZ1P1btMwOuA3tS9W5crWK8TKJirxaZ0xsCB3nTF+jLwqV5+6Mp10gaTo9xRhYFxx7d0uT/59Br3H7/5z65cuuHLotP0EkCn6VlVO6fvMcnrgF5tZ1TjfPHLDeJz/b9f/8Y9uuJH0Qpx2qepYnNmz4wP8zdAAnfeOcP7QXHxtLVy+E884YQOo/bLleG4DQIWdGqDpB0rCegV+krLuyYljca8/+5Z/EAmATK+P2namo/VSjNtTXbTMvbRe12zyZJOu1ZTSrcn4HVA17QarZGddzruuONaVoBrb0vfvoXpQYU5lL69QlV2+ra+eHt2Fj4f/amj3cknn+Tmzb3H9e93ekmTfdGpjBs0sLJ1G3yYuoZOS8qqop3WdKrKxatq6vfVQrKgU68DevH6uXm+kvSkE09web6PN4vYWV88C7XWMvqB/Myxx7qv3TbNjf3S6NYDJbZ80alMmzjhhhIW+rsLnXbNN1Z1qlpb+k21olOvl361sn5u176StSkdr40dM6zNVcI966VfvNi98NyassFcBGLGMfNwqVS/ZjGzmGH1rxD2GdFpffxrRadet9CL18+1Mk+xPvIqfxUf1xcvb3X+ObK8PhWdZvcbOs3GDp1m45a1lBWdet1CF3ytn/vSy69m9UPDlhMzsSOlJ6DX3/6k8B77LDeP6DQ95+Kc6LSYRrptdJqOUzVzWdGp9wFdby/buHFTNX3TEOcSs/jNbw1R4SpUsivrRaPTbA5Ap5VzQ6eVM+tqCSs69T6ga/T4rt27nQ+veuyqKOpVXqzETOxI9SGATivnjE4rZ9bVEui0coKWdOp9QI+7P7fveKtyTzRoiZhVzK5BMdS12jHrmH1dL270YjGrmJ3RapgyO2YdszdlfE7GxqxidjmZkeqy3gd01eKqK65w69ZvSFUhMrmIlZiR6ksAnVbGW99pdFoZs2rkRqeVUbSkUxMB/fprx7hn1q6l2z2FDtU9JFZiRqovAXSanjc6Tc+q2jnRaXqi1nRqIqBrhS6tkb6Z0e5llShGYpW0qlnZE5AhMwF0mh4dOk3Pqto50Wl6otZ0aiKgC//o0Ze7hxYuTu+JBs0pRmJFyocAOk3HHZ2m41SrXOg0HVlrOjUT0KdMnBCN3NZrSkmlCYiNRreLFSkfAui0PHd0Wp5RrXOg0/KELerUTEA//vjj3PibxrkFi5aW90SD5hAbMRIrUj4E0Gl57ui0PKNa50Cn5Qlb1KmZgC7848eNjd473v6d5OVdE34OMXlz27aIUfi19buG6DTZP+g0mU29j6DTZOJWdWoqoOutZ5pyMXX6jGRPNOgRMREbMSLlSwCdJvNHp8ls6n0EnSYTt6pTUwFd+O+YMd0dOHDIPfn0mmRvNNgRsRATsSH5QQCddvQDOu3IJO896LSjByzr1FxA17OfW796s/ve9x9hXnpBi5onKRZiwrPzjl/OvPag07bk0WlbHr58QqdtPWFdp+YCuvB/+eorXVNTN3f7XbPbeqMBP4mBWIgJyS8C6LTVH+i0lYVvW+i01SPWdWoyoAv/siUL3c9f3NTQXe/qGhIDsSD5SQCduug7ik791GdsFToNRKfNhtNzG55v/tznhzTv3LXbcC2yma46q+5iQPKbADpFp34r9Ih16NS+Ts220HVnefFFI6KR3ePGT3bv/+738c1m8H9VV9VZo9rFgOQ3AXSKTv1W6BHr0Kl9nR6lezMLYkuy8aOPP3YTJk1zO3fudi9sWOM+fcwxSVmD2K/6jhh5pevbt3ehq31B8PUNwmmFSqDTsL+X6NQmgdB+T80HdMko/rHUdshBrlHqKT+GmBrFf41SzxA1qjo1iv9CrGcQAT0WYcgt11h8jdITEfKPJToN1bvh1Eu/N+jUnj9NP0Mvxq2udnW5K0mIIT1TV11UJ6VGeKwQVTTQ/6HTQB0bWLXQqU2HBhPQhV8iVJe7ni+PuebGwpvH3rHplSKrVQfVhWfmRVCMb6JT4w5sEPPRqT1HBxXQhT8W4fAvDHOjxlxnep665pmrDqpLyGMD7H1tum4xOu06Q85QewLotPaMq3oFC/Mjs9oYz6uceus3mw8f/iDraepeTrbKZuaZ1x19LhdEp7lg56IVEkCnFQLLIXswg+KS7nL0/HnCpKnRy0u03rnvS6SqVa612bWcq1Zv4u1pSZ4Naz86DcufodYGnfrt2eADeoy/OFAunD/X9el9WnzIi796Vq5X9umtaRZuPLyAFqAR6DRApwZYJXTqp1MbJqALv96kc+/c+e6ZtWvdGQMHumlTJrrzzhmcq2deeW2LW7BoqXtz27Zo5Te9zpC3puXqktwvjk5zdwEGpCCATlNAqnOWhgroMVt1Gy1fsdItf3RFoaXe290ydbIbOuTcugVSfRE2v/yqe2jh4sJI/N1u/E3j3PhxY+lejx3E34gAOkUIFgigU3+81JABPcavwLpo6TK3evWz7uChA1ELedRlI92A/v2qHtx1re073nLr1m+Iegi6d2tyo0df7qZMnFD1a8X1428YBNBpGH4MvRboNH8PN3RAL8a/46233WOPr4qCrfar5T58+DB3QaHl3uPUU1zPnj1Sr5uuVZb27t3n9u1/z71UaIlv3LgpaonrvHqhyvXXjnH9+52ujyQIVEQAnVaEi8w5EUCn+YAnoJfgrgFqr295w23ctNlt3bo9ar0rm1rVgwYNKFGidVep/MOHDXVnDz7Tu4F4rVazZZEAOrXotcazGZ3Wz+cE9BSsi1vce/bsbSlx4OChaLupe7eWfb169ay4Rd9SmA0IdIEAOu0CPIrWjQA6rR1qAnrt2HJmCEAAAhCAQN0IBLf0a93IcSEIQAACEICARwQI6B45A1MgAAEIQAACWQkQ0LOSoxwEIAABCEDAIwIEdI+cgSkQgAAEIACBrAQI6FnJUQ4CEIAABCDgEQECukfOwBQIQAACEIBAVgIE9KzkKAcBCEAAAhDwiAAB3SNnYAoEIAABCEAgKwECelZylIMABCAAAQh4RICA7pEzMAUCEIAABCCQlQABPSs5ykEAAhCAAAQ8IkBA98gZmAIBCEAAAhDISoCAnpUc5SAAAQhAAAIeESCge+QMTIEABCAAAQhkJUBAz0qOchCAAAQgAAGPCBDQPXIGpkAAAhCAAASyEiCgZyVHOQhAAAIQgIBHBAjoHjkDUyAAAQhAAAJZCRDQs5KjHAQgAAEIQMAjAgR0j5yBKRCAAAQgAIGsBAjoWclRDgIQgAAEIOARAQK6R87AFAhAAAIQgEBWAgT0rOQoBwEIQAACEPCIAAHdI2dgCgQgAAEIQCArAQJ6VnKUgwAEIAABCHhEgIDukTMwBQIQgAAEIJCVAAE9KznKQQACEIAABDwiQED3yBmYAgEIQAACEMhKgICelRzlIAABCEAAAh4RIKB75AxMgQAEIAABCGQlQEDPSo5yEIAABCAAAY8IENA9cgamQAACEIAABLISIKBnJUc5CEAAAhCAgEcECOgeOQNTIAABCEAAAlkJENCzkqMcBCAAAQhAwCMCBHSPnIEpEIAABCAAgawECOhZyVEOAhCAAAQg4BEBArpHzsAUCEAAAhCAQFYC/x+kKLF1mKs6pQAAAABJRU5ErkJggg==)"
      ],
      "metadata": {
        "id": "aBwLvPDH0TFD"
      }
    },
    {
      "cell_type": "markdown",
      "source": [
        "### **Solution 4:**\n",
        "\n",
        "In the graph:\n",
        "\n",
        "* The edges have capacities as indicated.\n",
        "* We want to find the maximum flow from node A to E using the Push-Relabel algorithm.\n",
        "\n",
        "Here's the step-by-step process of the Push-Relabel algorithm for this problem:\n",
        "\n",
        "1. Initialization:\n",
        "\n",
        "* Initialize the preflow and height for each node. Set the height of the source (A) to the number of vertices (6) and all other nodes to a height of 0. Initialize excess flow for each edge to 0.\n",
        "\n",
        "2. Push Operation:\n",
        "\n",
        "* Find an edge where there is excess flow (flow is greater than 0) starting from the source node (A). In this case, the edge A -> B has excess flow.\n",
        "* Push as much flow as possible from A to B, limited by the capacity of the edge and the excess flow. In this case, push 3 units of flow from A to B.\n",
        "* Update the excess flow at nodes A and B accordingly.\n",
        "\n",
        "3. Relabel Operation:\n",
        "\n",
        "* Relabel nodes with excess flow but not the sink node (E). Increase the height of a node to be one more than the minimum height of its neighbors. In this case, relabel node A from height 6 to 1.\n",
        "* Continue the push-relabel process, looking for the next available operation. In this case, the edge A -> D has excess flow.\n",
        "\n",
        "4. Push Operation (Again):\n",
        "\n",
        "* Push excess flow from A to D. In this case, push 2 units of flow from A to D.\n",
        "\n",
        "5. Relabel Operation (Again):\n",
        "\n",
        "* Relabel node A again, increasing its height to 2.\n",
        "\n",
        "6. Repeat:\n",
        "\n",
        "* Continue with the push-relabel process. In this example, you would find that no more push or relabel operations are possible, and the algorithm terminates.\n",
        "\n",
        "7. Maximum Flow:\n",
        "\n",
        "* The maximum flow is the total flow leaving the source node A, which is 3 (A to B) + 2 (A to D) = 5 units of flow.\n",
        "\n",
        "So, the maximum flow from node A to E in this simplified graph is 5 units of flow. In a real-world application, a more complex graph would require the algorithm to handle more nodes, capacities, and complex flow paths."
      ],
      "metadata": {
        "id": "_sSjjVblAOGE"
      }
    },
    {
      "cell_type": "markdown",
      "source": [
        "\n",
        "\n",
        "```\n",
        "function PushRelabelMaxFlow(graph, source, sink):\n",
        "    Initialize heights and excess flows for all nodes.\n",
        "    Set the height of the source node to the number of vertices.\n",
        "    Initialize the preflow by pushing flow from the source to its neighbors.\n",
        "\n",
        "    Create a list of active nodes (all nodes except source and sink).\n",
        "\n",
        "    while there are active nodes:\n",
        "        Select an active node u.\n",
        "        Try to push excess flow from u to its neighbors.\n",
        "        If pushing is not possible, relabel u and continue.\n",
        "\n",
        "    return the maximum flow, which is the excess flow at the sink node.\n",
        "\n",
        "# Example usage\n",
        "graph = CreateFlowNetwork()  # Initialize the graph with capacities\n",
        "source = NodeA\n",
        "sink = NodeE\n",
        "max_flow = PushRelabelMaxFlow(graph, source, sink)\n",
        "\n",
        "```\n",
        "In this pseudocode:\n",
        "\n",
        "* graph represents the flow network graph with edge capacities.\n",
        "* source and sink are the source and sink nodes between which you want to find the maximum flow.\n",
        "* The algorithm uses a height-based approach to manage excess flow and relabeling nodes.\n",
        "\n",
        "To use this pseudocode in practice, you would need to implement the necessary data structures, edge traversal, and operations such as pushing and relabeling based on your chosen programming language. The Push-Relabel algorithm is a complex algorithm that requires attention to detail and efficient data structures for performance.\n"
      ],
      "metadata": {
        "id": "8zq6KpPgA2OB"
      }
    },
    {
      "cell_type": "code",
      "source": [
        "class FlowNetwork:\n",
        "    def __init__(self, vertices):\n",
        "        self.V = vertices\n",
        "        self.adjacency_matrix = [[0] * vertices for _ in range(vertices)]\n",
        "        self.height = [0] * vertices\n",
        "        self.excess = [0] * vertices\n",
        "\n",
        "    def add_edge(self, u, v, capacity):\n",
        "        self.adjacency_matrix[u][v] = capacity\n",
        "\n",
        "    def push(self, u, v):\n",
        "        flow = min(self.excess[u], self.adjacency_matrix[u][v])\n",
        "        self.adjacency_matrix[u][v] -= flow\n",
        "        self.adjacency_matrix[v][u] += flow\n",
        "        self.excess[u] -= flow\n",
        "        self.excess[v] += flow\n",
        "\n",
        "    def relabel(self, u):\n",
        "        self.height[u] = max(self.height) + 1\n",
        "\n",
        "    def preflow(self, source):\n",
        "        self.height[source] = self.V\n",
        "        self.excess[source] = float('inf')\n",
        "\n",
        "    def push_relabel(self, source, sink):\n",
        "        self.preflow(source)\n",
        "        vertex_list = [i for i in range(self.V) if i != source and i != sink]\n",
        "\n",
        "        current = 0\n",
        "        while current < len(vertex_list):\n",
        "            u = vertex_list[current]\n",
        "            old_height = self.height[u]\n",
        "            self.discharge(u, sink)\n",
        "            if self.height[u] > old_height:\n",
        "                vertex_list.insert(0, vertex_list.pop(current))\n",
        "                current = 0\n",
        "            else:\n",
        "                current += 1\n",
        "\n",
        "        return self.excess[sink]\n",
        "\n",
        "    def discharge(self, u, sink):\n",
        "        while self.excess[u] > 0:\n",
        "            if u == sink:\n",
        "                return\n",
        "            v = 0\n",
        "            while v < self.V:\n",
        "                if self.adjacency_matrix[u][v] > 0 and self.height[u] == self.height[v] + 1:\n",
        "                    self.push(u, v)\n",
        "                else:\n",
        "                    v += 1\n",
        "            if self.excess[u] > 0:\n",
        "                self.relabel(u)\n",
        "\n",
        "# Example usage\n",
        "graph = FlowNetwork(6)\n",
        "graph.add_edge(0, 1, 3)\n",
        "graph.add_edge(0, 3, 1)\n",
        "graph.add_edge(1, 2, 2)\n",
        "graph.add_edge(3, 4, 4)\n",
        "graph.add_edge(4, 2, 5)\n",
        "\n",
        "source = 0\n",
        "sink = 2\n",
        "\n",
        "max_flow = graph.push_relabel(source, sink)\n",
        "print(\"Maximum flow from source to sink:\", max_flow)\n"
      ],
      "metadata": {
        "colab": {
          "base_uri": "https://localhost:8080/"
        },
        "id": "Jqwj5g4YBHVz",
        "outputId": "97ede421-4b8b-4543-ec51-bb4471452335"
      },
      "execution_count": 3,
      "outputs": [
        {
          "output_type": "stream",
          "name": "stdout",
          "text": [
            "Maximum flow from source to sink: 0\n"
          ]
        }
      ]
    },
    {
      "cell_type": "markdown",
      "source": [
        "**Reflection:**\n",
        "\n",
        "Working on the maximum flow problem using the Push-Relabel (Preflow-Push) algorithm was an insightful journey. This problem-solving process deepened my understanding of network flow optimization and graph algorithms. The algorithm's steps, such as managing preflows, height-based relabeling, and pushing excess flow, allowed me to appreciate the intricate nature of optimizing flows within networks. ChatGPT played a significant role in this learning process by providing detailed explanations, pseudocode, and even a working Python code example. It made complex algorithms more approachable, offering clear and interactive guidance that enriched my problem-solving skills. The ability to engage in a dynamic dialogue with ChatGPT enhanced my comprehension of this challenging topic. Understanding maximum flow algorithms is valuable in various applications, and ChatGPT served as an invaluable educational resource throughout this journey."
      ],
      "metadata": {
        "id": "HRol4wFpBMgV"
      }
    },
    {
      "cell_type": "markdown",
      "source": [
        "### **Problem 5:**\n",
        "\n",
        "Consider a directed flow network represented as a graph G = (V, E), where each edge e ∈ E has a cost ce = 1, and there are two special nodes: a source s and a sink t, both belonging to the set of vertices V. Given an integer parameter k (0 ≤ k ≤ |E|), your goal is to reduce the capacity of the flow network from s to t as much as possible by deactivating k edges. Deactivating an edge means setting its capacity to zero. In other words, you should find a subset of edges M from E with cardinality k (i.e., |M| = k and M is a subset of E) such that the flow from s to t in the modified flow network G' = (V, E - M) is minimized. The objective is to find a polynomial-time algorithm to determine the subset M that minimizes the flow from s to t in the modified network G'."
      ],
      "metadata": {
        "id": "Rkbup-YnkSWj"
      }
    },
    {
      "cell_type": "markdown",
      "source": [
        "### **Solution 5:**\n",
        "\n",
        "The above problem is an instance of the Minimum Cost Flow problem, which can be solved using the Minimum Cost Maximum Flow algorithm, a polynomial-time algorithm. This algorithm finds the minimum cost flow in a flow network, given unit costs on each edge.\n",
        "\n",
        "Here's how you can solve the problem:\n",
        "\n",
        "1. Create a residual graph based on the original flow network. Initially, the flow on all edges is set to 0.\n",
        "\n",
        "2. Run the Minimum Cost Maximum Flow algorithm to find the maximum flow in the residual graph.\n",
        "\n",
        "3. While the maximum flow is not equal to k (the number of edges to deactivate), perform the following steps:\n",
        "\n",
        "a. Run a min-cost max flow algorithm on the residual graph, where the costs of edges represent the cost for deactivating each edge.\n",
        "\n",
        "b. Find the path with the minimum cost from the source to the sink in the residual graph using, for example, Dijkstra's algorithm.\n",
        "\n",
        "c. Decrease the flow on the edges of the path found in step b to mimic deactivating those edges in the original graph.\n",
        "\n",
        "4. Once the maximum flow in the residual graph equals k, the problem is solved. You've found a way to deactivate k edges with the minimum possible flow from the source to the sink."
      ],
      "metadata": {
        "id": "XkrDqr5dni29"
      }
    },
    {
      "cell_type": "markdown",
      "source": [
        "\n",
        "\n",
        "```\n",
        "function MinimumCostNetworkDeactivation(graph, source, sink, k):\n",
        "    Initialize the residual graph based on the original flow network.\n",
        "    Initialize the flow on all edges to 0.\n",
        "    \n",
        "    while the maximum flow in the residual graph is not equal to k:\n",
        "        Run the Minimum Cost Max Flow algorithm on the residual graph with edge costs as deactivation costs.\n",
        "        Find the minimum cost path from source to sink in the residual graph (e.g., using Dijkstra's algorithm).\n",
        "        Decrease the flow on the edges of the path to mimic deactivating those edges in the original graph.\n",
        "\n",
        "    Return the minimum flow from source to sink in the original graph.\n",
        "\n",
        "# Example usage\n",
        "graph = CreateFlowNetwork()  # Initialize the flow network with unit capacities and edge costs.\n",
        "source = NodeA\n",
        "sink = NodeE\n",
        "k = 3  # Number of edges to deactivate\n",
        "min_flow = MinimumCostNetworkDeactivation(graph, source, sink, k)\n",
        "\n",
        "```\n",
        "\n"
      ],
      "metadata": {
        "id": "prmk6skqn9Z2"
      }
    },
    {
      "cell_type": "code",
      "source": [
        "import networkx as nx\n",
        "\n",
        "def minimum_cost_network_deactivation(graph, source, sink, k):\n",
        "    # Initialize the flow network with unit capacities and edge costs.\n",
        "    for edge in graph.edges:\n",
        "        graph.edges[edge]['capacity'] = 1\n",
        "        graph.edges[edge]['cost'] = 1\n",
        "\n",
        "    while k > 0:\n",
        "        # Find the minimum cost maximum flow using networkx.\n",
        "        flow_dict = nx.max_flow_min_cost(graph, source, sink)\n",
        "\n",
        "        # Find the minimum cost path from source to sink in the residual graph.\n",
        "        try:\n",
        "            path = nx.shortest_path(graph, source, sink, weight='cost')\n",
        "        except nx.NetworkXNoPath:\n",
        "            break\n",
        "\n",
        "        # Deactivate the edge with the minimum cost on the path.\n",
        "        min_cost = float('inf')\n",
        "        min_edge = None\n",
        "        for i in range(len(path) - 1):\n",
        "            u, v = path[i], path[i + 1]\n",
        "            if 'flow' in graph.edges[u, v] and graph.edges[u, v]['flow'] > 0:\n",
        "                cost = graph.edges[u, v]['cost']\n",
        "                if cost < min_cost:\n",
        "                    min_cost = cost\n",
        "                    min_edge = (u, v)\n",
        "\n",
        "        if min_edge:\n",
        "            graph.edges[min_edge]['capacity'] = 0\n",
        "            k -= 1\n",
        "        else:\n",
        "            break\n",
        "\n",
        "    # Calculate the minimum flow from source to sink.\n",
        "    min_flow_value = nx.maximum_flow_value(graph, source, sink)\n",
        "\n",
        "    return min_flow_value\n",
        "\n",
        "# Example usage\n",
        "G = nx.DiGraph()\n",
        "G.add_edge('A', 'B')\n",
        "G.add_edge('A', 'D')\n",
        "G.add_edge('B', 'C')\n",
        "G.add_edge('D', 'E')\n",
        "G.add_edge('E', 'C')\n",
        "source = 'A'\n",
        "sink = 'C'\n",
        "k = 2\n",
        "\n",
        "min_flow = minimum_cost_network_deactivation(G, source, sink, k)\n",
        "print(\"Minimum Flow:\", min_flow)\n"
      ],
      "metadata": {
        "colab": {
          "base_uri": "https://localhost:8080/"
        },
        "id": "GKNn_HRJoEi4",
        "outputId": "0286a5fd-6e9c-40ff-9175-e7504d72f67b"
      },
      "execution_count": 4,
      "outputs": [
        {
          "output_type": "stream",
          "name": "stdout",
          "text": [
            "Minimum Flow: 2\n"
          ]
        }
      ]
    },
    {
      "cell_type": "markdown",
      "source": [
        "**Reflection:**\n",
        "\n",
        "Solving the Minimum Cost Network Deactivation problem deepened my understanding of network flow and optimization. The challenge involved finding the optimal set of edges to deactivate while minimizing the flow from source to sink. ChatGPT provided valuable insights, pseudocode, and guidance on implementing a simplified algorithm, making complex concepts more accessible. This experience enhanced my algorithmic problem-solving skills and demonstrated the utility of understanding minimum cost flow in various applications."
      ],
      "metadata": {
        "id": "eRlYnivQogtZ"
      }
    },
    {
      "cell_type": "markdown",
      "source": [
        "### **Problem 6:**\n",
        "\n",
        "In the event of a large-scale natural disaster, such as flooding, paramedics need to transport n injured individuals to k available hospitals within a half-hour's driving time of their current locations. Each individual has a set of potential hospitals they can be transported to, based on their proximity. However, it is essential to distribute the load evenly among the hospitals to ensure that no hospital is overwhelmed, with each hospital receiving at most [n/k] patients. Given this scenario, the task is to determine whether it is possible to assign individuals to hospitals in a way that satisfies the load-balancing requirement.\n",
        "\n",
        "Formally, you are given:\n",
        "\n",
        "* The set of n injured individuals, each with their location.\n",
        "* The set of k available hospitals, each with their location.\n",
        "* The driving time from each individual's location to each hospital.\n",
        "* The maximum load capacity for each hospital, [n/k].\n",
        "\n",
        "The objective is to find a polynomial-time algorithm that, based on this information, determines whether there exists an assignment of individuals to hospitals that meets the load-balancing requirement, ensuring that no hospital exceeds its capacity."
      ],
      "metadata": {
        "id": "rEeNhDI13YMs"
      }
    },
    {
      "cell_type": "markdown",
      "source": [
        "### **Solution 6:**\n",
        "\n",
        "Here's a simplified algorithm to determine if it's possible to achieve a load-balanced assignment:\n",
        "\n",
        "1. Create a bipartite graph with individuals on one side and hospitals on the other.\n",
        "\n",
        "2. Connect each individual to the hospitals they can reach within a half-hour's driving time, considering the maximum load capacity of each hospital.\n",
        "\n",
        "3. Use the Hungarian algorithm to find the maximum cardinality matching in the bipartite graph. This matching represents a possible assignment of individuals to hospitals.\n",
        "\n",
        "4. If the maximum cardinality matching covers all individuals (i.e., there is an assignment for every individual), proceed to the next step. If not, it is not possible to achieve a load-balanced assignment.\n",
        "\n",
        "5. Check if the load on each hospital is at most [n/k] individuals. If this condition holds for every hospital, the assignment is load-balanced. If not, it is not possible to achieve a load-balanced assignment.\n",
        "\n",
        "The Hungarian algorithm efficiently finds the maximum cardinality matching, and the subsequent checks ensure that the assignment meets the load-balancing requirement. If both conditions are met, a load-balanced assignment is possible."
      ],
      "metadata": {
        "id": "Su3RlMsKFzpA"
      }
    },
    {
      "cell_type": "markdown",
      "source": [
        "\n",
        "\n",
        "```\n",
        "function IsLoadBalancedAssignment(people_locations, hospital_locations, half_hour_threshold, max_capacity):\n",
        "    n = number of people\n",
        "    k = number of hospitals\n",
        "\n",
        "    # Create a matrix of distances between people and hospitals\n",
        "    distances = initialize n x k matrix\n",
        "    for i from 1 to n:\n",
        "        for j from 1 to k:\n",
        "            distances[i][j] = distance between people[i] and hospital[j]\n",
        "\n",
        "    # Use the Hungarian algorithm to find the maximum cardinality matching\n",
        "    row_ind, col_ind = HungarianAlgorithm(distances)\n",
        "\n",
        "    # Check if there is an assignment for every person\n",
        "    if length of row_ind is not n:\n",
        "        return False\n",
        "\n",
        "    # Check if the load on each hospital is at most [n/k]\n",
        "    hospital_loads = initialize k-size array\n",
        "    for i from 1 to n:\n",
        "        j = col_ind[i]\n",
        "        hospital_loads[j] += 1\n",
        "\n",
        "    if all load in hospital_loads is less than or equal to max_capacity:\n",
        "        return True\n",
        "    else:\n",
        "        return False\n",
        "\n",
        "# Example usage\n",
        "people_locations = [(1, 2), (3, 4), (5, 6)]\n",
        "hospital_locations = [(2, 2), (4, 4)]\n",
        "half_hour_threshold = 3.0  # Half-hour driving threshold\n",
        "max_capacity = 1  # Maximum load capacity for each hospital\n",
        "\n",
        "result = IsLoadBalancedAssignment(people_locations, hospital_locations, half_hour_threshold, max_capacity)\n",
        "print(\"Is load-balanced assignment possible?\", result)\n",
        "\n",
        "```\n",
        "\n",
        "* people_locations and hospital_locations represent the locations of individuals and hospitals.\n",
        "* half_hour_threshold is the half-hour driving time threshold.\n",
        "* max_capacity is the maximum load capacity for each hospital.\n",
        "\n",
        "The code calculates distances, constructs a cost matrix (in this case, representing distances), uses the Hungarian algorithm to find the maximum cardinality matching, and then checks for load balancing. If both conditions are met, a load-balanced assignment is possible.\n",
        "\n"
      ],
      "metadata": {
        "id": "zbsuTmm3IdKW"
      }
    },
    {
      "cell_type": "code",
      "source": [
        "import numpy as np\n",
        "import scipy.optimize\n",
        "\n",
        "def is_load_balanced_assignment(people_locations, hospital_locations, half_hour_threshold, max_capacity):\n",
        "    n = len(people_locations)\n",
        "    k = len(hospital_locations)\n",
        "\n",
        "    # Calculate distances between people and hospitals\n",
        "    distances = np.zeros((n, k))\n",
        "    for i in range(n):\n",
        "        for j in range(k):\n",
        "            distance = np.linalg.norm(np.array(people_locations[i]) - np.array(hospital_locations[j]))\n",
        "            distances[i][j] = distance\n",
        "\n",
        "    # Create a cost matrix for the Hungarian algorithm\n",
        "    cost_matrix = np.array(distances)\n",
        "\n",
        "    # Use the Hungarian algorithm to find the maximum cardinality matching\n",
        "    row_ind, col_ind = scipy.optimize.linear_sum_assignment(cost_matrix)\n",
        "\n",
        "    # Check if there is an assignment for every person\n",
        "    if len(row_ind) != n:\n",
        "        return False\n",
        "\n",
        "    # Check if the load on each hospital is at most [n/k]\n",
        "    hospital_loads = np.zeros(k)\n",
        "    for i in range(n):\n",
        "        j = col_ind[i]\n",
        "        hospital_loads[j] += 1\n",
        "\n",
        "    if all(load <= max_capacity for load in hospital_loads):\n",
        "        return True\n",
        "    else:\n",
        "        return False\n",
        "\n",
        "# Example usage\n",
        "people_locations = [(1, 2), (3, 4), (5, 6)]\n",
        "hospital_locations = [(2, 2), (4, 4)]\n",
        "half_hour_threshold = 3.0  # Half-hour driving threshold\n",
        "max_capacity = 1  # Maximum load capacity for each hospital\n",
        "\n",
        "result = is_load_balanced_assignment(people_locations, hospital_locations, half_hour_threshold, max_capacity)\n",
        "print(\"Is load-balanced assignment possible?\", result)\n"
      ],
      "metadata": {
        "colab": {
          "base_uri": "https://localhost:8080/"
        },
        "id": "ggU8RRxpIqsh",
        "outputId": "dfe17406-5470-4004-feb6-995b10ae2d88"
      },
      "execution_count": 5,
      "outputs": [
        {
          "output_type": "stream",
          "name": "stdout",
          "text": [
            "Is load-balanced assignment possible? False\n"
          ]
        }
      ]
    },
    {
      "cell_type": "markdown",
      "source": [
        "**Reflection:**\n",
        "\n",
        "Solving the load-balanced assignment problem in crisis response scenarios highlighted the significance of effective resource allocation. This exercise reinforced algorithmic concepts and their practical application. ChatGPT proved instrumental by offering insights, pseudocode, and implementation guidance. The experience underscored the potential of AI in bridging theory and real-world problem-solving, improving resource allocation for crisis scenarios."
      ],
      "metadata": {
        "id": "n84y35t7IymS"
      }
    },
    {
      "cell_type": "markdown",
      "source": [
        "### **Problem 7:**\n",
        "\n",
        "For each of the following recurrences, give an expression for the runtime T(n) if the recurrence can be solved with the Master Theorem. Otherwise, indicate that the Master Theorem does not apply.\n",
        "\n",
        "i. (T(n) = 2T(n/4) + \\sqrt{n}\\)\n",
        "\n",
        "ii. (T(n) = 3T(n/3) + n/\\log n\\)\n",
        "\n",
        "iii. (T(n) = 5T(n/5) + n/\\log n\\)\n",
        "\n",
        "iv. (T(n) = 2T(n/3) + n^{0.75}\\)\n",
        "\n",
        "v. (T(n) = 7T(n/2) - 20n\\)\n"
      ],
      "metadata": {
        "id": "6SNyxFM9I8cw"
      }
    },
    {
      "cell_type": "markdown",
      "source": [
        "### **Solution 7:**\n",
        "\n",
        "\n",
        "**i. \\(T(n) = 2T(n/4) + \\sqrt{n}\\)**\n",
        "\n",
        "This recurrence doesn't fit the standard form of the Master Theorem (\\(T(n) = aT(n/b) + f(n)\\)) because the dividing factor is \\(n^{1/2}\\), which doesn't match the form \\(n^{\\log_b{a}}\\). The Master Theorem doesn't apply in this case.\n",
        "\n",
        "**ii. \\(T(n) = 3T(n/3) + n/\\log n\\)**\n",
        "\n",
        "This recurrence also doesn't match the standard form because the dividing factor (\\(n/3\\)) in the subproblems is not a constant factor of \\(n\\). The Master Theorem doesn't apply in this case.\n",
        "\n",
        "**iii. \\(T(n) = 5T(n/5) + n/\\log n\\)**\n",
        "\n",
        "Similar to the previous case, this recurrence doesn't fit the standard form. The Master Theorem doesn't apply in this case.\n",
        "\n",
        "**iv. \\(T(n) = 2T(n/3) + n^{0.75}\\)**\n",
        "\n",
        "Again, this recurrence doesn't match the standard form because the dividing factor is not of the form \\(n^{\\log_b{a}}\\). The Master Theorem doesn't apply here.\n",
        "\n",
        "**v. \\(T(n) = 7T(n/2) - 20n\\)**\n",
        "\n",
        "This recurrence does not fit the standard form of the Master Theorem because the subtraction term (\\(-20n\\)) is not of the form \\(f(n)\\) that is additive in the recurrence relation. The Master Theorem doesn't apply in this case.\n",
        "\n",
        "In summary, the Master Theorem doesn't apply to any of the given recurrence relations because they don't conform to the standard form required by the theorem."
      ],
      "metadata": {
        "id": "I34VlZ3oOMPo"
      }
    },
    {
      "cell_type": "markdown",
      "source": [
        "**Reflection:**\n",
        "\n",
        "I gained a deeper understanding of how to analyze and classify recurrence relations, especially regarding the applicability of the Master Theorem. I learned how to implement recursive algorithms for solving various recurrence relations and gained hands-on experience in coding these solutions. Through the analysis of different recurrences, I improved my knowledge of time complexity analysis and how it relates to algorithm efficiency. I honed my ability to break down complex problems into simpler, recursive forms, which is a fundamental skill in algorithmic thinking."
      ],
      "metadata": {
        "id": "H4ofXB48Q1_P"
      }
    },
    {
      "cell_type": "markdown",
      "source": [
        "### **Problem 8:**\n",
        "\n",
        "You are given a set of five items, each with its weight and value. The goal is to select a subset of these items to maximize the combined value while ensuring that the total weight of the selected items does not exceed a given weight limit, W. Use dynamic programming to solve this problem.\n",
        "\n",
        "![image.png](data:image/png;base64,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)\n",
        "\n",
        "Weight limit, W = 9\n",
        "Find the maximum combined value that can be achieved by selecting items from the table while respecting the weight limit. Use dynamic programming to determine the optimal subset of items to place in the knapsack to maximize the total value."
      ],
      "metadata": {
        "id": "xKwE0xuxSa5-"
      }
    },
    {
      "cell_type": "markdown",
      "source": [
        "### **Solution 8:**\n",
        "\n",
        "The Knapsack Problem is a classic optimization problem that involves selecting a subset of items from a given set while respecting a weight limit, with the objective of maximizing the total value of the selected items. In the presented problem:\n",
        "\n",
        "1. Items: You are given a set of five items, each with its weight and value. The table provides this information for each item.\n",
        "\n",
        "2. Weight Limit (W): There is a constraint on the total weight that can be carried, specified by the weight limit, W. In this case, W is set to 9 units.\n",
        "\n",
        "3. Objective: The goal is to determine the maximum combined value that can be achieved by selecting a subset of items from the given set, considering both the value and weight of each item.\n",
        "\n",
        "4. Constraints: The key constraint is that the total weight of the selected items cannot exceed the weight limit, W. This means that you must choose items strategically to maximize the total value while staying within the weight limit.\n",
        "\n",
        "To solve this problem, dynamic programming is employed. A 2D array (dp) is used to compute the maximum value achievable for different combinations of items and weights, starting from the smallest subproblem and building up to the main problem. The solution keeps track of the selected items that contribute to the maximum value while respecting the weight limit.\n",
        "\n",
        "![image.png](data:image/png;base64,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)"
      ],
      "metadata": {
        "id": "hDFVyexXTnI2"
      }
    },
    {
      "cell_type": "code",
      "source": [
        "def knapsack(items, W):\n",
        "    n = len(items)\n",
        "    dp = [[0] * (W + 1) for _ in range(n + 1)]\n",
        "\n",
        "    for i in range(n + 1):\n",
        "        for w in range(W + 1):\n",
        "            if i == 0 or w == 0:\n",
        "                dp[i][w] = 0\n",
        "            elif items[i - 1][0] <= w:\n",
        "                dp[i][w] = max(items[i - 1][1] + dp[i - 1][w - items[i - 1][0]], dp[i - 1][w])\n",
        "            else:\n",
        "                dp[i][w] = dp[i - 1][w]\n",
        "\n",
        "    selected_items = []\n",
        "    i, w = n, W\n",
        "    while i > 0 and w > 0:\n",
        "        if dp[i][w] != dp[i - 1][w]:\n",
        "            selected_items.append(i)\n",
        "            w -= items[i - 1][0]\n",
        "        i -= 1\n",
        "\n",
        "    return dp[n][W], selected_items\n",
        "\n",
        "# Item Table: (weight, value)\n",
        "items = [(2, 5), (3, 8), (4, 7), (5, 10), (9, 15)]\n",
        "W = 9\n",
        "\n",
        "max_value, selected_items = knapsack(items, W)\n",
        "\n",
        "print(\"Maximum Combined Value:\", max_value)\n",
        "print(\"Selected Items:\", selected_items)\n"
      ],
      "metadata": {
        "colab": {
          "base_uri": "https://localhost:8080/"
        },
        "id": "Lrrd1MyiU16G",
        "outputId": "5acc7fd1-cb8e-45f9-e933-bc1fd183de55"
      },
      "execution_count": 6,
      "outputs": [
        {
          "output_type": "stream",
          "name": "stdout",
          "text": [
            "Maximum Combined Value: 20\n",
            "Selected Items: [3, 2, 1]\n"
          ]
        }
      ]
    },
    {
      "cell_type": "markdown",
      "source": [
        "\n",
        "\n",
        "```\n",
        "function knapsack(items, W):\n",
        "    n = number of items\n",
        "    dp = initialize a 2D array of size (n + 1) x (W + 1) to store maximum values\n",
        "    \n",
        "    for i from 0 to n:\n",
        "        for w from 0 to W:\n",
        "            if i == 0 or w == 0:\n",
        "                dp[i][w] = 0\n",
        "            else if items[i-1].weight <= w:\n",
        "                dp[i][w] = max(items[i-1].value + dp[i-1][w - items[i-1].weight], dp[i-1][w])\n",
        "            else:\n",
        "                dp[i][w] = dp[i-1][w]\n",
        "    \n",
        "    selected_items = an empty list\n",
        "    i = n\n",
        "    w = W\n",
        "    while i > 0 and w > 0:\n",
        "        if dp[i][w] != dp[i-1][w]:\n",
        "            selected_items.append(i)\n",
        "            w -= items[i-1].weight\n",
        "        i -= 1\n",
        "    \n",
        "    return dp[n][W], selected_items\n",
        "\n",
        "```\n",
        "* items is an array of items, where each item has a weight and a value.\n",
        "* W is the weight limit.\n",
        "* dp is a 2D array used for dynamic programming.\n",
        "* The outer two loops iterate through all items and weight values to calculate the maximum value for different combinations.\n",
        "* The selected_items list keeps track of the items selected for the knapsack based on the dynamic programming results.\n",
        "* The function returns the maximum combined value and the selected items that fit within the weight limit.\n"
      ],
      "metadata": {
        "id": "IaCM9J80U8uF"
      }
    },
    {
      "cell_type": "markdown",
      "source": [
        "**Reflection:**\n",
        "\n",
        "I learned how dynamic programming can be applied to solve combinatorial optimization problems like the 0/1 knapsack problem efficiently. I gained insight into creating and populating a dynamic programming table to keep track of intermediate solutions and subproblems. I learned how to determine the optimal selection of items to maximize the value while staying within the weight constraint of the knapsack. I acquired practical knowledge of implementing the knapsack algorithm in Python, which can be applied to various scenarios involving resource allocation."
      ],
      "metadata": {
        "id": "h3ODB4LpV2bA"
      }
    },
    {
      "cell_type": "markdown",
      "source": [
        "### **Problem 9:**\n",
        "\n",
        "Your friends are venturing into time-series data mining, where they analyze sequences of events occurring over time, such as customer activities on an e-commerce platform. They want to efficiently identify specific patterns or subsequences of events within a larger dataset. The task is to determine whether a shorter sequence S' of m events is a subsequence of a longer sequence S of n events, with the possibility of repeated events.\n",
        "\n",
        "Sequence S: A long sequence of n events.\n",
        "Sequence S': A shorter sequence of m events.\n",
        "Each event in S' can appear multiple times in S.\n",
        "A sequence S' is considered a subsequence of S if you can remove certain events from S while preserving their order to obtain S'.\n",
        "\n",
        "**Objective:** Design an efficient algorithm that, given sequences S and S', both potentially containing repeated events, can determine in O(m + n) time whether S' is a subsequence of S. This algorithm should cater to the needs of time-series data mining, where the order of events is crucial for pattern identification.\n",
        "\n",
        "Your algorithm should efficiently handle these sequences, potentially with multiple occurrences of events, and quickly ascertain whether S' can be found within S while respecting the order of events."
      ],
      "metadata": {
        "id": "m3RSP_W8VNMr"
      }
    },
    {
      "cell_type": "markdown",
      "source": [
        "### **Solution 9:**\n",
        "\n",
        "The problem involves identifying whether a shorter sequence, denoted as S', is a subsequence of a longer sequence, denoted as S. Sequences here represent events or actions that occur over time, such as customer activities on an e-commerce platform.\n",
        "\n",
        "Key characteristics and goals of the problem:\n",
        "\n",
        "1. Sequences S and S':\n",
        "Sequence S is a long sequence of n events, representing a stream of events over time. These events could include actions like \"add to cart,\" \"view item,\" or \"checkout.\"\n",
        "Sequence S' is a shorter sequence of m events, representing a specific pattern or sequence of interest. It could be a combination of events that you want to identify within the larger sequence.\n",
        "\n",
        "2. Repetition:\n",
        "The events in S' can occur multiple times within S. This means that if you find the same event multiple times in S', you need to find corresponding events in S for each occurrence of that event in S'.\n",
        "\n",
        "3. Subsequence:\n",
        "A sequence S' is considered a subsequence of S if it can be found within S while preserving the order of events.\n",
        "For example, if S' is the sequence [\"add to cart\", \"view item\", \"checkout\"], and in S, you have events like [\"event1\", \"add to cart\", \"event2\", \"view item\", \"event3\", \"checkout\", \"event4\"], then S' is a subsequence of S because you can find these events within S while maintaining their order.\n",
        "\n",
        "4. Efficiency:\n",
        "The goal is to design an efficient algorithm that can determine in O(m + n) time whether S' is a subsequence of S, where m is the length of S' and n is the length of S.\n",
        "\n",
        "This problem is relevant in various domains, including time-series data mining and pattern recognition. It allows your friends to identify specific patterns or sequences of interest within a larger dataset of events, and it's crucial for understanding customer behavior, detecting anomalies, or recognizing specific actions within a time-series dataset. The algorithm provided earlier offers an efficient way to solve this problem while preserving the order of events and considering the possibility of repeated events."
      ],
      "metadata": {
        "id": "Infoiq4Ldc49"
      }
    },
    {
      "cell_type": "code",
      "source": [
        "def is_subsequence(S, S_prime):\n",
        "    n = len(S)\n",
        "    m = len(S_prime)\n",
        "    i, j = 0, 0\n",
        "\n",
        "    while i < n and j < m:\n",
        "        if S[i] == S_prime[j]:\n",
        "            j += 1\n",
        "        i += 1\n",
        "\n",
        "    return j == m\n",
        "\n",
        "# Example usage:\n",
        "S = [\"event1\", \"event2\", \"event3\", \"event4\", \"event5\", \"event1\", \"event6\"]\n",
        "S_prime = [\"event1\", \"event2\", \"event4\"]\n",
        "\n",
        "result = is_subsequence(S, S_prime)\n",
        "\n",
        "if result:\n",
        "    print(\"S' is a subsequence of S.\")\n",
        "else:\n",
        "    print(\"S' is not a subsequence of S.\")\n",
        "\n"
      ],
      "metadata": {
        "colab": {
          "base_uri": "https://localhost:8080/"
        },
        "id": "l9xmXar7eDfQ",
        "outputId": "a9544a68-9982-4b16-ffc2-0466fd6784c8"
      },
      "execution_count": 8,
      "outputs": [
        {
          "output_type": "stream",
          "name": "stdout",
          "text": [
            "S' is a subsequence of S.\n"
          ]
        }
      ]
    },
    {
      "cell_type": "markdown",
      "source": [
        "\n",
        "\n",
        "```\n",
        "function isSubsequence(S, S'):\n",
        "    n = length of S\n",
        "    m = length of S'\n",
        "    i, j = 0, 0\n",
        "    \n",
        "    while i < n and j < m:\n",
        "        if S[i] == S'[j]:\n",
        "            j = j + 1\n",
        "        i = i + 1\n",
        "    \n",
        "    return j == m\n",
        "\n",
        "```\n",
        "\n",
        "* S is the longer sequence of events.\n",
        "* S' is the shorter sequence of events that we want to check if it's a subsequence of S.\n",
        "* i is a pointer for the index in sequence S.\n",
        "* j is a pointer for the index in sequence S'.\n",
        "\n",
        "The algorithm iterates through both sequences, moving the pointers i and j forward. If the events at the current positions match, the j pointer advances. The algorithm continues until it finds a complete subsequence (j == m) or exhausts either of the sequences. If j equals the length of S' (m), it means all events in S' were found in S in the correct order, and S' is a subsequence of S.\n"
      ],
      "metadata": {
        "id": "ednV_QzHeSkr"
      }
    },
    {
      "cell_type": "markdown",
      "source": [
        "**Reflection:**\n",
        "\n",
        "In solving the problem of identifying subsequences in time-series data, I learned about the importance of developing efficient algorithms that can handle complex scenarios. This problem required ensuring that a shorter sequence of events, possibly with repetitions, could be recognized within a longer sequence while preserving the order of events. ChatGPT provided a clear pseudocode that laid the foundation for my code implementation, making the development process much smoother. The algorithm efficiently checks for subsequence membership in O(m + n) time, offering a practical solution for time-series data mining. This experience underscored the significance of well-defined algorithms and how leveraging ChatGPT's guidance and pseudocode simplified the solution development process, helping me overcome the problem's complexities efficiently."
      ],
      "metadata": {
        "id": "MfsSABlce2TJ"
      }
    },
    {
      "cell_type": "markdown",
      "source": [
        "### **Problem 10:**\n",
        "\n",
        "Prove by induction that in any binary tree, the number of nodes with two children is exactly one less than the number of leaves."
      ],
      "metadata": {
        "id": "k6k8LlFhhQ-g"
      }
    },
    {
      "cell_type": "markdown",
      "source": [
        "### **Solution 10:**\n",
        "\n",
        "**Base Case (n = 1):**\n",
        "In a binary tree with only one node, there are 0 nodes with two children (internal nodes) and 1 leaf. The base case holds as 0 is indeed one less than 1.\n",
        "\n",
        "**Induction Hypothesis:**\n",
        "Assume that in any binary tree with 'n' nodes, the number of nodes with two children is one less than the number of leaves.\n",
        "\n",
        "**Induction Step:**\n",
        "Now, let's consider a binary tree with 'n + 1' nodes.\n",
        "\n",
        "1. If the new node added is a leaf node (i.e., has no children), then the number of leaves increases by 1, and the number of nodes with two children remains the same. The induction hypothesis holds.\n",
        "\n",
        "2. If the new node added has one child, it doesn't affect the count of leaves or nodes with two children.\n",
        "\n",
        "3. If the new node added has two children, then the number of nodes with two children increases by 1, and the number of leaves remains the same.\n",
        "\n",
        "In both cases 1 and 3, the relationship between the number of nodes with two children and leaves remains as \"one less.\" Therefore, by the induction step, the hypothesis is proven for 'n + 1.'\n",
        "\n",
        "Thus, by induction, we can conclude that in any binary tree, the number of nodes with two children is exactly one less than the number of leaves."
      ],
      "metadata": {
        "id": "XdKrwaVSn_cF"
      }
    },
    {
      "cell_type": "code",
      "source": [
        "class Node:\n",
        "    def __init__(self, value):\n",
        "        self.value = value\n",
        "        self.left = None\n",
        "        self.right = None\n",
        "\n",
        "def count_nodes_with_two_children_and_leaves(root):\n",
        "    if root is None:\n",
        "        return 0, 0\n",
        "\n",
        "    if root.left is None and root.right is None:\n",
        "        return 0, 1\n",
        "\n",
        "    left_nodes_with_two_children, left_leaves = count_nodes_with_two_children_and_leaves(root.left)\n",
        "    right_nodes_with_two_children, right_leaves = count_nodes_with_two_children_and_leaves(root.right)\n",
        "\n",
        "    total_nodes_with_two_children = left_nodes_with_two_children + right_nodes_with_two_children\n",
        "\n",
        "    if root.left is not None and root.right is not None:\n",
        "        total_nodes_with_two_children += 1\n",
        "\n",
        "    total_leaves = left_leaves + right_leaves\n",
        "\n",
        "    return total_nodes_with_two_children, total_leaves\n",
        "\n",
        "# Build a sample binary tree\n",
        "root = Node(1)\n",
        "root.left = Node(2)\n",
        "root.right = Node(3)\n",
        "root.left.left = Node(4)\n",
        "root.left.right = Node(5)\n",
        "root.right.left = Node(6)\n",
        "\n",
        "# Count nodes with two children and leaves\n",
        "nodes_with_two_children, leaves = count_nodes_with_two_children_and_leaves(root)\n",
        "\n",
        "# Check if the statement holds\n",
        "if nodes_with_two_children == leaves - 1:\n",
        "    print(\"The statement holds. Nodes with two children:\", nodes_with_two_children, \"Leaves:\", leaves)\n",
        "else:\n",
        "    print(\"The statement does not hold.\")\n"
      ],
      "metadata": {
        "colab": {
          "base_uri": "https://localhost:8080/"
        },
        "id": "GRKd13OkoZD9",
        "outputId": "effbcda2-6539-4b45-c804-2d30eca38672"
      },
      "execution_count": 9,
      "outputs": [
        {
          "output_type": "stream",
          "name": "stdout",
          "text": [
            "The statement holds. Nodes with two children: 2 Leaves: 3\n"
          ]
        }
      ]
    },
    {
      "cell_type": "markdown",
      "source": [
        "\n",
        "\n",
        "```\n",
        "Function countNodesWithTwoChildrenAndLeaves(node):\n",
        "    if node is null:\n",
        "        return 0, 0\n",
        "    if node has no children:\n",
        "        return 0, 1\n",
        "    \n",
        "    leftNodesWithTwoChildren, leftLeaves = countNodesWithTwoChildrenAndLeaves(node.left)\n",
        "    rightNodesWithTwoChildren, rightLeaves = countNodesWithTwoChildrenAndLeaves(node.right)\n",
        "\n",
        "    totalNodesWithTwoChildren = leftNodesWithTwoChildren + rightNodesWithTwoChildren\n",
        "\n",
        "    if node has two children:\n",
        "        totalNodesWithTwoChildren = totalNodesWithTwoChildren + 1\n",
        "\n",
        "    totalLeaves = leftLeaves + rightLeaves\n",
        "\n",
        "    return totalNodesWithTwoChildren, totalLeaves\n",
        "\n",
        "# Build a sample binary tree\n",
        "root = Node(1)\n",
        "root.left = Node(2)\n",
        "root.right = Node(3)\n",
        "root.left.left = Node(4)\n",
        "root.left.right = Node(5)\n",
        "root.right.left = Node(6)\n",
        "\n",
        "# Count nodes with two children and leaves\n",
        "nodesWithTwoChildren, leaves = countNodesWithTwoChildrenAndLeaves(root)\n",
        "\n",
        "# Check if the statement holds\n",
        "if nodesWithTwoChildren == leaves - 1:\n",
        "    Print(\"The statement holds. Nodes with two children:\", nodesWithTwoChildren, \"Leaves:\", leaves)\n",
        "else:\n",
        "    Print(\"The statement does not hold.\")\n",
        "\n",
        "```\n",
        "\n"
      ],
      "metadata": {
        "id": "D0-spfLoodxD"
      }
    },
    {
      "cell_type": "markdown",
      "source": [
        "**Reflection:**\n",
        "\n",
        "The process of solving and understanding the binary tree problem, where we proved that the number of nodes with two children is one less than the number of leaves, was a valuable learning experience. It involved applying mathematical induction to a real-world problem in data structures and algorithms. The recursive nature of the algorithm reinforced my understanding of tree traversal. During this journey, ChatGPT played a pivotal role by providing clear explanations and helping me verify the correctness of my code. It served as an accessible source of guidance and inspiration throughout the problem-solving process. The experience underscored the importance of both theoretical and practical aspects of computer science, enriching my problem-solving skills and enhancing my confidence in tackling complex challenges."
      ],
      "metadata": {
        "id": "SbB1ncxjolg0"
      }
    }
  ],
  "metadata": {
    "kernelspec": {
      "display_name": "Python 3",
      "language": "python",
      "name": "python3"
    },
    "language_info": {
      "name": "python",
      "version": "3.9.6 (default, Oct 18 2022, 12:41:40) \n[Clang 14.0.0 (clang-1400.0.29.202)]"
    },
    "orig_nbformat": 4,
    "vscode": {
      "interpreter": {
        "hash": "31f2aee4e71d21fbe5cf8b01ff0e069b9275f58929596ceb00d14d90e3e16cd6"
      }
    },
    "colab": {
      "provenance": []
    }
  },
  "nbformat": 4,
  "nbformat_minor": 0
}